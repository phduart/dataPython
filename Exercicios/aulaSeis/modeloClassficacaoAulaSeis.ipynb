{
 "cells": [
  {
   "cell_type": "code",
   "execution_count": 40,
   "metadata": {},
   "outputs": [
    {
     "name": "stdout",
     "output_type": "stream",
     "text": [
      "acurácia: 82.67%\n"
     ]
    }
   ],
   "source": [
    "#Importando libs para o modelo\n",
    "import pandas as pd\n",
    "from sklearn.model_selection import train_test_split \n",
    "from sklearn.tree import DecisionTreeClassifier\n",
    "from sklearn.metrics import accuracy_score\n",
    "\n",
    "# Lendo arquivo, passando como param que o separador de ser ';' e a definição de decimal dever ser por ',' \n",
    "# e valores -999 na feature_2 serão tratados como null/vazio\n",
    "df = pd.read_csv('/Users/pauloduarte/JQ_Academy/Aulas/aulaCinco/dados_9.csv', sep=';', decimal=',', na_values={'Feature_2':'-999'})\n",
    "\n",
    "# Limpando dados e tratando erros\n",
    "newDF = df.copy() #Criando copia dos dados para teste\n",
    "newDF['Label'] = newDF['Label'].fillna(method='ffill')\n",
    "newDF = newDF.dropna()\n",
    "\n",
    "#Iniciando modelo\n",
    "#split entre features e label\n",
    "X = newDF.drop(columns= ['Label'])\n",
    "y = newDF.loc[:, 'Label']\n",
    "\n",
    "# separação entre dados de treino e teste\n",
    "X_train, X_test, y_train, y_test = train_test_split(X, y, test_size=0.3, random_state=563)\n",
    "\n",
    "# treinando o modelo\n",
    "modelo = DecisionTreeClassifier(random_state=42)\n",
    "modelo.fit(X_train, y_train)\n",
    "y_pred = modelo.predict(X_test)\n",
    "\n",
    "# avaliando o modelo\n",
    "acc_modelo = accuracy_score(y_test, y_pred) * 100\n",
    "print(f'acurácia: {acc_modelo:.2f}%')"
   ]
  }
 ],
 "metadata": {
  "kernelspec": {
   "display_name": "Python 3",
   "language": "python",
   "name": "python3"
  },
  "language_info": {
   "codemirror_mode": {
    "name": "ipython",
    "version": 3
   },
   "file_extension": ".py",
   "mimetype": "text/x-python",
   "name": "python",
   "nbconvert_exporter": "python",
   "pygments_lexer": "ipython3",
   "version": "3.7.6"
  }
 },
 "nbformat": 4,
 "nbformat_minor": 2
}
