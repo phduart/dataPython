{
 "cells": [
  {
   "cell_type": "code",
   "execution_count": 0,
   "metadata": {
    "colab": {
     "base_uri": "https://localhost:8080/",
     "height": 206
    },
    "colab_type": "code",
    "executionInfo": {
     "elapsed": 1305,
     "status": "ok",
     "timestamp": 1574862301343,
     "user": {
      "displayName": "Paulo H. Duarte",
      "photoUrl": "https://lh3.googleusercontent.com/a-/AAuE7mAkC4g0mKLRF_fauwJzVpnzsFU62fml_N0ZZC4PyA=s64",
      "userId": "00324083358193063760"
     },
     "user_tz": 180
    },
    "id": "D238wKxb3riu",
    "outputId": "67ac4372-7307-4f42-98e9-1ce2957ed8b9"
   },
   "outputs": [
    {
     "data": {
      "text/html": [
       "<div>\n",
       "<style scoped>\n",
       "    .dataframe tbody tr th:only-of-type {\n",
       "        vertical-align: middle;\n",
       "    }\n",
       "\n",
       "    .dataframe tbody tr th {\n",
       "        vertical-align: top;\n",
       "    }\n",
       "\n",
       "    .dataframe thead th {\n",
       "        text-align: right;\n",
       "    }\n",
       "</style>\n",
       "<table border=\"1\" class=\"dataframe\">\n",
       "  <thead>\n",
       "    <tr style=\"text-align: right;\">\n",
       "      <th></th>\n",
       "      <th>sepal_length</th>\n",
       "      <th>sepal_width</th>\n",
       "      <th>petal_length</th>\n",
       "      <th>petal_width</th>\n",
       "      <th>species</th>\n",
       "    </tr>\n",
       "  </thead>\n",
       "  <tbody>\n",
       "    <tr>\n",
       "      <th>0</th>\n",
       "      <td>5.1</td>\n",
       "      <td>3.5</td>\n",
       "      <td>1.4</td>\n",
       "      <td>0.2</td>\n",
       "      <td>setosa</td>\n",
       "    </tr>\n",
       "    <tr>\n",
       "      <th>1</th>\n",
       "      <td>4.9</td>\n",
       "      <td>3.0</td>\n",
       "      <td>1.4</td>\n",
       "      <td>0.2</td>\n",
       "      <td>setosa</td>\n",
       "    </tr>\n",
       "    <tr>\n",
       "      <th>2</th>\n",
       "      <td>4.7</td>\n",
       "      <td>3.2</td>\n",
       "      <td>1.3</td>\n",
       "      <td>0.2</td>\n",
       "      <td>setosa</td>\n",
       "    </tr>\n",
       "    <tr>\n",
       "      <th>3</th>\n",
       "      <td>4.6</td>\n",
       "      <td>3.1</td>\n",
       "      <td>1.5</td>\n",
       "      <td>0.2</td>\n",
       "      <td>setosa</td>\n",
       "    </tr>\n",
       "    <tr>\n",
       "      <th>4</th>\n",
       "      <td>5.0</td>\n",
       "      <td>3.6</td>\n",
       "      <td>1.4</td>\n",
       "      <td>0.2</td>\n",
       "      <td>setosa</td>\n",
       "    </tr>\n",
       "  </tbody>\n",
       "</table>\n",
       "</div>"
      ],
      "text/plain": [
       "   sepal_length  sepal_width  petal_length  petal_width species\n",
       "0           5.1          3.5           1.4          0.2  setosa\n",
       "1           4.9          3.0           1.4          0.2  setosa\n",
       "2           4.7          3.2           1.3          0.2  setosa\n",
       "3           4.6          3.1           1.5          0.2  setosa\n",
       "4           5.0          3.6           1.4          0.2  setosa"
      ]
     },
     "execution_count": 7,
     "metadata": {
      "tags": []
     },
     "output_type": "execute_result"
    }
   ],
   "source": [
    "import pandas as pd\n",
    "iris = pd.read_csv(\"/iris.txt\")\n",
    "iris.head()"
   ]
  },
  {
   "cell_type": "markdown",
   "metadata": {
    "colab_type": "text",
    "id": "7_DVE7LV3ri4"
   },
   "source": [
    "**Exercício 1**\n",
    "- Pedir para o usuário um número inteiro maior do que ou igual a 2\n",
    "- Verificar se a condição acima é satisfeita\n",
    "- Criar uma lista de valores que vai de 1 até o número digitado pelo usuário\n",
    "- Somar todos os valores da lista criada\n",
    "- Printar na tela a soma obtida"
   ]
  },
  {
   "cell_type": "code",
   "execution_count": 0,
   "metadata": {
    "colab": {
     "base_uri": "https://localhost:8080/",
     "height": 86
    },
    "colab_type": "code",
    "executionInfo": {
     "elapsed": 5016,
     "status": "ok",
     "timestamp": 1574792271688,
     "user": {
      "displayName": "Paulo H. Duarte",
      "photoUrl": "https://lh3.googleusercontent.com/a-/AAuE7mAkC4g0mKLRF_fauwJzVpnzsFU62fml_N0ZZC4PyA=s64",
      "userId": "00324083358193063760"
     },
     "user_tz": 180
    },
    "id": "N55-wbZI3ri7",
    "outputId": "f1ca0ea5-a25b-4e51-fd48-655e0661e9a2"
   },
   "outputs": [
    {
     "name": "stdout",
     "output_type": "stream",
     "text": [
      "Insira um numero mais que 2: 2\n",
      "Criando lista ...  [1]\n",
      "Criando lista ...  [1, 2]\n",
      "Soma dos valores da lista: 3\n"
     ]
    }
   ],
   "source": [
    "numInput = int(input(\"Insira um numero mais que 2: \"))\n",
    "if(numInput < 2):\n",
    "    print(\"Não é maior ou igual a 2.\")\n",
    "    exit()\n",
    "lista = []\n",
    "sumIndexList = 0\n",
    "for i in range(1, numInput+1):\n",
    "    lista.append(i)\n",
    "    sumIndexList += i\n",
    "    print(\"Criando lista ... \", lista)\n",
    "print(f\"Soma dos valores da lista: {sumIndexList}\")"
   ]
  },
  {
   "cell_type": "markdown",
   "metadata": {
    "colab_type": "text",
    "id": "ife25n1p3rjA"
   },
   "source": [
    "**Exercício 2**\n",
    "- Escolha uma coluna dos dados iris.txt\n",
    "- Transforme essa coluna em lista\n",
    "- Calcule a média dessa coluna sem auxílio de funções, use somente o que foi aprendido até aqui"
   ]
  },
  {
   "cell_type": "code",
   "execution_count": 0,
   "metadata": {
    "colab": {
     "base_uri": "https://localhost:8080/",
     "height": 34
    },
    "colab_type": "code",
    "executionInfo": {
     "elapsed": 654,
     "status": "ok",
     "timestamp": 1574792274055,
     "user": {
      "displayName": "Paulo H. Duarte",
      "photoUrl": "https://lh3.googleusercontent.com/a-/AAuE7mAkC4g0mKLRF_fauwJzVpnzsFU62fml_N0ZZC4PyA=s64",
      "userId": "00324083358193063760"
     },
     "user_tz": 180
    },
    "id": "RoGsz50o3rjC",
    "outputId": "e98cecab-9595-4ba8-9e6a-2e032520c169"
   },
   "outputs": [
    {
     "name": "stdout",
     "output_type": "stream",
     "text": [
      "5.843333333333335\n"
     ]
    }
   ],
   "source": [
    "listaSepal = list(iris['sepal_length'])\n",
    "somaDeItens = 0.0\n",
    "for item in(listaSepal):\n",
    "    somaDeItens += float(item)\n",
    "mediaSepalLength = somaDeItens/len(listaSepal)\n",
    "print(mediaSepalLength)"
   ]
  },
  {
   "cell_type": "markdown",
   "metadata": {
    "colab_type": "text",
    "id": "lEOMFF5H3rjI"
   },
   "source": [
    "**Exercício 3**\n",
    "- Escolha uma coluna dos dados iris.txt\n",
    "- Transforme essa coluna em lista\n",
    "- Calcule a mediana dessa coluna sem auxílio de funções, use somente o que foi aprendido até aqui"
   ]
  },
  {
   "cell_type": "code",
   "execution_count": 0,
   "metadata": {
    "colab": {
     "base_uri": "https://localhost:8080/",
     "height": 34
    },
    "colab_type": "code",
    "executionInfo": {
     "elapsed": 1634,
     "status": "ok",
     "timestamp": 1574792519702,
     "user": {
      "displayName": "Paulo H. Duarte",
      "photoUrl": "https://lh3.googleusercontent.com/a-/AAuE7mAkC4g0mKLRF_fauwJzVpnzsFU62fml_N0ZZC4PyA=s64",
      "userId": "00324083358193063760"
     },
     "user_tz": 180
    },
    "id": "TxPHWa1B3rjJ",
    "outputId": "17543fcd-b6ee-4f0b-eeaf-cb4661e83106"
   },
   "outputs": [
    {
     "name": "stdout",
     "output_type": "stream",
     "text": [
      "4.5\n"
     ]
    }
   ],
   "source": [
    "listaSepalWidth = sorted(list(iris['sepal_width']))\n",
    "if(len(lista)%2 == 0):\n",
    "    #Lista tendo um tamanho par\n",
    "    print(listaSepalWidth[int(len(listaSepalWidth)/2)]+listaSepalWidth[int((len(listaSepalWidth)/2)+1)]/2) \n",
    "else:\n",
    "    #Lista tendo um tamanho impar\n",
    "    print(listaSepalWidth[round(len(listaSepalWidth)/2)])"
   ]
  },
  {
   "cell_type": "markdown",
   "metadata": {
    "colab_type": "text",
    "id": "SNyZlcxw3rjN"
   },
   "source": [
    "**Exercício 4**\n",
    "- Escolha uma coluna dos dados iris.txt\n",
    "- Transforme essa coluna em lista\n",
    "- Calcule o desvio padrão dessa coluna sem auxílio de funções, use somente o que foi aprendido até aqui"
   ]
  },
  {
   "cell_type": "code",
   "execution_count": 0,
   "metadata": {
    "colab": {
     "base_uri": "https://localhost:8080/",
     "height": 34
    },
    "colab_type": "code",
    "executionInfo": {
     "elapsed": 923,
     "status": "ok",
     "timestamp": 1574792337991,
     "user": {
      "displayName": "Paulo H. Duarte",
      "photoUrl": "https://lh3.googleusercontent.com/a-/AAuE7mAkC4g0mKLRF_fauwJzVpnzsFU62fml_N0ZZC4PyA=s64",
      "userId": "00324083358193063760"
     },
     "user_tz": 180
    },
    "id": "3UXXZxcp3rjP",
    "outputId": "e3d1620c-da02-4294-841c-0c630e6dd852"
   },
   "outputs": [
    {
     "name": "stdout",
     "output_type": "stream",
     "text": [
      "0.6811222222222222\n"
     ]
    }
   ],
   "source": [
    "sumDesvioPadrao = 0\n",
    "for i in(listaSepal):\n",
    "  sumDesvioPadrao += (i - mediaSepalLength)*(i - mediaSepalLength)\n",
    "desvioPadraoSepal = (sumDesvioPadrao/len(listaSepal))\n",
    "print(desvioPadraoSepal)"
   ]
  },
  {
   "cell_type": "markdown",
   "metadata": {
    "colab_type": "text",
    "id": "YizUmWbI31H2"
   },
   "source": [
    "**Exercício 5**\n",
    "- Escolha uma coluna dos dados iris.txt\n",
    "- Transforme essa coluna em lista\n",
    "- Calcule o maior valor dessa coluna sem auxílio de funções, use somente o que foi aprendido até aqui"
   ]
  },
  {
   "cell_type": "code",
   "execution_count": 0,
   "metadata": {
    "colab": {
     "base_uri": "https://localhost:8080/",
     "height": 34
    },
    "colab_type": "code",
    "executionInfo": {
     "elapsed": 642,
     "status": "ok",
     "timestamp": 1574792340782,
     "user": {
      "displayName": "Paulo H. Duarte",
      "photoUrl": "https://lh3.googleusercontent.com/a-/AAuE7mAkC4g0mKLRF_fauwJzVpnzsFU62fml_N0ZZC4PyA=s64",
      "userId": "00324083358193063760"
     },
     "user_tz": 180
    },
    "id": "rNx1te5Z2YUn",
    "outputId": "f1c87f01-eeb0-488a-bdd7-ad63d6c41bda"
   },
   "outputs": [
    {
     "name": "stdout",
     "output_type": "stream",
     "text": [
      "7.9\n"
     ]
    }
   ],
   "source": [
    "maxNumSepal = 0\n",
    "for i in listaSepal:\n",
    "  if(i > maxNumSepal): maxNumSepal = i\n",
    "print(maxNumSepal)"
   ]
  },
  {
   "cell_type": "markdown",
   "metadata": {
    "colab_type": "text",
    "id": "NUKbwTjw31H3"
   },
   "source": [
    "**Exercício 6**\n",
    "- Escolha uma coluna dos dados iris.txt\n",
    "- Transforme essa coluna em lista\n",
    "- Calcule o menor valor dessa coluna sem auxílio de funções, use somente o que foi aprendido até aqui"
   ]
  },
  {
   "cell_type": "code",
   "execution_count": 0,
   "metadata": {
    "colab": {
     "base_uri": "https://localhost:8080/",
     "height": 34
    },
    "colab_type": "code",
    "executionInfo": {
     "elapsed": 643,
     "status": "ok",
     "timestamp": 1574792344236,
     "user": {
      "displayName": "Paulo H. Duarte",
      "photoUrl": "https://lh3.googleusercontent.com/a-/AAuE7mAkC4g0mKLRF_fauwJzVpnzsFU62fml_N0ZZC4PyA=s64",
      "userId": "00324083358193063760"
     },
     "user_tz": 180
    },
    "id": "cp6Q7xPg3kLd",
    "outputId": "6008080f-11a3-48c5-dd50-ab3badb4ccd7"
   },
   "outputs": [
    {
     "name": "stdout",
     "output_type": "stream",
     "text": [
      "4.3\n"
     ]
    }
   ],
   "source": [
    "minNumSepal = 999999999\n",
    "for i in listaSepal:\n",
    "  if(i < minNumSepal): minNumSepal = i\n",
    "print(minNumSepal)"
   ]
  },
  {
   "cell_type": "markdown",
   "metadata": {
    "colab_type": "text",
    "id": "43Krly-031H3"
   },
   "source": [
    "**Exercício 7**\n",
    "- Escolha duas colunas dos dados iris.txt\n",
    "- Transforme essas colunas em lista\n",
    "- Retorne uma lista que é a multiplicação item por item das duas listas\n",
    "- Exemplo: item de índice zero na coluna 1 é 2, item de índize zero na coluna 2 é 3. Temos que 2 * 3 == 6, insira esse valor numa lista\n",
    "- Faça isso para todos os itens das duas listas"
   ]
  },
  {
   "cell_type": "code",
   "execution_count": 0,
   "metadata": {
    "colab": {
     "base_uri": "https://localhost:8080/",
     "height": 54
    },
    "colab_type": "code",
    "executionInfo": {
     "elapsed": 990,
     "status": "ok",
     "timestamp": 1574792860672,
     "user": {
      "displayName": "Paulo H. Duarte",
      "photoUrl": "https://lh3.googleusercontent.com/a-/AAuE7mAkC4g0mKLRF_fauwJzVpnzsFU62fml_N0ZZC4PyA=s64",
      "userId": "00324083358193063760"
     },
     "user_tz": 180
    },
    "id": "ODJA3GH63-KL",
    "outputId": "882294ea-10cf-4358-df1d-e5cf7a896b0b"
   },
   "outputs": [
    {
     "name": "stdout",
     "output_type": "stream",
     "text": [
      "[7.139999999999999, 6.86, 6.11, 6.8999999999999995, 7.0, 9.18, 6.4399999999999995, 7.5, 6.16, 7.3500000000000005, 8.100000000000001, 7.68, 6.72, 4.73, 6.96, 8.55, 7.0200000000000005, 7.139999999999999, 9.69, 7.6499999999999995, 9.18, 7.6499999999999995, 4.6, 8.67, 9.12, 8.0, 8.0, 7.800000000000001, 7.279999999999999, 7.5200000000000005, 7.68, 8.100000000000001, 7.800000000000001, 7.699999999999999, 7.3500000000000005, 6.0, 7.15, 7.3500000000000005, 5.720000000000001, 7.6499999999999995, 6.5, 5.8500000000000005, 5.720000000000001, 8.0, 9.69, 6.72, 8.16, 6.4399999999999995, 7.949999999999999, 7.0, 32.9, 28.8, 33.81, 22.0, 29.9, 25.650000000000002, 29.61, 16.17, 30.359999999999996, 20.28, 17.5, 24.78, 24.0, 28.669999999999998, 20.16, 29.480000000000004, 25.2, 23.779999999999998, 27.900000000000002, 21.84, 28.32, 24.4, 30.87, 28.669999999999998, 27.52, 29.04, 32.64, 33.5, 27.0, 19.95, 20.9, 20.35, 22.619999999999997, 30.599999999999998, 24.3, 27.0, 31.490000000000002, 27.720000000000002, 22.959999999999997, 22.0, 24.200000000000003, 28.059999999999995, 23.2, 16.5, 23.52, 23.94, 23.94, 26.66, 15.299999999999999, 23.369999999999997, 37.8, 29.58, 41.89, 35.279999999999994, 37.699999999999996, 50.16, 22.05, 45.989999999999995, 38.86, 43.92, 33.15, 33.92, 37.4, 28.5, 29.58, 33.92, 35.75, 51.59, 53.13, 30.0, 39.330000000000005, 27.44, 51.59, 30.87, 38.190000000000005, 43.2, 29.759999999999998, 29.89, 35.839999999999996, 41.76, 45.14, 50.56, 35.839999999999996, 32.129999999999995, 34.16, 46.97, 35.279999999999994, 35.2, 28.799999999999997, 37.260000000000005, 37.519999999999996, 35.19, 29.58, 40.120000000000005, 38.190000000000005, 34.84, 31.5, 33.800000000000004, 33.480000000000004, 30.09]\n"
     ]
    }
   ],
   "source": [
    "listaPetal = list(iris['petal_length'])\n",
    "multiplusLista = []\n",
    "for x, y in zip(listaSepal, listaPetal):\n",
    "  multiplusLista.append(x*y)\n",
    "print(multiplusLista)"
   ]
  },
  {
   "cell_type": "markdown",
   "metadata": {
    "colab_type": "text",
    "id": "COA4DRto31H4"
   },
   "source": [
    "**Exercício 8**\n",
    "- Crie uma lista com 100 itens de valores aleatórios entre 1 e 10 com auxílio da biblioteca random do Python\n",
    "- Retorne a moda, valor que mais vezes foi apareceu na lista\n",
    "- Retorne quantas vezes ele apareceu\n",
    "- Retorne a frequência relativa desse valor"
   ]
  },
  {
   "cell_type": "code",
   "execution_count": 0,
   "metadata": {
    "colab": {
     "base_uri": "https://localhost:8080/",
     "height": 34
    },
    "colab_type": "code",
    "executionInfo": {
     "elapsed": 602,
     "status": "ok",
     "timestamp": 1574807781318,
     "user": {
      "displayName": "Paulo H. Duarte",
      "photoUrl": "https://lh3.googleusercontent.com/a-/AAuE7mAkC4g0mKLRF_fauwJzVpnzsFU62fml_N0ZZC4PyA=s64",
      "userId": "00324083358193063760"
     },
     "user_tz": 180
    },
    "id": "obE0l5Vp-tuY",
    "outputId": "32dea9a8-41ec-4f31-e1dc-df86f76d68f9"
   },
   "outputs": [
    {
     "name": "stdout",
     "output_type": "stream",
     "text": [
      "O numero mais frequente é 9, pareceu 13 vezes, sua frequência relativa é 0.13\n"
     ]
    }
   ],
   "source": [
    "import random\n",
    "listaModa = [random.randint(1, 11) for iter in range(100)]\n",
    "numMaisFrequente = 0\n",
    "frequenciaNum = 0\n",
    "for i in range(1, 11):\n",
    "  if(listaModa.count(i) > frequenciaNum):\n",
    "    frequenciaNum = listaModa.count(i)\n",
    "    numMaisFrequente = i\n",
    "print(f\"O numero mais frequente é {numMaisFrequente}, pareceu {frequenciaNum} vezes, sua frequência relativa é {frequenciaNum/len(listaModa)}\")"
   ]
  },
  {
   "cell_type": "markdown",
   "metadata": {
    "colab_type": "text",
    "id": "c1yHriFN31H5"
   },
   "source": [
    "**Exercício 9**\n",
    "- Escolha duas colunas dos dados iris.txt\n",
    "- Retorne o Coeficiente de Correlação das duas colunas\n",
    "- Não use funções auxiliares, use somente o que foi aprendido até aqui"
   ]
  },
  {
   "cell_type": "code",
   "execution_count": 0,
   "metadata": {
    "colab": {},
    "colab_type": "code",
    "id": "6uq-lwvR-x6p"
   },
   "outputs": [],
   "source": []
  },
  {
   "cell_type": "markdown",
   "metadata": {
    "colab_type": "text",
    "id": "mlk53iOy31H6"
   },
   "source": [
    "**Exercício 10**\n",
    "- Dada uma lista [1, 2, 4, 5, 6, 7, 7, 7, 8, 9, 10, 1, 1, 2, 2, 4]\n",
    "- Remover os duplicados dessa lista\n",
    "- Printar a lista sem os duplicados\n",
    "- Printar quantos itens duplicados foram excluídos"
   ]
  },
  {
   "cell_type": "code",
   "execution_count": 0,
   "metadata": {
    "colab": {
     "base_uri": "https://localhost:8080/",
     "height": 34
    },
    "colab_type": "code",
    "executionInfo": {
     "elapsed": 597,
     "status": "ok",
     "timestamp": 1574811320556,
     "user": {
      "displayName": "Paulo H. Duarte",
      "photoUrl": "https://lh3.googleusercontent.com/a-/AAuE7mAkC4g0mKLRF_fauwJzVpnzsFU62fml_N0ZZC4PyA=s64",
      "userId": "00324083358193063760"
     },
     "user_tz": 180
    },
    "id": "u_Y1IpcU_Ibq",
    "outputId": "9b7fb4db-7db7-40e1-f5e2-7f9a789d9337"
   },
   "outputs": [
    {
     "name": "stdout",
     "output_type": "stream",
     "text": [
      "Lista [1, 2, 4, 5, 6, 7, 8, 9, 10]. Foram removidos: 7\n"
     ]
    }
   ],
   "source": [
    "listaComNumDuplos = sorted([1,2,4,5,6,7,7,7,8,9,10,1,1,2,2,4])\n",
    "listaTratada = []\n",
    "numRemovidos = 0\n",
    "for i in listaComNumDuplos:\n",
    "  if i not in listaTratada:\n",
    "    listaTratada.append(i)\n",
    "  else:\n",
    "    numRemovidos += 1\n",
    "print(f\"Lista {listaTratada}. Foram removidos: {numRemovidos}\")"
   ]
  },
  {
   "cell_type": "markdown",
   "metadata": {
    "colab_type": "text",
    "id": "FPbsIdl331H6"
   },
   "source": [
    "**DESAFIO MASTER**\n",
    "- Crie um modelo naive de machine learning que faça previsão de qual classe/espécie uma planta pertence\n",
    "- Não pode usar bibliotecas avançadas. Não use NumPy, não use Pandas, não use Scikit-learn\n",
    "- DICAS:\n",
    "    - Escolha apenas algumas colunas\n",
    "    - Veja qual a média, mediana, máximo, mínico, intervalo, desvio padrão de cada classe na coluna escolhida\n",
    "    - Com condicionais tente prever usando algum ponto que você escolheu baseado nas medidas acima\n"
   ]
  },
  {
   "cell_type": "code",
   "execution_count": 0,
   "metadata": {
    "colab": {},
    "colab_type": "code",
    "id": "TcIHqchgRnVB"
   },
   "outputs": [],
   "source": []
  },
  {
   "cell_type": "markdown",
   "metadata": {
    "colab_type": "text",
    "id": "gDV1a_NSR2lj"
   },
   "source": [
    "**Exercício 1**\n",
    "- Pedir para o usuário dois números inteiros maiores do que ou iguais a 0\n",
    "- Verificar se a condição acima foi respeitada\n",
    "- Caso a condição não seja respeitada, pedir os números novamente até que a condição seja respeitada\n",
    "- Após a condição ser respeitada, printar a tabuada do maior número que foi digitado, indo de 0 até o menor número que foi digitado"
   ]
  },
  {
   "cell_type": "code",
   "execution_count": 0,
   "metadata": {
    "colab": {},
    "colab_type": "code",
    "id": "2zBs7bdrSNAy"
   },
   "outputs": [],
   "source": [
    "while True: \n",
    "  numsInput = sorted(input(\"Insira dois numeros separados por / , maiores ou igual a 0. (Exemplo: 5/9): \").split(\"/\"))\n",
    "  if(int(numsInput[0]) >=0 and int(numsInput[1]) >= 0):\n",
    "    for i in range(0, int(numsInput[0])):\n",
    "      print(int(numsInput[1])*i)\n",
    "    break\n",
    "  else:\n",
    "    print(\"********** Deve ser MAIOR ou IGUAL a ZERO **********\")"
   ]
  },
  {
   "cell_type": "markdown",
   "metadata": {
    "colab_type": "text",
    "id": "4xWjTMlRR2lk"
   },
   "source": [
    "\n",
    "**Exercício 2**\n",
    "- Pedir para o usuário um número inteiro\n",
    "- Verificar se a condição acima foi respeitada\n",
    "- Caso a condição não seja respeitada, pedir o número novamente até que a condição seja respeitada\n",
    "- Printar na tela se o número é par ou ímpar, caso seja ímpar, verificar se ele é primo"
   ]
  },
  {
   "cell_type": "code",
   "execution_count": 0,
   "metadata": {
    "colab": {
     "base_uri": "https://localhost:8080/",
     "height": 51
    },
    "colab_type": "code",
    "executionInfo": {
     "elapsed": 4930,
     "status": "ok",
     "timestamp": 1575120932874,
     "user": {
      "displayName": "Paulo H. Duarte",
      "photoUrl": "https://lh3.googleusercontent.com/a-/AAuE7mBvFIZdTv3gf3nQ7Lc_YlCi_6qa4ytvMo6a2Y2-cg=s64",
      "userId": "00324083358193063760"
     },
     "user_tz": 180
    },
    "id": "P01fqHEfTkKF",
    "outputId": "8838d5d1-0109-419b-d06c-5b71154ae0ce"
   },
   "outputs": [
    {
     "name": "stdout",
     "output_type": "stream",
     "text": [
      "Insira o um numero inteiro: 5\n",
      "É um numero impar e primo.\n"
     ]
    }
   ],
   "source": [
    "while True:\n",
    "  try:\n",
    "    numInput = int(input(\"Insira o um numero inteiro: \"))\n",
    "  except: \n",
    "    print(\"Insira um numero inteiro.\")\n",
    "  if(numInput%2 == 0):\n",
    "    print(\"É um numero par.\")\n",
    "    break\n",
    "  elif(numInput%2 != 0) :\n",
    "    divisores = 0\n",
    "    for i in range(1, numInput):\n",
    "      if(numInput%i == 0):\n",
    "        divisores += 1\n",
    "    if(divisores > 1):\n",
    "      print(\"É um numero impar.\")\n",
    "    else:\n",
    "      print(\"É um numero impar e primo.\")\n",
    "    break"
   ]
  },
  {
   "cell_type": "markdown",
   "metadata": {
    "colab_type": "text",
    "id": "zgLkjAY6R2lm"
   },
   "source": [
    "**Exercício 3**\n",
    "- Pedir para o usuário as coordenadas X e Y de um ponto no plano cartesiano\n",
    "- Mostrar na tela em qual quadrante do plano cartesiano o ponto se encontra\n",
    "- O programa deve continuar rodando enquanto o usuário não digitar \"sair\""
   ]
  },
  {
   "cell_type": "code",
   "execution_count": 0,
   "metadata": {
    "colab": {
     "base_uri": "https://localhost:8080/",
     "height": 333
    },
    "colab_type": "code",
    "executionInfo": {
     "elapsed": 8856,
     "status": "ok",
     "timestamp": 1575391477186,
     "user": {
      "displayName": "Paulo H. Duarte",
      "photoUrl": "https://lh3.googleusercontent.com/a-/AAuE7mAkC4g0mKLRF_fauwJzVpnzsFU62fml_N0ZZC4PyA=s64",
      "userId": "00324083358193063760"
     },
     "user_tz": 180
    },
    "id": "i6WEh12TjDun",
    "outputId": "4d6da983-c88c-4ebd-fa75-80dec138a811"
   },
   "outputs": [
    {
     "name": "stdout",
     "output_type": "stream",
     "text": [
      "Insira as coordenadas X e Y do ponto. Separados por ','. Exemplo (2.3,5.0) OU digite 'sair' para encerar o programa. 1,3\n"
     ]
    },
    {
     "data": {
      "image/png": "[encoded data removed]",
      "text/plain": [
       "<Figure size 432x288 with 1 Axes>"
      ]
     },
     "metadata": {
      "tags": []
     },
     "output_type": "display_data"
    },
    {
     "name": "stdout",
     "output_type": "stream",
     "text": [
      "O ponto está no segundo quadrante do plano.\n",
      "Insira as coordenadas X e Y do ponto. Separados por ','. Exemplo (2.3,5.0) OU digite 'sair' para encerar o programa. sair\n"
     ]
    }
   ],
   "source": [
    "import matplotlib.pyplot as plt\n",
    "while True:\n",
    "  coordenadasInput = input(\"Insira as coordenadas X e Y do ponto. Separados por ','. Exemplo (2.3,5.0) OU digite 'sair' para encerar o programa. \").split(\",\")\n",
    "  if(coordenadasInput[0] == 'sair'):\n",
    "    print(\"Saindo....\")\n",
    "    break\n",
    "  plt.plot(float(coordenadasInput[0]), float(coordenadasInput[1]),'bo')\n",
    "  plt.legend([\"Ponto\"])\n",
    "  plt.title(\"Plano Cartesiano\")\n",
    "  plt.show()\n",
    "  if(float(coordenadasInput[0]) > 0 and float(coordenadasInput[1]) > 0):\n",
    "    print(\"O ponto está no segundo quadrante do plano.\")\n",
    "  elif(float(coordenadasInput[0]) < 0 and float(coordenadasInput[1]) > 0):\n",
    "    print(\"O ponto está no primeiro quadrante do plano.\")\n",
    "  elif(float(coordenadasInput[0]) < 0 and float(coordenadasInput[1]) < 0):\n",
    "    print(\"O ponto está no terceiro quadrante do plano.\")\n",
    "  elif(float(coordenadasInput[0]) > 0 and float(coordenadasInput[1]) < 0):\n",
    "    print(\"O ponto está no quarto quadrante do plano.\")\n"
   ]
  },
  {
   "cell_type": "markdown",
   "metadata": {
    "colab_type": "text",
    "id": "pahlX2kkR2ln"
   },
   "source": [
    "**Exercício 4**\n",
    "- Pedir para o usuário as coordenadas X e Y de dois pontos do plano cartesiano\n",
    "- Calcular a distância entre esses dois pontos\n",
    "- Printar na tela a distância dos dois pontos\n",
    "- Continuar rodando o programa enquanto o usuário não digitar \"sair\""
   ]
  },
  {
   "cell_type": "code",
   "execution_count": 0,
   "metadata": {
    "colab": {
     "base_uri": "https://localhost:8080/",
     "height": 455
    },
    "colab_type": "code",
    "executionInfo": {
     "elapsed": 30365,
     "status": "ok",
     "timestamp": 1575392210788,
     "user": {
      "displayName": "Paulo H. Duarte",
      "photoUrl": "https://lh3.googleusercontent.com/a-/AAuE7mAkC4g0mKLRF_fauwJzVpnzsFU62fml_N0ZZC4PyA=s64",
      "userId": "00324083358193063760"
     },
     "user_tz": 180
    },
    "id": "9pMHO3bUpw-Y",
    "outputId": "49ae109a-77a3-43e7-94be-38b6a80b5774"
   },
   "outputs": [
    {
     "name": "stdout",
     "output_type": "stream",
     "text": [
      "Insira as coordenadas X e Y do ponto. Separados por ','. Exemplo (2.3,5.0) OU digite 'sair' para encerar o programa. 1,2\n",
      "Insira as coordenadas X e Y do ponto. Separados por ','. Exemplo (2.3,5.0) OU digite 'sair' para encerar o programa. 1,3\n"
     ]
    },
    {
     "name": "stderr",
     "output_type": "stream",
     "text": [
      "/usr/local/lib/python3.6/dist-packages/ipykernel_launcher.py:10: UserWarning: Legend does not support 'Ponto 1' instances.\n",
      "A proxy artist may be used instead.\n",
      "See: http://matplotlib.org/users/legend_guide.html#creating-artists-specifically-for-adding-to-the-legend-aka-proxy-artists\n",
      "  # Remove the CWD from sys.path while we load stuff.\n"
     ]
    },
    {
     "data": {
      "image/png": "[encoded data removed]",
      "text/plain": [
       "<Figure size 432x288 with 1 Axes>"
      ]
     },
     "metadata": {
      "tags": []
     },
     "output_type": "display_data"
    },
    {
     "name": "stdout",
     "output_type": "stream",
     "text": [
      "0.0, -1.0\n",
      "Insira as coordenadas X e Y do ponto. Separados por ','. Exemplo (2.3,5.0) OU digite 'sair' para encerar o programa. sair\n",
      "Insira as coordenadas X e Y do ponto. Separados por ','. Exemplo (2.3,5.0) OU digite 'sair' para encerar o programa. sair\n",
      "Saindo....\n"
     ]
    }
   ],
   "source": [
    "import matplotlib.pyplot as plt\n",
    "while True:\n",
    "  coordenadasUmInput = input(\"Insira as coordenadas X e Y do ponto. Separados por ','. Exemplo (2.3,5.0) OU digite 'sair' para encerar o programa. \").split(\",\")\n",
    "  coordenadasDoisInput = input(\"Insira as coordenadas X e Y do ponto. Separados por ','. Exemplo (2.3,5.0) OU digite 'sair' para encerar o programa. \").split(\",\")\n",
    "  if(coordenadasUmInput[0] == 'sair' or coordenadasDoisInput == 'sair'):\n",
    "    print(\"Saindo....\")\n",
    "    break\n",
    "  plt.plot(float(coordenadasUmInput[0]), float(coordenadasUmInput[1]),'bo')\n",
    "  plt.plot(float(coordenadasDoisInput[0]), float(coordenadasDoisInput[1]),'ro')\n",
    "  plt.legend([\"Ponto 1\"], [\"Ponto 2\"])\n",
    "  plt.title(\"Plano Cartesiano\")\n",
    "  plt.show()\n",
    "  print(f\"Distancia: {float(coordenadasUmInput[0])-float(coordenadasDoisInput[0])}, {float(coordenadasUmInput[1])-float(coordenadasDoisInput[1])}\")"
   ]
  },
  {
   "cell_type": "markdown",
   "metadata": {
    "colab_type": "text",
    "id": "BfS2yNoxR2lp"
   },
   "source": [
    "**Exercício 5**\n",
    "- Escrever um programa que acha as raízes de uma equação do segundo grau\n",
    "- O programa deve fazer os tratamentos necessários, pertinentes ao problema\n",
    "- O programa deve continuar rodando enquanto o usuário não digitar \"sair\""
   ]
  },
  {
   "cell_type": "code",
   "execution_count": 0,
   "metadata": {
    "colab": {
     "base_uri": "https://localhost:8080/",
     "height": 34
    },
    "colab_type": "code",
    "executionInfo": {
     "elapsed": 4498,
     "status": "ok",
     "timestamp": 1575399578977,
     "user": {
      "displayName": "Paulo H. Duarte",
      "photoUrl": "https://lh3.googleusercontent.com/a-/AAuE7mAkC4g0mKLRF_fauwJzVpnzsFU62fml_N0ZZC4PyA=s64",
      "userId": "00324083358193063760"
     },
     "user_tz": 180
    },
    "id": "Gv5RdQyGFqOp",
    "outputId": "c1727c2a-8514-4655-88ce-c1e0dcb8726e"
   },
   "outputs": [
    {
     "name": "stdout",
     "output_type": "stream",
     "text": [
      "Insira os coeficientes A, B e C. Separados por ',' Exemplo (1, -6, 6) OU 'sair para encerrar': sair\n"
     ]
    }
   ],
   "source": [
    "while True:\n",
    "  coeficientes = input(\"Insira os coeficientes A, B e C. Separados por ',' Exemplo (1, -6, 6) OU 'sair para encerrar': \").split(\",\")\n",
    "  if(coeficientes[0] == 'sair'):\n",
    "    break\n",
    "  raizDelta = (float(coeficientes[1])**2-4*float(coeficientes[0])*float(coeficientes[2]))**0.5\n",
    "  print(f\"X1 = {(-float(coeficientes[1])+raizDelta)/(2*float(coeficientes[0]))}, X2 = {(-float(coeficientes[1])-raizDelta)/(2*float(coeficientes[0]))}\")"
   ]
  },
  {
   "cell_type": "markdown",
   "metadata": {
    "colab_type": "text",
    "id": "vt1E3u4fR2lq"
   },
   "source": [
    "**Exercício 6**\n",
    "- Usando a biblioteca random do Python gere um número aleatório entre 0 e 10\n",
    "- Pedir para o usuário chutar um número entre 0 e 10\n",
    "- Mostrar para o usuário com quantos chutes ele conseguiu acertar o número\n",
    "- O programa deve rodar enquanto o usuário não digitar \"sair da mesa\""
   ]
  },
  {
   "cell_type": "code",
   "execution_count": 0,
   "metadata": {
    "colab": {
     "base_uri": "https://localhost:8080/",
     "height": 121
    },
    "colab_type": "code",
    "executionInfo": {
     "elapsed": 7653,
     "status": "ok",
     "timestamp": 1575402091881,
     "user": {
      "displayName": "Paulo H. Duarte",
      "photoUrl": "https://lh3.googleusercontent.com/a-/AAuE7mAkC4g0mKLRF_fauwJzVpnzsFU62fml_N0ZZC4PyA=s64",
      "userId": "00324083358193063760"
     },
     "user_tz": 180
    },
    "id": "KUR6-cxOKsl5",
    "outputId": "b972018e-e3c0-4cb0-a8e5-18eafc907ee2"
   },
   "outputs": [
    {
     "name": "stdout",
     "output_type": "stream",
     "text": [
      "Insira um numero de 0 a 10: 2\n",
      "Insira um numero de 0 a 10: 1\n",
      "Insira um numero de 0 a 10: 5\n",
      "Insira um numero de 0 a 10: sair\n",
      "O numero gerado foi: 0 Acertos: 0, Erros: 3, Tentativas = 3\n",
      "Saindo...\n"
     ]
    }
   ],
   "source": [
    "import random\n",
    "countAcertou = 0\n",
    "countErrou = 0\n",
    "count = 0\n",
    "numRandom = random.randint(0, 11)\n",
    "while True:\n",
    "  numInput = input(\"Insira um numero de 0 a 10: \")\n",
    "  if(numInput == 'sair'):\n",
    "    if(count > 0):\n",
    "      print(f\"O numero gerado foi: {numRandom} Acertos: {countAcertou}, Erros: {countErrou}, Tentativas = {count}\")\n",
    "    print(\"Saindo...\")\n",
    "    break\n",
    "  else:  \n",
    "    if(float(numInput) == numRandom):\n",
    "      countAcertou += 1\n",
    "      count += 1\n",
    "    else:\n",
    "      countErrou += 1\n",
    "      count += 1"
   ]
  },
  {
   "cell_type": "markdown",
   "metadata": {
    "colab_type": "text",
    "id": "tyMKo9ugR2ls"
   },
   "source": [
    "**Exercício 7**\n",
    "- Pedir para o usuário um número inteiro até 50\n",
    "- Printar na tela todos os números até o número que o usuário digitou\n",
    "- Para números múltiplos de 3, printar \"Múltiplo de 3\"\n",
    "- Para números múltiplos de 5, printar \"Múltiplo de 5\"\n",
    "- Para números múltiplos de 3 e 5, printar \"Múltiplo de 3 e 5\""
   ]
  },
  {
   "cell_type": "code",
   "execution_count": 51,
   "metadata": {
    "colab": {
     "base_uri": "https://localhost:8080/",
     "height": 748
    },
    "colab_type": "code",
    "executionInfo": {
     "elapsed": 3576,
     "status": "ok",
     "timestamp": 1575409627511,
     "user": {
      "displayName": "Paulo H. Duarte",
      "photoUrl": "https://lh3.googleusercontent.com/a-/AAuE7mBvFIZdTv3gf3nQ7Lc_YlCi_6qa4ytvMo6a2Y2-cg=s64",
      "userId": "00324083358193063760"
     },
     "user_tz": 180
    },
    "id": "Ye87PWofSiVi",
    "outputId": "cb0e7e72-1b87-43a3-b05f-91d631d8e025"
   },
   "outputs": [
    {
     "name": "stdout",
     "output_type": "stream",
     "text": [
      "Insira um numero inteiro até 50: 20\n",
      "-------------------\n",
      "0 - mult de 3 e 5\n",
      "-------------------\n",
      "1\n",
      "-------------------\n",
      "2\n",
      "-------------------\n",
      "3\n",
      "-------------------\n",
      "4\n",
      "-------------------\n",
      "5 - mult de 5\n",
      "-------------------\n",
      "6 - mult de 3\n",
      "-------------------\n",
      "7\n",
      "-------------------\n",
      "8\n",
      "-------------------\n",
      "9 - mult de 3\n",
      "-------------------\n",
      "10 - mult de 5\n",
      "-------------------\n",
      "11\n",
      "-------------------\n",
      "12 - mult de 3\n",
      "-------------------\n",
      "13\n",
      "-------------------\n",
      "14\n",
      "-------------------\n",
      "15 - mult de 3 e 5\n",
      "-------------------\n",
      "16\n",
      "-------------------\n",
      "17\n",
      "-------------------\n",
      "18 - mult de 3\n",
      "-------------------\n",
      "19\n",
      "-------------------\n",
      "20 - mult de 5\n"
     ]
    }
   ],
   "source": [
    "multTres = [0, 6, 9, 12, 15, 18, 21, 24, 27, 30]\n",
    "multCinco = [0, 5, 10, 15, 20, 25, 30, 35, 40, 45, 50]\n",
    "try:\n",
    "  numInput = int(input(\"Insira um numero inteiro até 50: \"))\n",
    "except:\n",
    "  print(\"Insira um numero inteiro\")\n",
    "for i in range(0, numInput+1):\n",
    "  print(\"-------------------\")\n",
    "  if(i in multTres and i in multCinco):\n",
    "    print(f\"{i} - mult de 3 e 5\")\n",
    "  elif(i in multTres):\n",
    "    print(f\"{i} - mult de 3\")\n",
    "  elif(i in multCinco):\n",
    "    print(f\"{i} - mult de 5\")\n",
    "  else: \n",
    "    print(i)\n",
    "    "
   ]
  },
  {
   "cell_type": "markdown",
   "metadata": {
    "colab_type": "text",
    "id": "v2ZvitRWWUNS"
   },
   "source": []
  }
 ],
 "metadata": {
  "colab": {
   "collapsed_sections": [],
   "name": "aulaTresExercicios.ipynb",
   "provenance": [
    {
     "file_id": "1dJyonSdTKgCG41pQhy2IpzHZ0YGBo9cV",
     "timestamp": 1574791325197
    }
   ]
  },
  "kernelspec": {
   "display_name": "Python 3",
   "language": "python",
   "name": "python3"
  },
  "language_info": {
   "codemirror_mode": {
    "name": "ipython",
    "version": 3
   },
   "file_extension": ".py",
   "mimetype": "text/x-python",
   "name": "python",
   "nbconvert_exporter": "python",
   "pygments_lexer": "ipython3",
   "version": "3.7.6"
  }
 },
 "nbformat": 4,
 "nbformat_minor": 1
}
