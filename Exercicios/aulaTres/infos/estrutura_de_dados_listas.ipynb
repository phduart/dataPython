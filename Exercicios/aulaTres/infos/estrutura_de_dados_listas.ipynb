{
 "cells": [
  {
   "cell_type": "markdown",
   "metadata": {},
   "source": [
    "# Estrutura de Dado Lista\n",
    "> [In computer science, a data structure is a data organization, management, and storage format that enables efficient access and modification.](https://en.wikipedia.org/wiki/Data_structure)\n",
    "\n",
    "- Uma lista é uma sequência de valores\n",
    "- Ela pode ser heterogêna, ou seja, conter valores de tipos diferentes\n",
    "- Os valores da lista são chamados de itens\n",
    "- Uma lista começa e termina com colchetes [  ]\n",
    "- Os valores da lista são separados por vírgulas"
   ]
  },
  {
   "cell_type": "markdown",
   "metadata": {},
   "source": [
    "## Criando Listas "
   ]
  },
  {
   "cell_type": "code",
   "execution_count": 1,
   "metadata": {},
   "outputs": [
    {
     "name": "stdout",
     "output_type": "stream",
     "text": [
      "[1, 2, 3, 4, 5]\n"
     ]
    }
   ],
   "source": [
    "# criando uma lista\n",
    "lista_numeros = [1, 2, 3, 4, 5]\n",
    "print(lista_numeros)"
   ]
  },
  {
   "cell_type": "code",
   "execution_count": 2,
   "metadata": {},
   "outputs": [
    {
     "name": "stdout",
     "output_type": "stream",
     "text": [
      "[1, 1.0, 'um', 1.0]\n"
     ]
    }
   ],
   "source": [
    "# lista com tipos diferentes\n",
    "lista_hetero = [1, 1.0, 'um', 1/1]\n",
    "print(lista_hetero)"
   ]
  },
  {
   "cell_type": "markdown",
   "metadata": {},
   "source": [
    "- Uma lista pode estar vazia"
   ]
  },
  {
   "cell_type": "code",
   "execution_count": 3,
   "metadata": {},
   "outputs": [
    {
     "name": "stdout",
     "output_type": "stream",
     "text": [
      "[]\n"
     ]
    }
   ],
   "source": [
    "# criando uma lista sem itens\n",
    "lista_vazia = []\n",
    "print(lista_vazia)"
   ]
  },
  {
   "cell_type": "markdown",
   "metadata": {},
   "source": [
    "- Uma lista pode ter elementos que são outras listas\n",
    "- Isso é chamado de listas aninhadas"
   ]
  },
  {
   "cell_type": "code",
   "execution_count": 4,
   "metadata": {},
   "outputs": [],
   "source": [
    "# criando uma lista de listas\n",
    "lista_de_listas = [[1, 2, 3], [4, 5, 6], [7, 8, 9]]\n",
    "\n",
    "# lista\n",
    "lista_inception = [[[1, 2, 3], [2, 3, 4], [3, 4, 5]], [[6, 7, 8], [7, 8 , 9], [8, 9, 10]]]"
   ]
  },
  {
   "cell_type": "markdown",
   "metadata": {},
   "source": [
    "- Podemos criar listas com a função range()"
   ]
  },
  {
   "cell_type": "code",
   "execution_count": 5,
   "metadata": {},
   "outputs": [
    {
     "name": "stdout",
     "output_type": "stream",
     "text": [
      "[1, 2, 3, 4, 5, 6, 7, 8, 9, 10]\n"
     ]
    }
   ],
   "source": [
    "# criando uma lista de numeros inteiros de 1 ate 10 com range()\n",
    "lista_range = list(range(1, 11))\n",
    "print(lista_range)"
   ]
  },
  {
   "cell_type": "markdown",
   "metadata": {},
   "source": [
    "## Acessando os itens das listas\n",
    "- Podemos acessar os itens de uma lista através de colchetes [  ]"
   ]
  },
  {
   "cell_type": "code",
   "execution_count": 6,
   "metadata": {},
   "outputs": [
    {
     "name": "stdout",
     "output_type": "stream",
     "text": [
      "[1, 2, 3, 4]\n",
      "Este é o primeiro item da lista: 1\n",
      "Este é o segundo item da lista: 2\n",
      "Este é o terceiro item da lista: 3\n"
     ]
    }
   ],
   "source": [
    "# criando uma lista de inteiros\n",
    "lista_inteiros = list(range(1, 5))\n",
    "print(lista_inteiros)\n",
    "\n",
    "# acessando o primeiro item\n",
    "print(f'Este é o primeiro item da lista: {lista_inteiros[0]}')\n",
    "print(f'Este é o segundo item da lista: {lista_inteiros[1]}')\n",
    "print(f'Este é o terceiro item da lista: {lista_inteiros[2]}')"
   ]
  },
  {
   "cell_type": "markdown",
   "metadata": {},
   "source": [
    "- TOME CUIDADO, os índices começam em 0 e não em 1\n",
    "- Veja a figura abaixo"
   ]
  },
  {
   "attachments": {
    "image.png": {
     "image/png": "[encoded data removed]"
    }
   },
   "cell_type": "markdown",
   "metadata": {},
   "source": [
    "![image.png](attachment:image.png)"
   ]
  },
  {
   "cell_type": "markdown",
   "metadata": {},
   "source": [
    "- Acessando listas aninhadas\n",
    "- Usamos colchetes em \"cadeia\" para acessar valores em listas aninhadas"
   ]
  },
  {
   "cell_type": "code",
   "execution_count": 7,
   "metadata": {},
   "outputs": [],
   "source": [
    "# criando uma lista de listas\n",
    "lista_de_listas = [[1, 2, 3], [4, 5, 6], [7, 8, 9]]\n",
    "\n",
    "# lista\n",
    "lista_inception = [[[1, 2, 3], [2, 3, 4], [3, 4, 5]], [[6, 7, 8], [7, 8 , 9], [8, 9, 10]]]"
   ]
  },
  {
   "cell_type": "code",
   "execution_count": 8,
   "metadata": {},
   "outputs": [
    {
     "name": "stdout",
     "output_type": "stream",
     "text": [
      "[1, 2, 3]\n",
      "2\n",
      "[[6, 7, 8], [7, 8, 9], [8, 9, 10]]\n",
      "[8, 9, 10]\n",
      "8\n"
     ]
    }
   ],
   "source": [
    "# acessando o primeiro valor com um colchete\n",
    "# perceba que ele retornou o valor [1, 2, 3], que tambem e uma lista\n",
    "# Assim, podemos usar colchetes outra vez, para acessar outro valor\n",
    "print(lista_de_listas[0])\n",
    "print(lista_de_listas[0][1])\n",
    "print(lista_inception[1])\n",
    "print(lista_inception[1][2])\n",
    "print(lista_inception[1][2][0])"
   ]
  },
  {
   "cell_type": "markdown",
   "metadata": {},
   "source": [
    "- Usamos índices negativos para acessar do último para o primeiro"
   ]
  },
  {
   "cell_type": "code",
   "execution_count": 9,
   "metadata": {},
   "outputs": [
    {
     "name": "stdout",
     "output_type": "stream",
     "text": [
      "cinco\n",
      "quatro\n",
      "tres\n"
     ]
    }
   ],
   "source": [
    "# criando lista de strings\n",
    "lista_strings = ['um', 'dois', 'tres', 'quatro', 'cinco']\n",
    "\n",
    "# acessando o ultimo valor\n",
    "print(lista_strings[-1])\n",
    "\n",
    "# acessando o penultimo valor\n",
    "print(lista_strings[-2])\n",
    "\n",
    "# acessando o antepenultimo valor\n",
    "print(lista_strings[-3])"
   ]
  },
  {
   "attachments": {
    "image.png": {
     "image/png": "[encoded data removed]"
    }
   },
   "cell_type": "markdown",
   "metadata": {},
   "source": [
    "![image.png](attachment:image.png)"
   ]
  },
  {
   "cell_type": "markdown",
   "metadata": {},
   "source": [
    "## Slice de listas\n",
    "- Como obter sublistas de uma lista"
   ]
  },
  {
   "cell_type": "code",
   "execution_count": 10,
   "metadata": {},
   "outputs": [
    {
     "name": "stdout",
     "output_type": "stream",
     "text": [
      "[1, 2, 3]\n",
      "[11, 12, 13, 14, 15, 16, 17, 18, 19, 20]\n"
     ]
    }
   ],
   "source": [
    "# criando lista \n",
    "lista_cem = list(range(1, 101))\n",
    "\n",
    "# usando dois pontos\n",
    "print(lista_cem[0:3])\n",
    "print(lista_cem[10:20])"
   ]
  },
  {
   "cell_type": "code",
   "execution_count": 11,
   "metadata": {},
   "outputs": [
    {
     "name": "stdout",
     "output_type": "stream",
     "text": [
      "[90, 91, 92, 93, 94, 95, 96, 97, 98, 99, 100]\n",
      "[1, 2, 3, 4, 5, 6, 7, 8, 9, 10]\n",
      "[1, 2, 3, 4, 5, 6, 7, 8, 9, 10, 11, 12, 13, 14, 15, 16, 17, 18, 19, 20, 21, 22, 23, 24, 25, 26, 27, 28, 29, 30, 31, 32, 33, 34, 35, 36, 37, 38, 39, 40, 41, 42, 43, 44, 45, 46, 47, 48, 49, 50, 51, 52, 53, 54, 55, 56, 57, 58, 59, 60, 61, 62, 63, 64, 65, 66, 67, 68, 69, 70, 71, 72, 73, 74, 75, 76, 77, 78, 79, 80, 81, 82, 83, 84, 85, 86, 87, 88, 89, 90, 91, 92, 93, 94, 95, 96, 97, 98, 99, 100]\n"
     ]
    }
   ],
   "source": [
    "# indo ate o final de uma lista a partir de um ponto\n",
    "print(lista_cem[89:])\n",
    "\n",
    "# indo de um valor ate o comeco da lista\n",
    "print(lista_cem[:10])\n",
    "\n",
    "# devolvendo a lista inteira\n",
    "# isso e um jeito de criar uma copia da lista\n",
    "print(lista_cem[:])"
   ]
  },
  {
   "cell_type": "code",
   "execution_count": 12,
   "metadata": {},
   "outputs": [
    {
     "name": "stdout",
     "output_type": "stream",
     "text": [
      "[2, 4, 6, 8, 10]\n"
     ]
    }
   ],
   "source": [
    "# podemos pular valores\n",
    "# uma  maneira de obter os valores pares de 1 ate 10\n",
    "print(lista_cem[1:10:2])"
   ]
  },
  {
   "cell_type": "markdown",
   "metadata": {},
   "source": [
    "## Alteração de valores de uma LISTA\n",
    "- As listas são mutáveis"
   ]
  },
  {
   "cell_type": "code",
   "execution_count": 13,
   "metadata": {},
   "outputs": [
    {
     "name": "stdout",
     "output_type": "stream",
     "text": [
      "[1, 'dois', 3, 4, 5]\n"
     ]
    }
   ],
   "source": [
    "# criando lista \n",
    "lista_cem = list(range(1, 101))\n",
    "\n",
    "# mudar valores da lista que sao pares\n",
    "lista_cem[1] = 'dois'\n",
    "\n",
    "# printando apenas alguns valores\n",
    "print(lista_cem[:5])"
   ]
  },
  {
   "cell_type": "markdown",
   "metadata": {},
   "source": [
    "## Operações Aritméticas nas Listas\n",
    "- Podemos usar o operador de soma + e o de multiplicação * nas listas"
   ]
  },
  {
   "cell_type": "code",
   "execution_count": 14,
   "metadata": {},
   "outputs": [
    {
     "name": "stdout",
     "output_type": "stream",
     "text": [
      "A soma das duas listas:\n",
      "[0, 1, 2, 3, 4, 5, 6, 7, 8, 9, 10, 11, 12, 13, 14, 15, 16, 17, 18, 19]\n",
      "\n",
      "Multiplicação de uma lista por um inteiro:\n",
      "[0, 1, 2, 3, 4, 5, 6, 7, 8, 9, 0, 1, 2, 3, 4, 5, 6, 7, 8, 9]\n"
     ]
    }
   ],
   "source": [
    "# criando listas\n",
    "lista_dez = list(range(10))\n",
    "lista_vinte = list(range(10, 20))\n",
    "\n",
    "# somando as duas listas\n",
    "print(f'A soma das duas listas:\\n{lista_dez + lista_vinte}')\n",
    "\n",
    "# multiplicando a lista por um inteiro\n",
    "lista_mult = lista_dez * 2\n",
    "print(f'\\nMultiplicação de uma lista por um inteiro:\\n{lista_mult}')"
   ]
  },
  {
   "cell_type": "markdown",
   "metadata": {},
   "source": [
    "## Iterando nos itens de uma LISTA\n",
    "- Toda lista é um iterador, ou seja, podemos percorrer com uma instrução **FOR** pelos seus itens\n",
    "- Isso é útil para podermos fazer operações com os valores que estão dentro da LISTA"
   ]
  },
  {
   "cell_type": "code",
   "execution_count": 15,
   "metadata": {},
   "outputs": [
    {
     "name": "stdout",
     "output_type": "stream",
     "text": [
      "2\n",
      "4\n",
      "6\n",
      "8\n",
      "10\n",
      "12\n",
      "14\n",
      "16\n",
      "18\n",
      "20\n"
     ]
    }
   ],
   "source": [
    "# criando listas\n",
    "lista_inteiros = list(range(1, 11))\n",
    "\n",
    "# passando por cada item e multiplicando por 2\n",
    "for inteiro in lista_inteiros:\n",
    "    print(inteiro * 2)"
   ]
  },
  {
   "cell_type": "markdown",
   "metadata": {},
   "source": [
    "- Usamos a função enumerate() para podermos acessar os índices e os itens de uma LISTA"
   ]
  },
  {
   "cell_type": "code",
   "execution_count": 16,
   "metadata": {},
   "outputs": [
    {
     "name": "stdout",
     "output_type": "stream",
     "text": [
      "0º nome é: Rogério\n",
      "1º nome é: Guimarães\n",
      "2º nome é: de\n",
      "3º nome é: Campos\n",
      "4º nome é: Júnior\n",
      "******************************\n",
      "1º nome é: Rogério\n",
      "2º nome é: Guimarães\n",
      "3º nome é: de\n",
      "4º nome é: Campos\n",
      "5º nome é: Júnior\n"
     ]
    }
   ],
   "source": [
    "# criando listas\n",
    "nome_completo = ['Rogério', 'Guimarães', 'de', 'Campos', 'Júnior']\n",
    "\n",
    "# iterando pelos indices e itens do nome\n",
    "for i, nome in enumerate(nome_completo):\n",
    "    print(f'{i}º nome é: {nome}')\n",
    "\n",
    "print('******************************')    \n",
    "    \n",
    "# iterando pelos indices e itens do nome e comecando do 1\n",
    "for i, nome in enumerate(nome_completo, start=1):\n",
    "    print(f'{i}º nome é: {nome}')"
   ]
  },
  {
   "cell_type": "markdown",
   "metadata": {},
   "source": [
    "- Com a função zip() podemos iterar entre duas listas"
   ]
  },
  {
   "cell_type": "code",
   "execution_count": 17,
   "metadata": {},
   "outputs": [
    {
     "name": "stdout",
     "output_type": "stream",
     "text": [
      "Lucro: 800\n",
      "Lucro: 1317\n",
      "Lucro: 1830\n",
      "Lucro: 2140\n"
     ]
    }
   ],
   "source": [
    "# criando duas listas\n",
    "receita_por_ano = [1000, 1567, 2130, 2540]\n",
    "custo_por_ano = [200, 250, 300, 400]\n",
    "\n",
    "for receita, custo in zip(receita_por_ano, custo_por_ano):\n",
    "    print(f'Lucro: {receita - custo}')"
   ]
  },
  {
   "cell_type": "markdown",
   "metadata": {},
   "source": [
    "## Métodos da LISTA"
   ]
  },
  {
   "cell_type": "code",
   "execution_count": 18,
   "metadata": {},
   "outputs": [
    {
     "name": "stdout",
     "output_type": "stream",
     "text": [
      "Variável nome: ['Rogério']\n",
      "Variável nome após append: ['Rogério', 'Campos']\n"
     ]
    }
   ],
   "source": [
    "# adicionando item no final de uma lista\n",
    "nome = ['Rogério']\n",
    "print('Variável nome:', nome)\n",
    "\n",
    "# inserindo mais um item\n",
    "nome.append('Campos')\n",
    "print('Variável nome após append:', nome)"
   ]
  },
  {
   "cell_type": "code",
   "execution_count": 19,
   "metadata": {},
   "outputs": [
    {
     "name": "stdout",
     "output_type": "stream",
     "text": [
      "Variável nome: ['Rogério']\n",
      "Variável nome após extend: ['Rogério', 'Guimarães', 'de', 'Campos', 'Júnior']\n"
     ]
    }
   ],
   "source": [
    "# adiciona todos os itens de um iterador na lista\n",
    "nome = ['Rogério']\n",
    "ultimo_nome = ['Guimarães', 'de', 'Campos', 'Júnior']\n",
    "\n",
    "print('Variável nome:', nome)\n",
    "\n",
    "# inserindo todos os itens de ultimo_nome em nome\n",
    "nome.extend(ultimo_nome)\n",
    "\n",
    "print('Variável nome após extend:', nome)"
   ]
  },
  {
   "cell_type": "code",
   "execution_count": 20,
   "metadata": {},
   "outputs": [
    {
     "name": "stdout",
     "output_type": "stream",
     "text": [
      "Variável último nome: ['Guimarães', 'de', 'Campos', 'Júnior']\n",
      "Variável último nome após insert: ['Rogério', 'Guimarães', 'de', 'Campos', 'Júnior']\n"
     ]
    }
   ],
   "source": [
    "# inserindo um item em uma posicao especifica\n",
    "ultimo_nome = ['Guimarães', 'de', 'Campos', 'Júnior']\n",
    "\n",
    "print('Variável último nome:', ultimo_nome)\n",
    "\n",
    "# inserindo o primero nome em ultimo_nome\n",
    "ultimo_nome.insert(0, 'Rogério')\n",
    "\n",
    "print('Variável último nome após insert:', ultimo_nome)"
   ]
  },
  {
   "cell_type": "code",
   "execution_count": 21,
   "metadata": {},
   "outputs": [
    {
     "name": "stdout",
     "output_type": "stream",
     "text": [
      "Variável nome: ['Rogério', 'Guimarães', 'de', 'Campos', 'Júnior']\n",
      "Variável último nome após remove: ['Guimarães', 'de', 'Campos', 'Júnior']\n"
     ]
    }
   ],
   "source": [
    "# removendo item com valor especifico\n",
    "nome = ['Rogério', 'Guimarães', 'de', 'Campos', 'Júnior']\n",
    "\n",
    "print('Variável nome:', nome)\n",
    "\n",
    "# removendo item com remove\n",
    "nome.remove('Rogério')\n",
    "\n",
    "print('Variável último nome após remove:', nome)"
   ]
  },
  {
   "cell_type": "code",
   "execution_count": 22,
   "metadata": {},
   "outputs": [
    {
     "name": "stdout",
     "output_type": "stream",
     "text": [
      "Variável nome: ['Rogério', 'Guimarães', 'de', 'Campos', 'Júnior']\n",
      "Valor devolvido por pop: Rogério\n"
     ]
    }
   ],
   "source": [
    "# removendo um item da lista e devolvendo o item\n",
    "nome = ['Rogério', 'Guimarães', 'de', 'Campos', 'Júnior']\n",
    "\n",
    "print('Variável nome:', nome)\n",
    "\n",
    "# removendo item com remove\n",
    "primeiro_nome = nome.pop(0)\n",
    "\n",
    "print('Valor devolvido por pop:', primeiro_nome)"
   ]
  },
  {
   "cell_type": "code",
   "execution_count": 23,
   "metadata": {},
   "outputs": [
    {
     "name": "stdout",
     "output_type": "stream",
     "text": [
      "Variável nome: ['Rogério', 'Guimarães', 'de', 'Campos', 'Júnior']\n",
      "Valor devolvido por index: 1\n"
     ]
    }
   ],
   "source": [
    "# descobrindo o index de um dado valor numa lista\n",
    "nome = ['Rogério', 'Guimarães', 'de', 'Campos', 'Júnior']\n",
    "\n",
    "print('Variável nome:', nome)\n",
    "\n",
    "# removendo item com remove\n",
    "index_guimaraes = nome.index('Guimarães')\n",
    "\n",
    "print('Valor devolvido por index:', index_guimaraes)"
   ]
  },
  {
   "cell_type": "code",
   "execution_count": 24,
   "metadata": {},
   "outputs": [
    {
     "name": "stdout",
     "output_type": "stream",
     "text": [
      "Valor devolvido por count: 2\n"
     ]
    }
   ],
   "source": [
    "# contando quantas vezes um valor aparece na lista\n",
    "nomes_classe = ['Clara', 'Judite', 'Clara', 'Rogério']\n",
    "\n",
    "# quantidade de vezes que Clara aparece\n",
    "quant_clara = nomes_classe.count('Clara')\n",
    "\n",
    "print('Valor devolvido por count:', quant_clara)"
   ]
  },
  {
   "cell_type": "code",
   "execution_count": 25,
   "metadata": {},
   "outputs": [
    {
     "name": "stdout",
     "output_type": "stream",
     "text": [
      "Variável lista_inteiros: [10, 9, 8, 3, 2, 7, 4]\n",
      "Variável lista_inteiros após sort() [2, 3, 4, 7, 8, 9, 10]\n"
     ]
    }
   ],
   "source": [
    "# ordenando os valores por ordem crescente\n",
    "lista_inteiros = [10, 9, 8, 3, 2, 7, 4]\n",
    "print('Variável lista_inteiros:', lista_inteiros)\n",
    "\n",
    "# ordenando com sort\n",
    "lista_inteiros.sort()\n",
    "\n",
    "print('Variável lista_inteiros após sort()', lista_inteiros)"
   ]
  },
  {
   "cell_type": "markdown",
   "metadata": {},
   "source": [
    "## Exercícios LISTAS "
   ]
  },
  {
   "cell_type": "markdown",
   "metadata": {},
   "source": [
    "**Exercício 1**\n",
    "- Pedir para o usuário um número inteiro maior do que ou igual a 2\n",
    "- Verificar se a condição acima é satisfeita\n",
    "- Criar uma lista de valores que vai de 1 até o número digitado pelo usuário\n",
    "- Somar todos os valores da lista criada\n",
    "- Printar na tela a soma obtida"
   ]
  },
  {
   "cell_type": "markdown",
   "metadata": {},
   "source": [
    "**Exercício 2**\n",
    "- Escolha uma coluna dos dados iris.txt\n",
    "- Transforme essa coluna em lista\n",
    "- Calcule a média dessa coluna sem auxílio de funções, use somente o que foi aprendido até aqui"
   ]
  },
  {
   "cell_type": "markdown",
   "metadata": {},
   "source": [
    "**Exercício 3**\n",
    "- Escolha uma coluna dos dados iris.txt\n",
    "- Transforme essa coluna em lista\n",
    "- Calcule a mediana dessa coluna sem auxílio de funções, use somente o que foi aprendido até aqui"
   ]
  },
  {
   "cell_type": "markdown",
   "metadata": {},
   "source": [
    "**Exercício 4**\n",
    "- Escolha uma coluna dos dados iris.txt\n",
    "- Transforme essa coluna em lista\n",
    "- Calcule o desvio padrão dessa coluna sem auxílio de funções, use somente o que foi aprendido até aqui"
   ]
  },
  {
   "cell_type": "markdown",
   "metadata": {},
   "source": [
    "**Exercício 5**\n",
    "- Escolha uma coluna dos dados iris.txt\n",
    "- Transforme essa coluna em lista\n",
    "- Calcule o maior valor dessa coluna sem auxílio de funções, use somente o que foi aprendido até aqui"
   ]
  },
  {
   "cell_type": "markdown",
   "metadata": {},
   "source": [
    "**Exercício 6**\n",
    "- Escolha uma coluna dos dados iris.txt\n",
    "- Transforme essa coluna em lista\n",
    "- Calcule o menor valor dessa coluna sem auxílio de funções, use somente o que foi aprendido até aqui"
   ]
  },
  {
   "cell_type": "markdown",
   "metadata": {},
   "source": [
    "**Exercício 7**\n",
    "- Escolha duas colunas dos dados iris.txt\n",
    "- Transforme essas colunas em lista\n",
    "- Retorne uma lista que é a multiplicação item por item das duas listas\n",
    "- Exemplo: item de índice zero na coluna 1 é 2, item de índize zero na coluna 2 é 3. Temos que 2 * 3 == 6, insira esse valor numa lista\n",
    "- Faça isso para todos os itens das duas listas"
   ]
  },
  {
   "cell_type": "markdown",
   "metadata": {},
   "source": [
    "**Exercício 8**\n",
    "- Crie uma lista com 100 itens de valores aleatórios entre 1 e 10 com auxílio da biblioteca random do Python\n",
    "- Retorne a moda, valor que mais vezes foi apareceu na lista\n",
    "- Retorne quantas vezes ele apareceu\n",
    "- Retorne a frequência relativa desse valor"
   ]
  },
  {
   "cell_type": "markdown",
   "metadata": {},
   "source": [
    "**Exercício 9**\n",
    "- Escolha duas colunas dos dados iris.txt\n",
    "- Retorne o Coeficiente de Correlação das duas colunas\n",
    "- Não use funções auxiliares, use somente o que foi aprendido até aqui"
   ]
  },
  {
   "cell_type": "markdown",
   "metadata": {},
   "source": [
    "**Exercício 9**\n",
    "- Dada uma lista [1, 2, 4, 5, 6, 7, 7, 7, 8, 9, 10, 1, 1, 2, 2, 4]\n",
    "- Remover os duplicados dessa lista\n",
    "- Printar a lista sem os duplicados\n",
    "- Printar quantos itens duplicados foram excluídos"
   ]
  },
  {
   "cell_type": "markdown",
   "metadata": {},
   "source": [
    "**DESAFIO MASTER**\n",
    "- Crie um modelo naive de machine learning que faça previsão de qual classe/espécie uma planta pertence\n",
    "- Não pode usar bibliotecas avançadas. Não use NumPy, não use Pandas, não use Scikit-learn\n",
    "- DICAS:\n",
    "    - Escolha apenas algumas colunas\n",
    "    - Veja qual a média, mediana, máximo, mínico, intervalo, desvio padrão de cada classe na coluna escolhida\n",
    "    - Com condicionais tente prever usando algum ponto que você escolheu baseado nas medidas acima\n"
   ]
  }
 ],
 "metadata": {
  "kernelspec": {
   "display_name": "Python 3",
   "language": "python",
   "name": "python3"
  },
  "language_info": {
   "codemirror_mode": {
    "name": "ipython",
    "version": 3
   },
   "file_extension": ".py",
   "mimetype": "text/x-python",
   "name": "python",
   "nbconvert_exporter": "python",
   "pygments_lexer": "ipython3",
   "version": "3.7.5"
  }
 },
 "nbformat": 4,
 "nbformat_minor": 2
}
