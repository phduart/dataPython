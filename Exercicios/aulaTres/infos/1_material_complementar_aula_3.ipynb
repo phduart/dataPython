{
 "cells": [
  {
   "cell_type": "markdown",
   "metadata": {},
   "source": [
    "# Calculando medidas dos dados\n",
    "> **Aprenderemos no <font color='red'>Módulo 3</font>\n",
    "o que significam e como interpretar todas essas medidas. Preocupe-se em criar código que achem essas medidas e leia um pouco para ter um contato inicial e já ir formulando suas dúvidas**\n",
    "\n",
    "\n",
    "- Calcularemos 5 medidas nos dados sem o auxílio de funções auxiliares. Medidas que calcularemos, coloquei o link para a referência na WIKIPEDIA:\n",
    "    - [Média](https://en.wikipedia.org/wiki/Mean)\n",
    "    - [Desvio Padrão](https://en.wikipedia.org/wiki/Standard_deviation)\n",
    "    - [Mediana](https://en.wikipedia.org/wiki/Median)\n",
    "    - [Moda](https://en.wikipedia.org/wiki/Mode_(statistics))\n",
    "    - Mínimo\n",
    "    - Máximo\n",
    "- Caso você tenha comprado o livro <font color='red'>*Estatística Prática para Cientistas de Dados - Peter Bruce & Andrew Bruce*</font>, o primeiro capítulo fala sobre todas as medidas que veremos\n",
    "- Se você não comprou o livro, sugiro uma leitura inicial do ótimo site de estatística do Jim\n",
    "    - www.statisticsbyjim.com\n",
    "    - [Measures of Central Tendency](https://statisticsbyjim.com/basics/measures-central-tendency-mean-median-mode/)\n",
    "    - [Measures of Variability](https://statisticsbyjim.com/basics/variability-range-interquartile-variance-standard-deviation/)\n",
    "\n",
    "\n",
    "> **Lembre-se, nós veremos todos esses conceitos mais para frente**"
   ]
  },
  {
   "cell_type": "markdown",
   "metadata": {},
   "source": [
    "# Este é o nosso Gabarito "
   ]
  },
  {
   "cell_type": "code",
   "execution_count": 25,
   "metadata": {},
   "outputs": [
    {
     "data": {
      "text/html": [
       "<div>\n",
       "<style scoped>\n",
       "    .dataframe tbody tr th:only-of-type {\n",
       "        vertical-align: middle;\n",
       "    }\n",
       "\n",
       "    .dataframe tbody tr th {\n",
       "        vertical-align: top;\n",
       "    }\n",
       "\n",
       "    .dataframe thead th {\n",
       "        text-align: right;\n",
       "    }\n",
       "</style>\n",
       "<table border=\"1\" class=\"dataframe\">\n",
       "  <thead>\n",
       "    <tr style=\"text-align: right;\">\n",
       "      <th></th>\n",
       "      <th>sepal_length</th>\n",
       "      <th>sepal_width</th>\n",
       "      <th>petal_length</th>\n",
       "      <th>petal_width</th>\n",
       "    </tr>\n",
       "  </thead>\n",
       "  <tbody>\n",
       "    <tr>\n",
       "      <th>count</th>\n",
       "      <td>150.000000</td>\n",
       "      <td>150.000000</td>\n",
       "      <td>150.000000</td>\n",
       "      <td>150.000000</td>\n",
       "    </tr>\n",
       "    <tr>\n",
       "      <th>mean</th>\n",
       "      <td>5.843333</td>\n",
       "      <td>3.054000</td>\n",
       "      <td>3.758667</td>\n",
       "      <td>1.198667</td>\n",
       "    </tr>\n",
       "    <tr>\n",
       "      <th>std</th>\n",
       "      <td>0.828066</td>\n",
       "      <td>0.433594</td>\n",
       "      <td>1.764420</td>\n",
       "      <td>0.763161</td>\n",
       "    </tr>\n",
       "    <tr>\n",
       "      <th>min</th>\n",
       "      <td>4.300000</td>\n",
       "      <td>2.000000</td>\n",
       "      <td>1.000000</td>\n",
       "      <td>0.100000</td>\n",
       "    </tr>\n",
       "    <tr>\n",
       "      <th>25%</th>\n",
       "      <td>5.100000</td>\n",
       "      <td>2.800000</td>\n",
       "      <td>1.600000</td>\n",
       "      <td>0.300000</td>\n",
       "    </tr>\n",
       "    <tr>\n",
       "      <th>50%</th>\n",
       "      <td>5.800000</td>\n",
       "      <td>3.000000</td>\n",
       "      <td>4.350000</td>\n",
       "      <td>1.300000</td>\n",
       "    </tr>\n",
       "    <tr>\n",
       "      <th>75%</th>\n",
       "      <td>6.400000</td>\n",
       "      <td>3.300000</td>\n",
       "      <td>5.100000</td>\n",
       "      <td>1.800000</td>\n",
       "    </tr>\n",
       "    <tr>\n",
       "      <th>max</th>\n",
       "      <td>7.900000</td>\n",
       "      <td>4.400000</td>\n",
       "      <td>6.900000</td>\n",
       "      <td>2.500000</td>\n",
       "    </tr>\n",
       "  </tbody>\n",
       "</table>\n",
       "</div>"
      ],
      "text/plain": [
       "       sepal_length  sepal_width  petal_length  petal_width\n",
       "count    150.000000   150.000000    150.000000   150.000000\n",
       "mean       5.843333     3.054000      3.758667     1.198667\n",
       "std        0.828066     0.433594      1.764420     0.763161\n",
       "min        4.300000     2.000000      1.000000     0.100000\n",
       "25%        5.100000     2.800000      1.600000     0.300000\n",
       "50%        5.800000     3.000000      4.350000     1.300000\n",
       "75%        6.400000     3.300000      5.100000     1.800000\n",
       "max        7.900000     4.400000      6.900000     2.500000"
      ]
     },
     "execution_count": 25,
     "metadata": {},
     "output_type": "execute_result"
    }
   ],
   "source": [
    "# importando bibliotecas\n",
    "import pandas as pd\n",
    "\n",
    "# lendo dados\n",
    "iris = pd.read_csv('data/iris.txt')\n",
    "\n",
    "# estatisticas descritivas dos dados\n",
    "iris.describe()"
   ]
  },
  {
   "cell_type": "markdown",
   "metadata": {},
   "source": [
    "# Lendo arquivo de texto e calculando a média de uma feature"
   ]
  },
  {
   "cell_type": "code",
   "execution_count": 4,
   "metadata": {},
   "outputs": [
    {
     "name": "stdout",
     "output_type": "stream",
     "text": [
      "Média da coluna escolhida: 5.84\n"
     ]
    }
   ],
   "source": [
    "# importando bibliotecas\n",
    "import pandas as pd\n",
    "\n",
    "# lendo dados\n",
    "iris = pd.read_csv('data/iris.txt')\n",
    "\n",
    "# transformando a coluna sepal_length em lista\n",
    "coluna_escolhida = 'sepal_length'\n",
    "lista_col_escolhida = list(iris.loc[:, coluna_escolhida]) # selecionamos a coluna escolhida e transformamos em lista\n",
    "\n",
    "# ***********************************************************************************\n",
    "# *********A partir daqui nos nao usamos mais nenhuma funcao auxiliar****************\n",
    "# ***********************************************************************************\n",
    "\n",
    "# inicializando duas variaveis zeradas\n",
    "soma = 0\n",
    "n_item = 0\n",
    "\n",
    "# loop for para somar os itens e outra para contar a quantidade de itens\n",
    "for item in lista_col_escolhida:\n",
    "    soma = soma + item # vai somando os itens iterativamente\n",
    "    n_item = n_item + 1 # vai contando os itens iterativamente\n",
    "\n",
    "# calcula a media com os dados que obtemos pelo loop\n",
    "media_col_escolhida = soma / n_item\n",
    "\n",
    "# printa na tela a media calculada\n",
    "print(f'Média da coluna escolhida: {media_col_escolhida:.2f}')"
   ]
  },
  {
   "cell_type": "markdown",
   "metadata": {},
   "source": [
    "# Lendo arquivo de texto e calculando o desvio padrão de uma feature"
   ]
  },
  {
   "cell_type": "code",
   "execution_count": 32,
   "metadata": {},
   "outputs": [
    {
     "name": "stdout",
     "output_type": "stream",
     "text": [
      "Desvio padrao da coluna escolhida: 0.83\n"
     ]
    }
   ],
   "source": [
    "# importando bibliotecas\n",
    "import pandas as pd\n",
    "\n",
    "# lendo dados\n",
    "iris = pd.read_csv('data/iris.txt')\n",
    "\n",
    "# transformando a coluna sepal_length em lista\n",
    "coluna_escolhida = 'sepal_length'\n",
    "lista_col_escolhida = list(iris.loc[:, coluna_escolhida])\n",
    "\n",
    "# ***********************************************************************************\n",
    "# *********A partir daqui nos nao usamos mais nenhuma funcao auxiliar****************\n",
    "# ***********************************************************************************\n",
    "\n",
    "# parte do codigo que calcula a media\n",
    "# igual o que fizemos anteriormente\n",
    "# perceba que temos que escrever o codigo de novo\n",
    "soma = 0\n",
    "n_item = 0\n",
    "for item in lista_col_escolhida:\n",
    "    soma = soma + item \n",
    "    n_item = n_item + 1 # este e o final do loop for\n",
    "media_col_escolhida = soma / n_item # perceba que esse comando nao esta indentado pois ele esta fora do loop for\n",
    "\n",
    "# fazendo a subtracao de cada item da lista pela media e elevando ao quadrado\n",
    "# vamos guardar todos os resultados dentro de uma outra lista com append\n",
    "lista_quad_dif = []\n",
    "for item in lista_col_escolhida:\n",
    "    quad_dif = (item - media_col_escolhida) ** 2\n",
    "    lista_quad_dif.append(quad_dif)\n",
    "    \n",
    "# segundo a formula do desvio padrao temos que somar os \n",
    "# valores dos quadrados das diferencas que obtemos acima\n",
    "# como o n_item e igual, nao calcularemos de novo\n",
    "soma_dif_quad = 0\n",
    "for item in lista_quad_dif:\n",
    "    soma_dif_quad = soma_dif_quad + item\n",
    "\n",
    "# calculando o desvio padrao\n",
    "desvio_padrao = (soma_dif_quad / n_item) ** (1 / 2)\n",
    "    \n",
    "# printa na tela a media calculada\n",
    "print(f'Desvio padrao da coluna escolhida: {desvio_padrao:.2f}')"
   ]
  },
  {
   "cell_type": "markdown",
   "metadata": {},
   "source": [
    "# Lendo arquivo de texto e calculando a mediana de uma feature\n",
    "- É o valor do \"meio\" dos dados, ou seja, o valor que divide os dados em duas partes:\n",
    "    - 1ª metade dos valores são maiores do que a mediana\n",
    "    - 2ª metade dos valores são menores do que a mediana\n",
    "- A gente precisa ordenar os dados em maneira crescente antes de fazer o cálculo\n",
    "- Vericar quantos dados temos, aí teremos duas situações\n",
    "    - Nº de itens ímpar: simplesmente pegamos o valor do meio\n",
    "    - Nº de itens par: pegamos os dois do meio e tiramos a média entre eles"
   ]
  },
  {
   "cell_type": "code",
   "execution_count": 107,
   "metadata": {},
   "outputs": [
    {
     "name": "stdout",
     "output_type": "stream",
     "text": [
      "Mediana da coluna escolhida: 5.80\n"
     ]
    }
   ],
   "source": [
    "# importando bibliotecas\n",
    "import pandas as pd\n",
    "\n",
    "# lendo dados\n",
    "iris = pd.read_csv('data/iris.txt')\n",
    "\n",
    "# transformando a coluna sepal_length em lista\n",
    "coluna_escolhida = 'sepal_length'\n",
    "lista_col_escolhida = list(iris.loc[:, coluna_escolhida])\n",
    "\n",
    "# vamos ordenar a lista com o metodo sort\n",
    "lista_col_escolhida.sort()\n",
    "\n",
    "# ***********************************************************************************\n",
    "# *********A partir daqui nos nao usamos mais nenhuma funcao auxiliar****************\n",
    "# ***********************************************************************************\n",
    "\n",
    "# quantidade de itens\n",
    "n_itens = 0\n",
    "for item in lista_col_escolhida:\n",
    "    n_itens = n_itens + 1\n",
    "\n",
    "# verificando se n_itens e par ou impar\n",
    "# dependendo da condicao faz o calculo necessario\n",
    "if (n_itens % 2) != 0:\n",
    "    n_metade = (n_itens - 1) // 2\n",
    "    ix_mediana = n_metade\n",
    "    mediana = lista_col_escolhida[ix_mediana]\n",
    "else:\n",
    "    n_metade = (n_itens - 1) // 2\n",
    "    mediana = (lista_col_escolhida[n_metade] + lista_col_escolhida[n_metade + 1]) / 2    \n",
    "    \n",
    "# printa na tela a media calculada\n",
    "print(f'Mediana da coluna escolhida: {mediana:.2f}')"
   ]
  },
  {
   "cell_type": "markdown",
   "metadata": {},
   "source": [
    "# Lendo arquivo de texto e calculando o valor máximo e mínimo de uma lista"
   ]
  },
  {
   "cell_type": "code",
   "execution_count": 114,
   "metadata": {},
   "outputs": [
    {
     "name": "stdout",
     "output_type": "stream",
     "text": [
      "Máximo da coluna escolhida: 7.90\n",
      "Mínimo da coluna escolhida: 4.30\n"
     ]
    }
   ],
   "source": [
    "# importando bibliotecas\n",
    "import pandas as pd\n",
    "\n",
    "# lendo dados\n",
    "iris = pd.read_csv('data/iris.txt')\n",
    "\n",
    "# transformando a coluna sepal_length em lista\n",
    "coluna_escolhida = 'sepal_length'\n",
    "lista_col_escolhida = list(iris.loc[:, coluna_escolhida])\n",
    "\n",
    "# ***********************************************************************************\n",
    "# *********A partir daqui nos nao usamos mais nenhuma funcao auxiliar****************\n",
    "# ***********************************************************************************\n",
    "\n",
    "# calculando o valor maximo de uma lista\n",
    "# vamos usar um loop for para passar em todos os itens\n",
    "# comecamos com o maximo em zero\n",
    "# caso o item que estamos passando seja maior que zero\n",
    "# substituimos o valor, senao continuamos com o valor que ele esta\n",
    "maximo = lista_col_escolhida[0]\n",
    "for item in lista_col_escolhida:\n",
    "    if item > maximo:\n",
    "        maximo = item\n",
    "\n",
    "minimo = lista_col_escolhida[0]\n",
    "for item in lista_col_escolhida:\n",
    "    if item < minimo:\n",
    "        minimo = item\n",
    "\n",
    "# printa na tela a media calculada\n",
    "print(f'Máximo da coluna escolhida: {maximo:.2f}')\n",
    "print(f'Mínimo da coluna escolhida: {minimo:.2f}')"
   ]
  },
  {
   "cell_type": "markdown",
   "metadata": {},
   "source": [
    "# Calculando a Moda da coluna de Labels\n",
    "- A moda existe para dados categóricos\n",
    "- No nosso dataset de exemplo, apenas a coluna de labels(species) é categórica\n",
    "- Vamos contar quantos valores de cada categoria existem nessa coluna\n",
    "- Primeiro devemos ver quantos valores únicos existem\n",
    "- Depois contamos quantas vezes cada um aparece\n",
    "- O valor que mais ocorre é a Moda"
   ]
  },
  {
   "cell_type": "code",
   "execution_count": 161,
   "metadata": {},
   "outputs": [
    {
     "name": "stdout",
     "output_type": "stream",
     "text": [
      "setosa tem 50 ocorrências\n",
      "versicolor tem 50 ocorrências\n",
      "virginica tem 50 ocorrências\n"
     ]
    }
   ],
   "source": [
    "# importando bibliotecas\n",
    "import pandas as pd\n",
    "\n",
    "# lendo dados\n",
    "iris = pd.read_csv('data/iris.txt')\n",
    "\n",
    "# transformando a coluna sepal_length em lista\n",
    "coluna_escolhida = 'species'\n",
    "lista_labels = list(iris.loc[:, coluna_escolhida])\n",
    "\n",
    "# ***********************************************************************************\n",
    "# *********A partir daqui nos nao usamos mais nenhuma funcao auxiliar****************\n",
    "# ***********************************************************************************\n",
    "\n",
    "# criando uma lista com valores unicos\n",
    "lista_unica = []\n",
    "for item in lista_labels:\n",
    "    if item not in lista_unica:\n",
    "        lista_unica.append(item)\n",
    "\n",
    "\n",
    "# calculando quantidade de valores unicos\n",
    "n_unicos = 0\n",
    "for item in lista_unica:\n",
    "    n_unicos = n_unicos + 1\n",
    "\n",
    "# vamos criar um dicionario que e uma outra estrutura de dados\n",
    "# mandarei um outro Notebook com essas estruturas de dados\n",
    "dic_quant = {k: 0 for k in lista_unica}\n",
    "\n",
    "for key in dic_quant.keys():\n",
    "    for item in lista_labels:\n",
    "        if key == item:\n",
    "            dic_quant[key] += 1\n",
    "\n",
    "for k, v in dic_quant.items():\n",
    "    print(f'{k} tem {v} ocorrências')"
   ]
  }
 ],
 "metadata": {
  "kernelspec": {
   "display_name": "Python 3",
   "language": "python",
   "name": "python3"
  },
  "language_info": {
   "codemirror_mode": {
    "name": "ipython",
    "version": 3
   },
   "file_extension": ".py",
   "mimetype": "text/x-python",
   "name": "python",
   "nbconvert_exporter": "python",
   "pygments_lexer": "ipython3",
   "version": "3.7.5"
  }
 },
 "nbformat": 4,
 "nbformat_minor": 2
}
