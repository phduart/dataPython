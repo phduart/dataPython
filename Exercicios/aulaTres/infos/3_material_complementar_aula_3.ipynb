{
 "cells": [
  {
   "cell_type": "markdown",
   "metadata": {},
   "source": [
    "# Estrutura de Dados <font color='green'>DICIONÁRIO</font>\n",
    "- Vamos conhecer mais uma Estrutura de Dados DICIONÁRIO do Python. Nós já usamos essa estrutura no DESAFIO do segundo material complementar da aula 3, vamos aprender um pouco sobre ela e algumas manipulações básicas."
   ]
  },
  {
   "cell_type": "markdown",
   "metadata": {},
   "source": [
    "## Criando um DICIONÁRIO\n",
    "- Usamos chaves {  } para criar um dicionário\n",
    "- Separamos as chaves dos valores por dois pontos e cada par chave-valor por vírgulas. Veja o exemplo"
   ]
  },
  {
   "cell_type": "code",
   "execution_count": 3,
   "metadata": {},
   "outputs": [
    {
     "name": "stdout",
     "output_type": "stream",
     "text": [
      "{'chave_1': 'valor_1', 'chave_2': 'valor_2'}\n"
     ]
    }
   ],
   "source": [
    "# criando um dicionario qualquer\n",
    "dicionario = {'chave_1': 'valor_1', 'chave_2': 'valor_2'}\n",
    "print(dicionario)"
   ]
  },
  {
   "cell_type": "markdown",
   "metadata": {},
   "source": [
    "- As chaves podem ser de qualquer tipo, inclusive de tipos diferentes, assim como os valores"
   ]
  },
  {
   "cell_type": "code",
   "execution_count": 6,
   "metadata": {},
   "outputs": [
    {
     "name": "stdout",
     "output_type": "stream",
     "text": [
      "{'string_chave': 'string_valor', 1: 3, 'um': 4, 3: 5}\n"
     ]
    }
   ],
   "source": [
    "# dicionario com tipos de dados diferentes\n",
    "dici_tipos = {'string_chave': 'string_valor', 1: 3, 'um': 4, 3: 5}\n",
    "print(dici_tipos)"
   ]
  },
  {
   "cell_type": "markdown",
   "metadata": {},
   "source": [
    "- A diferença para as listas é que no dicionário as chaves não tem uma ordem de índice. Nas listas os índices começam obrigatoriamente do zero e são todos inteiros, nos dicionários as chaves podem ser qualquer coisa.\n",
    "- Atente-se para criação de chaves repetidas, uma sobreescreve a outra"
   ]
  },
  {
   "cell_type": "code",
   "execution_count": 9,
   "metadata": {},
   "outputs": [
    {
     "name": "stdout",
     "output_type": "stream",
     "text": [
      "{'chave_1': 7364}\n"
     ]
    }
   ],
   "source": [
    "# dicionario com chaves repetidas\n",
    "dici_repetidas = {'chave_1': 5341, 'chave_1': 7364}\n",
    "print(dici_repetidas)"
   ]
  },
  {
   "cell_type": "markdown",
   "metadata": {},
   "source": [
    "## Não há ordenação nas chaves\n",
    "- Quando comparamos duas listas, elas retornam True se todos os itens são iguais e na ordenação igual. Veja os dois exemplos"
   ]
  },
  {
   "cell_type": "code",
   "execution_count": 11,
   "metadata": {},
   "outputs": [
    {
     "name": "stdout",
     "output_type": "stream",
     "text": [
      "list_1 e lista_2 são iguais? True\n",
      "list_1 e lista_3 são iguais? False\n"
     ]
    }
   ],
   "source": [
    "# criando listas para comparacao\n",
    "lista_1 = [1, 2, 3]\n",
    "lista_2 = [1, 2, 3]\n",
    "lista_3 = [3, 2, 1]\n",
    "\n",
    "print('list_1 e lista_2 são iguais?', lista_1 == lista_2)\n",
    "print('list_1 e lista_3 são iguais?', lista_1 == lista_3)"
   ]
  },
  {
   "cell_type": "markdown",
   "metadata": {},
   "source": [
    "- Apesar dos itens iguais da lista_1 e da lista_3, quando comparamos as duas, elas retornam um valor booleano False\n",
    "- Isso não acontece com dicionário, pois não há ordenação"
   ]
  },
  {
   "cell_type": "code",
   "execution_count": 13,
   "metadata": {},
   "outputs": [
    {
     "name": "stdout",
     "output_type": "stream",
     "text": [
      "dici_1 e dici_2 são iguais? True\n"
     ]
    }
   ],
   "source": [
    "# criando dicionarios para comparacao\n",
    "dici_1 = {'Rogerio': 29, 'Michel': 39, 'Kazu': 23}\n",
    "dici_2 = {'Kazu': 23, 'Rogerio': 29, 'Michel': 39}\n",
    "\n",
    "print('dici_1 e dici_2 são iguais?', dici_1 == dici_2)"
   ]
  },
  {
   "cell_type": "markdown",
   "metadata": {},
   "source": [
    "## Acessando valores\n",
    "- Acessar os valores de um dicionário é igual acessarmos valores de listas. Usamos colchetes e passamos a chave dentro dos colchetes. Veja:"
   ]
  },
  {
   "cell_type": "code",
   "execution_count": 32,
   "metadata": {},
   "outputs": [
    {
     "name": "stdout",
     "output_type": "stream",
     "text": [
      "Cargo do Rogério: data_scientist\n"
     ]
    }
   ],
   "source": [
    "dici_func = {'Rogerio': 'data_scientist', 'Dionisio': 'CEO', 'Michel': 'Designer', 'Franciele': 'Financeiro'}\n",
    "\n",
    "print(f\"Cargo do Rogério: {dici_func['Rogerio']}\")"
   ]
  },
  {
   "cell_type": "markdown",
   "metadata": {},
   "source": [
    "## Adicionando novos valores\n",
    "- Há duas maneiras de fazermos isso"
   ]
  },
  {
   "cell_type": "markdown",
   "metadata": {},
   "source": [
    "**PRIMEIRA MANEIRA**"
   ]
  },
  {
   "cell_type": "code",
   "execution_count": 33,
   "metadata": {},
   "outputs": [
    {
     "ename": "KeyError",
     "evalue": "'Kazu'",
     "output_type": "error",
     "traceback": [
      "\u001b[1;31m---------------------------------------------------------------------------\u001b[0m",
      "\u001b[1;31mKeyError\u001b[0m                                  Traceback (most recent call last)",
      "\u001b[1;32m<ipython-input-33-a592242d6785>\u001b[0m in \u001b[0;36m<module>\u001b[1;34m\u001b[0m\n\u001b[0;32m      1\u001b[0m \u001b[1;31m# primeira: vamos acessar uma chave que não existe\u001b[0m\u001b[1;33m\u001b[0m\u001b[1;33m\u001b[0m\u001b[1;33m\u001b[0m\u001b[0m\n\u001b[1;32m----> 2\u001b[1;33m \u001b[0mdici_func\u001b[0m\u001b[1;33m[\u001b[0m\u001b[1;34m'Kazu'\u001b[0m\u001b[1;33m]\u001b[0m\u001b[1;33m\u001b[0m\u001b[1;33m\u001b[0m\u001b[0m\n\u001b[0m",
      "\u001b[1;31mKeyError\u001b[0m: 'Kazu'"
     ]
    }
   ],
   "source": [
    "# primeira: vamos acessar uma chave que não existe\n",
    "dici_func['Kazu']"
   ]
  },
  {
   "cell_type": "code",
   "execution_count": 40,
   "metadata": {},
   "outputs": [
    {
     "name": "stdout",
     "output_type": "stream",
     "text": [
      "{'Dionisio': 'CEO',\n",
      " 'Franciele': 'Financeiro',\n",
      " 'Kazu': 'data_scientist',\n",
      " 'Michel': 'Designer',\n",
      " 'Rogerio': 'data_scientist'}\n"
     ]
    }
   ],
   "source": [
    "# biblioteca que faz um print \"bonito\" de um dicionario\n",
    "import pprint\n",
    "\n",
    "# se usarmos isso como se fosse uma variavel, podemos\n",
    "# criar um novo valor\n",
    "dici_func['Kazu'] = 'data_scientist'\n",
    "pprint.pprint(dici_func)"
   ]
  },
  {
   "cell_type": "markdown",
   "metadata": {},
   "source": [
    "**SEGUNDA MANEIRA**\n",
    "- Podemos usar o método setdefault() e criar uma chave e já colocar um valor"
   ]
  },
  {
   "cell_type": "code",
   "execution_count": 46,
   "metadata": {},
   "outputs": [
    {
     "name": "stdout",
     "output_type": "stream",
     "text": [
      "{'Dionisio': 'CEO',\n",
      " 'Franciele': 'Financeiro',\n",
      " 'Michel': 'Designer',\n",
      " 'Rogerio': 'data_scientist'}\n",
      "\n",
      "{'Dionisio': 'CEO',\n",
      " 'Franciele': 'Financeiro',\n",
      " 'Kazu': 'data_scientist',\n",
      " 'Michel': 'Designer',\n",
      " 'Rogerio': 'data_scientist'}\n"
     ]
    }
   ],
   "source": [
    "import pprint\n",
    "\n",
    "# criando dicionario\n",
    "dici_func = {'Rogerio': 'data_scientist', 'Dionisio': 'CEO', 'Michel': 'Designer', 'Franciele': 'Financeiro'}\n",
    "pprint.pprint(dici_func)\n",
    "\n",
    "# adicionando chave e valor que nao existem com setdefault()\n",
    "dici_func.setdefault('Kazu', 'data_scientist')\n",
    "\n",
    "print()\n",
    "pprint.pprint(dici_func)"
   ]
  },
  {
   "cell_type": "markdown",
   "metadata": {},
   "source": [
    "## Iterando no Dicionários\n",
    "- Assim como as listas, os dicionários são objetos e possuem alguns métodos muito úteis\n",
    "- Vamos aprender alguns deles"
   ]
  },
  {
   "cell_type": "code",
   "execution_count": 25,
   "metadata": {},
   "outputs": [
    {
     "name": "stdout",
     "output_type": "stream",
     "text": [
      "dict_keys(['Rogerio', 'Dionisio', 'Michel', 'Franciele'])\n",
      "dict_values(['data_scientist', 'CEO', 'Designer', 'Financeiro'])\n",
      "dict_items([('Rogerio', 'data_scientist'), ('Dionisio', 'CEO'), ('Michel', 'Designer'), ('Franciele', 'Financeiro')])\n"
     ]
    }
   ],
   "source": [
    "dici_func = {'Rogerio': 'data_scientist', 'Dionisio': 'CEO', 'Michel': 'Designer', 'Franciele': 'Financeiro'}\n",
    "\n",
    "# metodos keys() devolve as chaves de um dicionario\n",
    "print(dici_func.keys())\n",
    "\n",
    "# metodo values() retorna os valores de um dicionario\n",
    "print(dici_func.values())\n",
    "\n",
    "# metodos items() retorna os pares chaves-valores de um dicionario\n",
    "# items() funciona como o enumerate nas listas\n",
    "print(dici_func.items())"
   ]
  },
  {
   "cell_type": "markdown",
   "metadata": {},
   "source": [
    "- Com esses métodos podemos:\n",
    "    - Iterar pelos dicionários e acessar as chaves ou os valores ou os dois aos mesmo tempo\n",
    "    - Verificar se uma chave ou valor estão presentes em um dicionário\n",
    "    - Fazer alterações que quisermos dependendo do contexto que estamos"
   ]
  },
  {
   "cell_type": "code",
   "execution_count": 28,
   "metadata": {},
   "outputs": [
    {
     "name": "stdout",
     "output_type": "stream",
     "text": [
      "True\n",
      "True\n"
     ]
    }
   ],
   "source": [
    "# exemplo de verificacao de uma chave ou valor num dicionario\n",
    "print('Rogerio' in dici_func.keys())\n",
    "print('CEO' in dici_func.values())"
   ]
  },
  {
   "cell_type": "markdown",
   "metadata": {},
   "source": [
    "## Desafio\n",
    "- Criaremos um programa que nos retorna cargo e salário de funcionários\n",
    "- Devemos usar dicionários e listas, caso você sinta necessidade\n",
    "- As chaves devem ser os nomes dos funcionários\n",
    "- Os valores devem ser outro dicionário, onde:\n",
    "    - Uma chave é a string \"salario\", com o valor sendo um tipo float com o salário\n",
    "    - Outra chave é a string \"cargo\", com o valor sendo uma string com o cargo\n",
    "- O programa deve ter uma \"capa\", onde é mostrada todas as opções que o usuário pode ter\n",
    "    - Verificar funcionários\n",
    "    - Inserir novos funcionários\n",
    "    - Alterar dados existentes\n",
    "- O programa deve ter segurança, ou seja, somente pessoas que tenham permissão pode acessar coisas específicas\n",
    "- O programa deve rodar até o usuário escolher sair. Crie qualquer opção para isso\n",
    "- O programa deve ter uma opção para inserir novos funcionários\n",
    "- O programa deve ter uma opção para mudar algum dado já existente\n",
    "- O programa deve lidar com todos os problemas de inserções de dados errados\n",
    "    - Colocar mais de dois valores\n",
    "    - Colocar valores errados, colocar uma string no salário por exemplo\n",
    "    - Caso o usuário digite um nome que não exista ele deve devolver algo\n",
    "    - Etc etc"
   ]
  }
 ],
 "metadata": {
  "kernelspec": {
   "display_name": "Python 3",
   "language": "python",
   "name": "python3"
  },
  "language_info": {
   "codemirror_mode": {
    "name": "ipython",
    "version": 3
   },
   "file_extension": ".py",
   "mimetype": "text/x-python",
   "name": "python",
   "nbconvert_exporter": "python",
   "pygments_lexer": "ipython3",
   "version": "3.7.3"
  }
 },
 "nbformat": 4,
 "nbformat_minor": 2
}
