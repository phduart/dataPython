{
 "cells": [
  {
   "cell_type": "code",
   "execution_count": 1,
   "metadata": {},
   "outputs": [],
   "source": [
    "import pandas as pd"
   ]
  },
  {
   "cell_type": "markdown",
   "metadata": {},
   "source": [
    "**Exercício 1**\n",
    "- Pedir para o usuário um número inteiro maior do que ou igual a 2\n",
    "- Verificar se a condição acima é satisfeita\n",
    "- Criar uma lista de valores que vai de 1 até o número digitado pelo usuário\n",
    "- Somar todos os valores da lista criada\n",
    "- Printar na tela a soma obtida"
   ]
  },
  {
   "cell_type": "code",
   "execution_count": null,
   "metadata": {},
   "outputs": [],
   "source": [
    "numInput = int(input(\"Insira um numero mais que 2: \"))\n",
    "if(numInput < 2):\n",
    "    print(\"Não é maior ou igual a 2.\")\n",
    "    exit()\n",
    "list = []\n",
    "sumIndexList = 0\n",
    "for i in range(1, numInput+1):\n",
    "    list.append(i)\n",
    "    sumIndexList += i\n",
    "    print(\"Criando lista ... \", list)\n",
    "print(f\"Soma dos valores da lista: {sumIndexList}\")"
   ]
  },
  {
   "cell_type": "markdown",
   "metadata": {},
   "source": [
    "**Exercício 2**\n",
    "- Escolha uma coluna dos dados iris.txt\n",
    "- Transforme essa coluna em lista\n",
    "- Calcule a média dessa coluna sem auxílio de funções, use somente o que foi aprendido até aqui"
   ]
  },
  {
   "cell_type": "code",
   "execution_count": 2,
   "metadata": {},
   "outputs": [
    {
     "name": "stdout",
     "output_type": "stream",
     "text": [
      "5.843333333333335\n"
     ]
    }
   ],
   "source": [
    "iris = pd.read_csv(\"/Users/pauloduarte/JQ_Academy/Datas/iris.txt\")\n",
    "lista = list(iris['sepal_length'])\n",
    "somaDeItens = 0.0\n",
    "for item in(lista):\n",
    "    somaDeItens += float(item)\n",
    "print(somaDeItens/len(lista))"
   ]
  },
  {
   "cell_type": "markdown",
   "metadata": {},
   "source": [
    "**Exercício 3**\n",
    "- Escolha uma coluna dos dados iris.txt\n",
    "- Transforme essa coluna em lista\n",
    "- Calcule a mediana dessa coluna sem auxílio de funções, use somente o que foi aprendido até aqui"
   ]
  },
  {
   "cell_type": "code",
   "execution_count": 23,
   "metadata": {},
   "outputs": [
    {
     "name": "stdout",
     "output_type": "stream",
     "text": [
      "4.5\n"
     ]
    }
   ],
   "source": [
    "lista = sorted(list(iris['sepal_width']))\n",
    "if(len(lista)%2 == 0):\n",
    "    #Lista tendo um tamanho par\n",
    "    print(lista[int(len(lista)/2)]+lista[int((len(lista)/2)+1)]/2) \n",
    "else:\n",
    "    #Lista tendo um tamanho impar\n",
    "    print(lista[round(len(lista)/2)])"
   ]
  },
  {
   "cell_type": "markdown",
   "metadata": {},
   "source": [
    "**Exercício 4**\n",
    "- Escolha uma coluna dos dados iris.txt\n",
    "- Transforme essa coluna em lista\n",
    "- Calcule o desvio padrão dessa coluna sem auxílio de funções, use somente o que foi aprendido até aqui"
   ]
  },
  {
   "cell_type": "code",
   "execution_count": null,
   "metadata": {},
   "outputs": [],
   "source": []
  }
 ],
 "metadata": {
  "kernelspec": {
   "display_name": "Python 3",
   "language": "python",
   "name": "python3"
  },
  "language_info": {
   "codemirror_mode": {
    "name": "ipython",
    "version": 3
   },
   "file_extension": ".py",
   "mimetype": "text/x-python",
   "name": "python",
   "nbconvert_exporter": "python",
   "pygments_lexer": "ipython3",
   "version": "3.7.5"
  }
 },
 "nbformat": 4,
 "nbformat_minor": 2
}
