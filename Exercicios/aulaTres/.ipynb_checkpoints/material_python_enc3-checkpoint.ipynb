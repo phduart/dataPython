{
 "cells": [
  {
   "cell_type": "markdown",
   "metadata": {},
   "source": [
    "# Material Complementar\n",
    "\n",
    "Nesse material, vou tentar concentrar as informações mais importantes dadas até agora no curso sobre o Python. Note que tudo aqui tem um baixo nível de complexidade, pois estamos no Python \"puro\". Temos muitas limitações e fazer tarefas simples, como tirar uma média, nos exigem um grande esforço. Nos próximos módulos ficará bem claro o poder das bibliotecas.\n",
    "\n",
    "Fontes: https://docs.python.org/3/contents.html\n",
    "\n",
    "Bons estudos!"
   ]
  },
  {
   "cell_type": "markdown",
   "metadata": {},
   "source": [
    "## Tipo de valores\n",
    "\n",
    "O que são \"valores\"? De uma forma mais prática, são os nossos dados. Quando pedimos para o usuário inserir o nome, idade, data de nascimento, temos valores (values) sendo passados para o programa.\n",
    "\n",
    "Assim, temos em Python três tipos de valores: numéricos, texto e valores lógicos.\n",
    "\n",
    "### Numérico\n",
    "Basicamente são todos os valores que são números. E são separados em inteiros (int) e reais (float). \n",
    "\n",
    "Inteiro não tem casas depois da vírgula (no caso do Python, depois do ponto).\n",
    "\n",
    "Podemos converter valores para inteiros com a função **int()** e para reais com a função **float()**"
   ]
  },
  {
   "cell_type": "code",
   "execution_count": 1,
   "metadata": {},
   "outputs": [
    {
     "name": "stdout",
     "output_type": "stream",
     "text": [
      "1  é do tipo  <class 'int'>\n",
      "1.0  é do tipo  <class 'float'>\n",
      "1.1  é do tipo  <class 'float'>\n",
      "1  é do tipo  <class 'int'>\n"
     ]
    }
   ],
   "source": [
    "print(1, ' é do tipo ', type(1)) \n",
    "print(float(1), ' é do tipo ', type(float(1))) # note que há uma diferença para o Python, mas não nos afeta muito \n",
    "print(1.1, ' é do tipo ', type(1.1))\n",
    "print(int(1.1), ' é do tipo ', type(int(1.1))) # note que as casas depois da vírgula são descartadas"
   ]
  },
  {
   "cell_type": "code",
   "execution_count": 2,
   "metadata": {},
   "outputs": [
    {
     "name": "stdout",
     "output_type": "stream",
     "text": [
      "1.5  é do tipo  <class 'float'>\n",
      "1  é do tipo  <class 'int'>\n",
      "1.0  é do tipo  <class 'float'>\n"
     ]
    }
   ],
   "source": [
    "print(3/2, ' é do tipo ', type(3/2)) \n",
    "print(int(3/2), ' é do tipo ', type(int(3/2)))\n",
    "print(float(int(3/2)), ' é do tipo ', type(float(int(3/2))))"
   ]
  },
  {
   "cell_type": "markdown",
   "metadata": {},
   "source": [
    "### String (Texto)\n",
    "São todos os valores que são interpretados como texto. São definidos com 'aspas simples' ou \"aspas duplas\".\n",
    "\n",
    "Podemos converter valores para string com a função **str()**"
   ]
  },
  {
   "cell_type": "code",
   "execution_count": 3,
   "metadata": {},
   "outputs": [
    {
     "name": "stdout",
     "output_type": "stream",
     "text": [
      "string\n",
      "string\n",
      "\n",
      "string com 'aspas simples'\n",
      "string com \"aspas duplas\"\n",
      "\n",
      "string com 'aspas simples'\n",
      "string com \"aspas duplas\"\n"
     ]
    }
   ],
   "source": [
    "# Não há diferenças entre declarar uma string com \"\" ou ''\n",
    "print('string')\n",
    "print(\"string\")\n",
    "print()\n",
    "\n",
    "# Mas essa flexibilidade nos permite fazer: \n",
    "print(\"string com 'aspas simples'\")\n",
    "print('string com \"aspas duplas\"')\n",
    "print()\n",
    "\n",
    "# Equivalentemente, também poderíamos fazer assim:\n",
    "print('string com \\'aspas simples\\'')\n",
    "print(\"string com \\\"aspas duplas\\\"\")"
   ]
  },
  {
   "cell_type": "code",
   "execution_count": 4,
   "metadata": {},
   "outputs": [
    {
     "data": {
      "text/plain": [
       "'~ç^´`[123]!@#$%¨*&*()_=+-*/'"
      ]
     },
     "execution_count": 4,
     "metadata": {},
     "output_type": "execute_result"
    }
   ],
   "source": [
    "# Podemos ter qualquer caracter dentro de uma string\n",
    "'~ç^´`[123]!@#$%¨*&*()_=+-*/'"
   ]
  },
  {
   "cell_type": "code",
   "execution_count": 5,
   "metadata": {},
   "outputs": [
    {
     "data": {
      "text/plain": [
       "'1.5'"
      ]
     },
     "execution_count": 5,
     "metadata": {},
     "output_type": "execute_result"
    }
   ],
   "source": [
    "# podemos converter strings para valores numéricos, desde que seja possível.\n",
    "a = str(1.5)\n",
    "a"
   ]
  },
  {
   "cell_type": "code",
   "execution_count": 6,
   "metadata": {},
   "outputs": [
    {
     "name": "stdout",
     "output_type": "stream",
     "text": [
      "1.5  é do tipo  <class 'float'>\n"
     ]
    }
   ],
   "source": [
    "b = float(a)\n",
    "print(b, ' é do tipo ', type(b))"
   ]
  },
  {
   "cell_type": "code",
   "execution_count": 7,
   "metadata": {},
   "outputs": [
    {
     "ename": "ValueError",
     "evalue": "invalid literal for int() with base 10: '1.1'",
     "output_type": "error",
     "traceback": [
      "\u001b[1;31m---------------------------------------------------------------------------\u001b[0m",
      "\u001b[1;31mValueError\u001b[0m                                Traceback (most recent call last)",
      "\u001b[1;32m<ipython-input-7-112bc1f92c41>\u001b[0m in \u001b[0;36m<module>\u001b[1;34m\u001b[0m\n\u001b[0;32m      1\u001b[0m \u001b[1;31m# Exemplo de como dá errado\u001b[0m\u001b[1;33m\u001b[0m\u001b[1;33m\u001b[0m\u001b[1;33m\u001b[0m\u001b[0m\n\u001b[1;32m----> 2\u001b[1;33m \u001b[0mexemplo_erro\u001b[0m \u001b[1;33m=\u001b[0m \u001b[0mint\u001b[0m\u001b[1;33m(\u001b[0m\u001b[1;34m'1.1'\u001b[0m\u001b[1;33m)\u001b[0m\u001b[1;33m\u001b[0m\u001b[1;33m\u001b[0m\u001b[0m\n\u001b[0m\u001b[0;32m      3\u001b[0m \u001b[0mprint\u001b[0m\u001b[1;33m(\u001b[0m\u001b[0mexemplo_erro\u001b[0m\u001b[1;33m,\u001b[0m \u001b[1;34m' é do tipo '\u001b[0m\u001b[1;33m,\u001b[0m \u001b[0mtype\u001b[0m\u001b[1;33m(\u001b[0m\u001b[0mexemplo_erro\u001b[0m\u001b[1;33m)\u001b[0m\u001b[1;33m)\u001b[0m\u001b[1;33m\u001b[0m\u001b[1;33m\u001b[0m\u001b[0m\n",
      "\u001b[1;31mValueError\u001b[0m: invalid literal for int() with base 10: '1.1'"
     ]
    }
   ],
   "source": [
    "# Exemplo de como dá errado\n",
    "exemplo_erro = int('1.1')\n",
    "print(exemplo_erro, ' é do tipo ', type(exemplo_erro))"
   ]
  },
  {
   "cell_type": "code",
   "execution_count": 8,
   "metadata": {},
   "outputs": [
    {
     "ename": "ValueError",
     "evalue": "could not convert string to float: '1 a'",
     "output_type": "error",
     "traceback": [
      "\u001b[1;31m---------------------------------------------------------------------------\u001b[0m",
      "\u001b[1;31mValueError\u001b[0m                                Traceback (most recent call last)",
      "\u001b[1;32m<ipython-input-8-96b0169d1503>\u001b[0m in \u001b[0;36m<module>\u001b[1;34m\u001b[0m\n\u001b[0;32m      1\u001b[0m \u001b[1;31m# Exemplo 2 de como dá errado\u001b[0m\u001b[1;33m\u001b[0m\u001b[1;33m\u001b[0m\u001b[1;33m\u001b[0m\u001b[0m\n\u001b[1;32m----> 2\u001b[1;33m \u001b[0mexemplo_erro2\u001b[0m \u001b[1;33m=\u001b[0m \u001b[0mfloat\u001b[0m\u001b[1;33m(\u001b[0m\u001b[1;34m'1 a'\u001b[0m\u001b[1;33m)\u001b[0m\u001b[1;33m\u001b[0m\u001b[1;33m\u001b[0m\u001b[0m\n\u001b[0m\u001b[0;32m      3\u001b[0m \u001b[0mprint\u001b[0m\u001b[1;33m(\u001b[0m\u001b[0mexemplo_erro2\u001b[0m\u001b[1;33m,\u001b[0m \u001b[1;34m' é do tipo '\u001b[0m\u001b[1;33m,\u001b[0m \u001b[0mtype\u001b[0m\u001b[1;33m(\u001b[0m\u001b[0mexemplo_erro2\u001b[0m\u001b[1;33m)\u001b[0m\u001b[1;33m)\u001b[0m\u001b[1;33m\u001b[0m\u001b[1;33m\u001b[0m\u001b[0m\n",
      "\u001b[1;31mValueError\u001b[0m: could not convert string to float: '1 a'"
     ]
    }
   ],
   "source": [
    "# Exemplo 2 de como dá errado\n",
    "exemplo_erro2 = float('1 a')\n",
    "print(exemplo_erro2, ' é do tipo ', type(exemplo_erro2))"
   ]
  },
  {
   "cell_type": "markdown",
   "metadata": {},
   "source": [
    "### Booleanas (valores lógicos)\n",
    "São valores de lógica matemática. Correspondem à verdadeiro (True) ou falso (False).\n",
    "\n",
    "Podemos converter valores para booleanos com a função **bool()**, quase tudo vira True, exceto 0 e None"
   ]
  },
  {
   "cell_type": "code",
   "execution_count": 9,
   "metadata": {},
   "outputs": [
    {
     "name": "stdout",
     "output_type": "stream",
     "text": [
      "True\n",
      "False\n",
      "<class 'bool'>\n",
      "1\n",
      "0\n"
     ]
    }
   ],
   "source": [
    "# Exemplos de como valores booleanos se comportam:\n",
    "print(True)\n",
    "print(False)\n",
    "\n",
    "# utilizando a função type para ver o tipo do True\n",
    "print(type(True))\n",
    "\n",
    "# transformando bool em int\n",
    "print(int(True))\n",
    "print(int(False))"
   ]
  },
  {
   "cell_type": "code",
   "execution_count": 10,
   "metadata": {},
   "outputs": [
    {
     "name": "stdout",
     "output_type": "stream",
     "text": [
      "2\n",
      "True\n",
      "False\n",
      "False\n"
     ]
    }
   ],
   "source": [
    "# Exemplos de comportamento:\n",
    "print(True + True)\n",
    "print(bool(1))\n",
    "print(bool(0))\n",
    "print(bool(None))"
   ]
  },
  {
   "cell_type": "markdown",
   "metadata": {},
   "source": [
    "##### Observações: \n",
    "* O jupyter notebook entende partes do código e facilitam o uso da linguagem:\n",
    "  * quando escrevemos números, as letras ficam verdes.\n",
    "  * quando escrevemos strings, as letras ficam vermelhas.\n",
    "  * quando escrevemos True ou False, as letras ficam verdes e em negrito.\n",
    "  * Outras palavras restritas também tem esse comportamento, como funções, operadores aritméticos, operadores lógicos, frases comentadas. \n",
    "* Não temos valores de data, precisamos da biblioteca datetime para isso. Veremos mais sobre valores de datas em pandas, pois pandas envolve a biblioteca datetime.\n",
    "* O valor None é nativo do Python, e significa nada. Quando uma variável tem o valor None, significa que esta está vazia."
   ]
  },
  {
   "cell_type": "code",
   "execution_count": 11,
   "metadata": {},
   "outputs": [
    {
     "data": {
      "text/plain": [
       "'# isso não é um comentário'"
      ]
     },
     "execution_count": 11,
     "metadata": {},
     "output_type": "execute_result"
    }
   ],
   "source": [
    "### Informação Útil\n",
    "\n",
    "## Comentários podem ser escritos em qualquer lugar do código e não afetam em nada em sua execução\n",
    "\n",
    "# eles são úteis para descrever a execução do programa\n",
    "\n",
    "# seja legal com o seu 'eu' do futuro e comente seu código\n",
    "\n",
    "'# isso não é um comentário'"
   ]
  },
  {
   "cell_type": "markdown",
   "metadata": {},
   "source": [
    "## Variáveis\n",
    "Agora que sabemos os tipos de dados que podemos utilizar no Python, precisamos utilizar eles de alguma maneira.\n",
    "\n",
    "Para reutilizar o resultado de uma operação ou um valor inserido por um usuário, precisamos salvá-lo em uma **variável**.\n",
    "\n",
    "Inicializamos uma variável quando damos (atribuímos) um valor à ela. Toda vez que escrevermos o nome da variável, estaremos utilizando o valor que foi guardado dentro da variável (quando **chamamos** a variável, ela **retorna** o valor guardado dentro da variável.).\n",
    "\n",
    "Os nomes das variáveis no Python podem conter letras maiúsculas (A-Z) e minúsculas (a-z), números (0-9) e underline (\\_). Mas não podem iniciar (primeiro caracter) com números."
   ]
  },
  {
   "cell_type": "code",
   "execution_count": 12,
   "metadata": {},
   "outputs": [
    {
     "name": "stdout",
     "output_type": "stream",
     "text": [
      "10\n"
     ]
    }
   ],
   "source": [
    "a = 10\n",
    "print(a)"
   ]
  },
  {
   "cell_type": "code",
   "execution_count": 13,
   "metadata": {},
   "outputs": [
    {
     "ename": "NameError",
     "evalue": "name 'x' is not defined",
     "output_type": "error",
     "traceback": [
      "\u001b[1;31m---------------------------------------------------------------------------\u001b[0m",
      "\u001b[1;31mNameError\u001b[0m                                 Traceback (most recent call last)",
      "\u001b[1;32m<ipython-input-13-db52151376e0>\u001b[0m in \u001b[0;36m<module>\u001b[1;34m\u001b[0m\n\u001b[0;32m      1\u001b[0m \u001b[1;31m# variável x ainda não foi dado nenhum valor\u001b[0m\u001b[1;33m\u001b[0m\u001b[1;33m\u001b[0m\u001b[1;33m\u001b[0m\u001b[0m\n\u001b[1;32m----> 2\u001b[1;33m \u001b[0mprint\u001b[0m\u001b[1;33m(\u001b[0m\u001b[0mx\u001b[0m\u001b[1;33m)\u001b[0m\u001b[1;33m\u001b[0m\u001b[1;33m\u001b[0m\u001b[0m\n\u001b[0m\u001b[0;32m      3\u001b[0m \u001b[1;31m# Teremos um erro de nome ainda não definido\u001b[0m\u001b[1;33m\u001b[0m\u001b[1;33m\u001b[0m\u001b[1;33m\u001b[0m\u001b[0m\n",
      "\u001b[1;31mNameError\u001b[0m: name 'x' is not defined"
     ]
    }
   ],
   "source": [
    "# variável x ainda não foi dado nenhum valor\n",
    "print(x)\n",
    "# Teremos um erro de nome ainda não definido"
   ]
  },
  {
   "cell_type": "markdown",
   "metadata": {},
   "source": [
    "Observações: \n",
    "* Em muitos tutoriais da internet o conceito de variável e valor são misturados, pois variáveis são vistas como os dados que elas armazenam. É comum falar sobre tipo de variáveis, ao invés de tipo de valores como fizemos no curso. Eu, particularmente, entendo que variáveis são apenas um _container_ onde os valores são guardados. É um detalhe pequeno, mas devemos sempre ter em mente que uma variável pode sempre mudar de valor ao longo do código. "
   ]
  },
  {
   "cell_type": "code",
   "execution_count": 14,
   "metadata": {},
   "outputs": [],
   "source": [
    "# Exemplo\n",
    "a = 1\n",
    "a = 2\n",
    "a = a + 3\n",
    "a = 'texto'\n",
    "a = a + ' texto'\n",
    "a = True\n",
    "a = [1, 'texto']"
   ]
  },
  {
   "cell_type": "markdown",
   "metadata": {},
   "source": [
    "* Poderíamos fazer códigos em variáveis, mas ninguém iria entender nada."
   ]
  },
  {
   "cell_type": "code",
   "execution_count": 15,
   "metadata": {},
   "outputs": [
    {
     "name": "stdout",
     "output_type": "stream",
     "text": [
      "Insira a sua temperatura em celsius: 10\n",
      "Temperatura em fahrenheit 50.0\n"
     ]
    }
   ],
   "source": [
    "## Exemplo do problema de conversão de temperatura de celsius para fahrenheint\n",
    "celsius = float(input('Insira a sua temperatura em celsius: '))\n",
    "fahrenheit = 1.8 * celsius + 32\n",
    "print(f'Temperatura em fahrenheit {fahrenheit}')"
   ]
  },
  {
   "cell_type": "code",
   "execution_count": 16,
   "metadata": {},
   "outputs": [
    {
     "name": "stdout",
     "output_type": "stream",
     "text": [
      "Insira a sua temperatura em celsius: 10\n",
      "Temperatura em fahrenheit 50.0\n"
     ]
    }
   ],
   "source": [
    "## Poderíamos fazer assim:\n",
    "# One Line Coding\n",
    "print(f\"Temperatura em fahrenheit {1.8 * float(input('Insira a sua temperatura em celsius: ')) + 32}\")\n",
    "\n",
    "# Porém fica um código muito difícil de entender"
   ]
  },
  {
   "cell_type": "code",
   "execution_count": 17,
   "metadata": {},
   "outputs": [
    {
     "name": "stdout",
     "output_type": "stream",
     "text": [
      "número de identificação do valor 1:  140730497012544\n",
      "número de identificação do valor 2:  140730497012576\n",
      "valor da variável1:  1\n",
      "valor da variável2:  1\n",
      "número de identificação da variável1:  140730497012544\n",
      "número de identificação da variável1:  140730497012544\n",
      "valor da variável1:  1\n",
      "valor da variável2:  2\n",
      "número de identificação da variável1:  140730497012544\n",
      "número de identificação da variável2:  140730497012576\n"
     ]
    }
   ],
   "source": [
    "# Curiosidade para programadores raiz\n",
    "print('número de identificação do valor 1: ', id(1))\n",
    "print('número de identificação do valor 2: ', id(2))\n",
    "\n",
    "variavel1 = 1\n",
    "\n",
    "variavel2 = variavel1\n",
    "print('valor da variável1: ', variavel1)\n",
    "print('valor da variável2: ', variavel2)\n",
    "print('número de identificação da variável1: ', id(variavel1))\n",
    "print('número de identificação da variável1: ', id(variavel2))\n",
    "\n",
    "variavel2 = 2\n",
    "\n",
    "print('valor da variável1: ', variavel1)\n",
    "print('valor da variável2: ', variavel2)\n",
    "print('número de identificação da variável1: ', id(variavel1))\n",
    "print('número de identificação da variável2: ', id(variavel2))"
   ]
  },
  {
   "cell_type": "markdown",
   "metadata": {},
   "source": [
    "## Operadores Aritméticos\n",
    "\n",
    "Operadores aritméticos são as operações que estamos acostumados quando utilizamos números.\n",
    "Interessante é o comportamento do Python quando utilizamos texto ou listas."
   ]
  },
  {
   "cell_type": "code",
   "execution_count": 18,
   "metadata": {},
   "outputs": [
    {
     "name": "stdout",
     "output_type": "stream",
     "text": [
      "operação concatenar\n",
      "repetição repetição repetição \n"
     ]
    }
   ],
   "source": [
    "# soma de strings\n",
    "var = 'operação ' + 'concatenar'\n",
    "print(var)\n",
    "\n",
    "# multiplicação de string com inteiro\n",
    "print('repetição ' * 3)"
   ]
  },
  {
   "cell_type": "code",
   "execution_count": 19,
   "metadata": {},
   "outputs": [],
   "source": [
    "# Curiosidade\n",
    "a = 2\n",
    "a = a + 3\n",
    "\n",
    "# é equivalente à \n",
    "a = 2\n",
    "a += 3\n",
    "\n",
    "# Podemos fazer o mesmo para as outras operações"
   ]
  },
  {
   "cell_type": "markdown",
   "metadata": {},
   "source": [
    "## Expressões Condicionais (if, elif e else)\n",
    "Em Python, temos expressões condicionais. São utilizadas quando temos que agir de maneiras diferentes, dependendo da situação.\n",
    "\n",
    "A expressão <font size=\"3\">**'if'**</font> é usada para execuções condicionais, ou seja, quando desejamos que parte do código seja executada apenas em situações específicas.\n",
    "\n",
    "A estrutura da condicional <font size=\"3\">**'if'**</font> é seguindo a sequência exemplificada abaixo:\n",
    "\n",
    "```python\n",
    "if \"expression\":\n",
    "    action\n",
    "```\n",
    "\n",
    "Essa estrutura é composta sempre de uma expressão lógica e de uma ação, que é o código a ser executado. Será então avaliado se a expressão possui o valor de **True** ou **False** e então, caso seja **True**, será executado a ação correspondente.\n",
    "\n",
    "Note que o código correspondente à ação deve estar __indentado__, pois é assim que o Python interpreta o que é a ação dentro das rotinas e o que está fora, como mostrado a seguir:\n",
    "\n",
    "```python\n",
    "if True:\n",
    "    print(\"isso está dentro do if.\")\n",
    "print(\"isso está fora do if.\")\n",
    "```\n",
    "\n",
    "Porém, caso queiramos adicionar mais condições, iremos então utilizar do <font size=\"3\">**'elif'**</font>, que basicamente significa \"caso a primeira condição é False, então, se nova condição é True, faremos a seguinte ação\". Por conseguinte, caso queiramos que uma ação seja realizada para qualquer caso que não seja as especificadas anteriormente, seja por \"if\" ou por \"elif\"s, utilizamos então o <font size=\"3\">**'else'**</font>. Assim, temos a seguinte estrutura geral exemplificando:\n",
    "\n",
    "```python\n",
    "if \"condição 1\":\n",
    "    action 1  \n",
    "elif \"condição 2\":\n",
    "    action 2\n",
    "elif \"condição 3\":\n",
    "    action 3\n",
    "else:\n",
    "    action para o resto\n",
    "```\n"
   ]
  },
  {
   "cell_type": "markdown",
   "metadata": {},
   "source": [
    "## Expressões Loops\n",
    "\n",
    "\n",
    "Loops, como o próprio nome sugere, são expressões para realizar repetições no código, assim a mesma parte do código pode ser executada várias vezes. Isso é importante em casos que queremos realizar a mesma ação diversas vezes ou um conjunto de ações similares, sem precisar escrever o código várias vezes. As expressões de loop no Python são **while** e **for**.\n",
    "\n",
    "Em python temos duas expressões de loops (ou laços). São expressões que realizam repetições em uma parte do código.\n",
    "\n",
    "- While\n",
    "    - Podemos interpretar (ou ler) \"while statement:\" como \"enquanto statement for verdadeira:\".\n",
    "    - Apenas sai do loop se a condição se tornar falsa.\n",
    "    - Grande risco de loops infinitos.\n",
    "    \n",
    "A estrutura do **while** está mostrada abaixo. O código dentro do while será executado **enquanto a expression for verdadeira**. Seu comportamento é parecido com o if, porém no if a ação é realizada apenas uma vez. Portanto, o while necessita que a ação dentro do loop realize alguma mudança no valor da expressão avaliada para que em algum momento o loop seja quebrado. Caso contrário, teremos então o famoso **loop infinito**.\n",
    "\n",
    "#### while\n",
    "```python\n",
    "while \"expression\" :\n",
    "    action looped\n",
    "else:\n",
    "    action otherwise\n",
    "```\n",
    "\n",
    "- For\n",
    "    - Podemos interpretar (ou ler) \"for elemento in conjunto:\" como \"para cada elemento dentro de conjunto:\"\n",
    "    - Passa por cada elemento do conjunto definido.\n",
    "\n",
    "A estrutura do **for** está mostrada abaixo. O código dentro do for será executado uma vez **para cada elemento target da sequencia**. A variável em target_list assumirá cada valor dentro da expression_list em cada iteração do loop em sequência até que a expression_list acabe. A target_list é geralmente usada como variável dentro do loop, modificando o resultado da ação para cada loop, caso contrário, o loop realizaria a mesma ação várias vezes. A expression_list é onde se determina quais valores a target_list vai assumir. A expression_list pode ser uma estrutura sequencial (string, tuple ou list) ou um objeto iterável (serão discutidos na parte 03). \n",
    "\n",
    "#### for\n",
    "```python\n",
    "for \"target_list\" in \"expression_list\": \n",
    "    action looped\n",
    "else: \n",
    "    action otherwise\n",
    "```"
   ]
  },
  {
   "cell_type": "code",
   "execution_count": 20,
   "metadata": {},
   "outputs": [
    {
     "name": "stdout",
     "output_type": "stream",
     "text": [
      "1\n",
      "3\n",
      "5\n",
      "7\n",
      "9\n"
     ]
    }
   ],
   "source": [
    "# printando numeros de 1 a 10, pulando de 2 em 2\n",
    "for i in range(11):\n",
    "    if i % 2 != 0:\n",
    "        print(i)"
   ]
  },
  {
   "cell_type": "code",
   "execution_count": 21,
   "metadata": {},
   "outputs": [
    {
     "name": "stdout",
     "output_type": "stream",
     "text": [
      "1\n",
      "3\n",
      "5\n",
      "7\n",
      "9\n"
     ]
    }
   ],
   "source": [
    "# printando numeros ímpares de 1 a 10\n",
    "for i in range(1, 11, 2):\n",
    "    print(i)"
   ]
  },
  {
   "cell_type": "code",
   "execution_count": 22,
   "metadata": {},
   "outputs": [
    {
     "name": "stdout",
     "output_type": "stream",
     "text": [
      "1\n",
      "3\n",
      "5\n",
      "7\n",
      "9\n"
     ]
    }
   ],
   "source": [
    "# printando numeros de 1 a 10, pulando de 2 em 2\n",
    "i = 0\n",
    "while i < 10:\n",
    "    i += 1\n",
    "    if i % 2 != 0:\n",
    "        print(i)"
   ]
  },
  {
   "cell_type": "code",
   "execution_count": 23,
   "metadata": {},
   "outputs": [
    {
     "name": "stdout",
     "output_type": "stream",
     "text": [
      "1\n",
      "3\n",
      "5\n",
      "7\n",
      "9\n"
     ]
    }
   ],
   "source": [
    "# printando numeros de 1 a 10, pulando de 2 em 2\n",
    "i = 0\n",
    "while i < 10:\n",
    "    if i % 2 != 0:\n",
    "        print(i)\n",
    "        i += 2\n",
    "    else:\n",
    "        i += 1"
   ]
  },
  {
   "cell_type": "code",
   "execution_count": 24,
   "metadata": {},
   "outputs": [
    {
     "name": "stdout",
     "output_type": "stream",
     "text": [
      "1\n",
      "3\n",
      "5\n",
      "7\n",
      "9\n"
     ]
    }
   ],
   "source": [
    "# note que o 'for' loop, segue os elementos do conjunto.\n",
    "# operações com o elemento da iteração não afetam as próximas iterações.\n",
    "# porém não recomendamos fazer isso para não causar ambiguidade.\n",
    "\n",
    "# printando numeros ímpares de 1 a 10\n",
    "for i in range(1, 11, 2):\n",
    "    print(i)\n",
    "    i += 10"
   ]
  },
  {
   "cell_type": "markdown",
   "metadata": {},
   "source": [
    "#### Curiosidade\n",
    "\n",
    "Note que é possível utilizar [a expressão **else** juntamente com o for e o while](https://stackoverflow.com/questions/3295938/else-clause-on-python-while-statement).\n"
   ]
  },
  {
   "cell_type": "markdown",
   "metadata": {},
   "source": [
    "## Estruturas de dados\n",
    "Vamos apresentar as estruturas de dados principais do Python.\n",
    "\n",
    "Note que as estruturas aqui são bem básicas.\n",
    "\n",
    "As bibliotecas que serão vistas no curso nos apresentarão novas estruturas mais completas e mais poderosas em seu uso.\n",
    "\n",
    "As estruturas mais importantes do Python são:\n",
    "### List\n",
    "Listas (list) são um conjunto de dados, definidos separados por vígula e entre colchetes []. Listas são **ordenados** e **mutáveis**.\n",
    "\n",
    "### Set\n",
    "Sets são parecidos com listas, porém não contém elementos duplicados. São definidos separados por vígula e entre chaves {}. São **não ordenados**, mas são **mutáveis**.\n",
    "\n",
    "### Tuple\n",
    "Tuplas são parecidas com listasm, porém não podem ser modificadas uma vez que são criadas. São **ordenados** mas **imutáveis**. Boas para criar gabaritos e armazenar resultados que não podem ser modificados.\n",
    "\n",
    "### Dictionary\n",
    "Dicionários são um tipo de mapeamento, onde se mapeia 'keys'(palavra-chave), qualquer tipo imutável, para 'values' (significados), que podem ser de qualquer tipo. A relação key-value é como num dicionário a relação palavra-significado. São são **mutáveis**."
   ]
  },
  {
   "cell_type": "markdown",
   "metadata": {},
   "source": [
    "##### O que é um objeto ordenado (ordered objects)\n",
    "\n",
    "São objetos que preservam a ordem dos valores do momento da declaração do objeto. Veja o exemplo abaixo:"
   ]
  },
  {
   "cell_type": "code",
   "execution_count": 25,
   "metadata": {},
   "outputs": [
    {
     "name": "stdout",
     "output_type": "stream",
     "text": [
      "Exemplo de lista:  [120, 360, 10, 2, 1, 3]\n",
      "Exemplo de set  :  {1, 2, 3, 360, 10, 120}\n",
      "Exemplo de tupla:  (120, 360, 10, 2, 1, 3)\n"
     ]
    }
   ],
   "source": [
    "# Declaração de uma lista\n",
    "exemple_list = [120, 360, 10, 2, 1, 3]\n",
    "print('Exemplo de lista: ', exemple_list)\n",
    "\n",
    "# Declaração de um set\n",
    "exemple_set = {120, 360, 10, 2, 1, 3} \n",
    "print('Exemplo de set  : ', exemple_set) \n",
    "# note que o set coloca os valores em ordem crescente (sort), mudando a ordem original dos valores.\n",
    "\n",
    "# Declaração de uma tupla\n",
    "exemple_tuple = (120, 360, 10, 2, 1, 3)\n",
    "print('Exemplo de tupla: ', exemple_tuple)"
   ]
  },
  {
   "cell_type": "code",
   "execution_count": 26,
   "metadata": {},
   "outputs": [
    {
     "name": "stdout",
     "output_type": "stream",
     "text": [
      "{'a': 10, 'b': 1000, 'd': 120, 'c': 200}\n"
     ]
    }
   ],
   "source": [
    "# Declaração de um dicionário\n",
    "example_dict = {'a': 10, 'b': 1000, 'd': 120, 'c': 200}\n",
    "print(example_dict)"
   ]
  },
  {
   "cell_type": "markdown",
   "metadata": {},
   "source": [
    "Dicionários não são ordenados pois são objetos de mapeamento (relação key-value) e não há posições 0, 1, 2, ... como acontece em sequências como listas, sets e tuplas.\n",
    "\n",
    "Sequências possuem comportamentos específicos, veja alguns exemplos abaixo:\n",
    "\n",
    "**Todos os exemplos abaixo funcionam para tuplas e sets.**"
   ]
  },
  {
   "cell_type": "code",
   "execution_count": 27,
   "metadata": {},
   "outputs": [
    {
     "name": "stdout",
     "output_type": "stream",
     "text": [
      "a lista tem o elemento 120?:  True\n",
      "a lista tem o elemento 12? :  False\n"
     ]
    }
   ],
   "source": [
    "# Declaração de uma lista\n",
    "exemple_list = [120, 360, 10, 2, 1, 3]\n",
    "\n",
    "# Operador 'in'\n",
    "print('a lista tem o elemento 120?: ', 120 in exemple_list)\n",
    "print('a lista tem o elemento 12? : ', 12 in exemple_list)"
   ]
  },
  {
   "cell_type": "code",
   "execution_count": 28,
   "metadata": {},
   "outputs": [
    {
     "name": "stdout",
     "output_type": "stream",
     "text": [
      "soma de listas:  ['j', '!', 'q', 'a', 'c', 'a', 'd', 'e', 'm', 'y']\n"
     ]
    }
   ],
   "source": [
    "# Operação de soma \n",
    "exemple_list1 = ['j', '!', 'q']\n",
    "exemple_list2 = ['a', 'c', 'a', 'd', 'e', 'm', 'y']\n",
    "print('soma de listas: ', exemple_list1 + exemple_list2)"
   ]
  },
  {
   "cell_type": "code",
   "execution_count": 29,
   "metadata": {},
   "outputs": [
    {
     "name": "stdout",
     "output_type": "stream",
     "text": [
      "multiplicação de listas:  ['j', '!', 'q', 'j', '!', 'q', 'j', '!', 'q']\n"
     ]
    }
   ],
   "source": [
    "# Operação de multiplicação com inteiros \n",
    "print('multiplicação de listas: ', exemple_list1 * 3)"
   ]
  },
  {
   "cell_type": "code",
   "execution_count": 30,
   "metadata": {},
   "outputs": [
    {
     "name": "stdout",
     "output_type": "stream",
     "text": [
      "acesso aos elementos 1 a 4 da lista:  ['c', 'a', 'd', 'e']\n"
     ]
    }
   ],
   "source": [
    "# Slicing (fatiar), acessar parte dos elementos da lista\n",
    "print('acesso aos elementos 1 a 4 da lista: ', exemple_list2[1:5])"
   ]
  },
  {
   "cell_type": "code",
   "execution_count": 31,
   "metadata": {},
   "outputs": [
    {
     "name": "stdout",
     "output_type": "stream",
     "text": [
      "tamanho da lista     :  3\n",
      "valor mínimo da lista:  !\n",
      "valor máximo da lista:  q\n",
      "\n",
      "tamanho da lista     :  6\n",
      "valor mínimo da lista:  1\n",
      "valor máximo da lista:  360\n"
     ]
    }
   ],
   "source": [
    "# funções\n",
    "print('tamanho da lista     : ', len(exemple_list1))\n",
    "print('valor mínimo da lista: ', min(exemple_list1))\n",
    "print('valor máximo da lista: ', max(exemple_list1))\n",
    "print()\n",
    "\n",
    "print('tamanho da lista     : ', len(exemple_list))\n",
    "print('valor mínimo da lista: ', min(exemple_list))\n",
    "print('valor máximo da lista: ', max(exemple_list))"
   ]
  },
  {
   "cell_type": "markdown",
   "metadata": {},
   "source": [
    "## Curiosidade"
   ]
  },
  {
   "cell_type": "code",
   "execution_count": 3,
   "metadata": {},
   "outputs": [
    {
     "name": "stdout",
     "output_type": "stream",
     "text": [
      "a string tem o elemento a?:  True\n",
      "a lista tem o elemento 12? :  False\n"
     ]
    }
   ],
   "source": [
    "# No python, strings também são consideradas sequencias.\n",
    "\n",
    "string = 'J!Quant_Academy'\n",
    "\n",
    "print('a string tem o elemento a?: ', 'a' in string)\n",
    "print('a lista tem o elemento 12? : ', '12' in string)"
   ]
  },
  {
   "cell_type": "code",
   "execution_count": 33,
   "metadata": {},
   "outputs": [
    {
     "name": "stdout",
     "output_type": "stream",
     "text": [
      "soma de strings:  J!Quant_AcademyJ!Quant_Academy\n"
     ]
    }
   ],
   "source": [
    "# Operação de soma \n",
    "print('soma de strings: ', string + string)"
   ]
  },
  {
   "cell_type": "code",
   "execution_count": 34,
   "metadata": {},
   "outputs": [
    {
     "name": "stdout",
     "output_type": "stream",
     "text": [
      "multiplicação de string:  J!Quant_AcademyJ!Quant_AcademyJ!Quant_Academy\n"
     ]
    }
   ],
   "source": [
    "# Operação de multiplicação com inteiros \n",
    "print('multiplicação de string: ', string * 3)"
   ]
  },
  {
   "cell_type": "code",
   "execution_count": 35,
   "metadata": {},
   "outputs": [
    {
     "name": "stdout",
     "output_type": "stream",
     "text": [
      "acesso aos elementos 1 a 4 da string:  !Qua\n"
     ]
    }
   ],
   "source": [
    "# Slicing (fatiar), acessar parte dos elementos da lista\n",
    "print('acesso aos elementos 1 a 4 da string: ', string[1:5])"
   ]
  },
  {
   "cell_type": "code",
   "execution_count": 36,
   "metadata": {},
   "outputs": [
    {
     "name": "stdout",
     "output_type": "stream",
     "text": [
      "tamanho da string     :  15\n",
      "valor mínimo da string:  !\n",
      "valor máximo da string:  y\n"
     ]
    }
   ],
   "source": [
    "# funções\n",
    "print('tamanho da string     : ', len(string))\n",
    "print('valor mínimo da string: ', min(string))\n",
    "print('valor máximo da string: ', max(string))"
   ]
  },
  {
   "cell_type": "markdown",
   "metadata": {},
   "source": [
    "## Desafio\n",
    "Aqui um conceito um pouco mais avançado. \n",
    "\n",
    "#### O que é um objeto mutável? (mutable objects)\n",
    "\n",
    "São objetos que podem mudar seus valores, adicionar novos valores (por exemplo com *append*). \n",
    "\n",
    "Isso traz comportamentos um pouco inesperados:"
   ]
  },
  {
   "cell_type": "code",
   "execution_count": 37,
   "metadata": {},
   "outputs": [
    {
     "name": "stdout",
     "output_type": "stream",
     "text": [
      "lista 1: [1, 2, 3, 4, 5]\n",
      "lista 2: [1, 2, 3, 4, 5]\n",
      "lista 1: [1, 2, 7, 4, 5]\n",
      "lista 2: [1, 2, 7, 4, 5]\n",
      "lista 1: [1, 2, 7, 4, 5, 4]\n",
      "lista 2: [1, 2, 7, 4, 5, 4]\n",
      "lista 1: [5, 4, 2, 1]\n",
      "lista 2: [5, 4, 2, 1]\n",
      "lista 1: [5, 4, 2, 1]\n",
      "lista 2: [1, 2, 3, 4, 5, 6, 7]\n"
     ]
    }
   ],
   "source": [
    "## Copiamos a list_1 na list_2\n",
    "list_1 = [1,2,3,4,5]\n",
    "list_2 = list_1\n",
    "print(\"lista 1: {}\".format(list_1))\n",
    "print(\"lista 2: {}\".format(list_2))\n",
    "\n",
    "## Mudamos o valor da posição 2 na list_2\n",
    "list_2[2] = 7\n",
    "print(\"lista 1: {}\".format(list_1))\n",
    "print(\"lista 2: {}\".format(list_2))\n",
    "\n",
    "# Adicionamos o valor 4 no final da list_1\n",
    "list_1.append(4)\n",
    "print('lista 1: {}'.format(list_1))\n",
    "print('lista 2: {}'.format(list_2))\n",
    "\n",
    "## Mudamos de todas as posições na list_2\n",
    "list_2[:] = [5,4,2,1]\n",
    "print(\"lista 1: {}\".format(list_1))\n",
    "print(\"lista 2: {}\".format(list_2))\n",
    "\n",
    "## Atribuição de outra lista em list_2\n",
    "list_2 = [1,2,3,4,5,6,7]\n",
    "print(\"lista 1: {}\".format(list_1))\n",
    "print(\"lista 2: {}\".format(list_2))"
   ]
  },
  {
   "cell_type": "markdown",
   "metadata": {},
   "source": [
    "# Bônus\n",
    "\n",
    "O que é programação? Basicamente escrever linhas de código que o computador \n",
    "vai ler **sequencialmente** e executar os comandos de cada linha. Então temos \n",
    "que entender que o computador não entende o contexto do código ou em que \n",
    "dado ele está sendo utilizado. Ou seja, precisamos conhecer os comandos que\n",
    " são esperados e que a linguagem Python entende.\n",
    "\n",
    "Mas como já falamos e falaremos muitas vezes neste curso, não vamos decorar tudo. \n",
    "Com repetição nos acostumamos com o que é usual e aprenderemos a testar \n",
    "e lidar com erros. Nesse caso, erros de programação mesmo.\n",
    "\n",
    "## Erros em Python\n",
    "Então, por exemplo, quando tentamos escrever:"
   ]
  },
  {
   "cell_type": "code",
   "execution_count": 38,
   "metadata": {},
   "outputs": [
    {
     "ename": "TypeError",
     "evalue": "can only concatenate str (not \"int\") to str",
     "output_type": "error",
     "traceback": [
      "\u001b[1;31m---------------------------------------------------------------------------\u001b[0m",
      "\u001b[1;31mTypeError\u001b[0m                                 Traceback (most recent call last)",
      "\u001b[1;32m<ipython-input-38-42af3a90fac2>\u001b[0m in \u001b[0;36m<module>\u001b[1;34m\u001b[0m\n\u001b[0;32m      1\u001b[0m \u001b[0ma\u001b[0m \u001b[1;33m=\u001b[0m \u001b[1;34m'10'\u001b[0m\u001b[1;33m\u001b[0m\u001b[1;33m\u001b[0m\u001b[0m\n\u001b[0;32m      2\u001b[0m \u001b[0mb\u001b[0m \u001b[1;33m=\u001b[0m \u001b[1;36m10\u001b[0m\u001b[1;33m\u001b[0m\u001b[1;33m\u001b[0m\u001b[0m\n\u001b[1;32m----> 3\u001b[1;33m \u001b[0ma\u001b[0m \u001b[1;33m+\u001b[0m \u001b[0mb\u001b[0m\u001b[1;33m\u001b[0m\u001b[1;33m\u001b[0m\u001b[0m\n\u001b[0m",
      "\u001b[1;31mTypeError\u001b[0m: can only concatenate str (not \"int\") to str"
     ]
    }
   ],
   "source": [
    "a = '10'\n",
    "b = 10\n",
    "a + b"
   ]
  },
  {
   "cell_type": "markdown",
   "metadata": {},
   "source": [
    "O Python nos alerta que estamos realizando uma operação inesperada, estamos somando \n",
    "um valor texto com um valor numérico. Geralmente, cada erro terá uma mensagem diferente,\n",
    "o que facilita quando vamos pesquisar e entender o que está dando de erro.\n",
    "\n",
    "Porém, e quando fazemos um comando válido, mas não é o que desejamos? \n",
    "Chamamos isso de \"bug\". Um tipo de erro bem mais difícil de ser encontrado, \n",
    "pois o Python não nos alerta do erro. Um exemplo seria:"
   ]
  },
  {
   "cell_type": "code",
   "execution_count": 39,
   "metadata": {},
   "outputs": [
    {
     "data": {
      "text/plain": [
       "'1010'"
      ]
     },
     "execution_count": 39,
     "metadata": {},
     "output_type": "execute_result"
    }
   ],
   "source": [
    "a = '10'\n",
    "a + a"
   ]
  },
  {
   "cell_type": "markdown",
   "metadata": {},
   "source": [
    "Um programador desatento poderia imaginar que o resultado da operação acima fosse '20'.\n",
    "E não existem maneiras fáceis de se corrigir \"bugs\" ou realizar um debug, por isso sugerimos \n",
    "que façam os seus códigos executando linha por linha e ao máximo verificando se os resultados\n",
    "de seus comandos estão como esperado e então juntando tudo depois."
   ]
  },
  {
   "cell_type": "markdown",
   "metadata": {},
   "source": [
    "Aqui temos a [lista de todos os erros já previstos pelo Python](https://docs.python.org/3.7/library/exceptions.html).\n",
    "\n",
    "Vou colocar aqui a lista dos mais comuns.\n",
    "\n",
    "- exception <font color='red'>IndexError</font>\n",
    "\n",
    "Raised when a sequence subscript is out of range. (Slice indices are silently truncated to fall in the allowed range; if an index is not an integer, TypeError is raised.)"
   ]
  },
  {
   "cell_type": "code",
   "execution_count": 40,
   "metadata": {},
   "outputs": [
    {
     "ename": "IndexError",
     "evalue": "list index out of range",
     "output_type": "error",
     "traceback": [
      "\u001b[1;31m---------------------------------------------------------------------------\u001b[0m",
      "\u001b[1;31mIndexError\u001b[0m                                Traceback (most recent call last)",
      "\u001b[1;32m<ipython-input-40-f5fe6d922eea>\u001b[0m in \u001b[0;36m<module>\u001b[1;34m\u001b[0m\n\u001b[0;32m      1\u001b[0m \u001b[0mlista\u001b[0m \u001b[1;33m=\u001b[0m \u001b[1;33m[\u001b[0m\u001b[1;36m1\u001b[0m\u001b[1;33m,\u001b[0m \u001b[1;36m2\u001b[0m\u001b[1;33m,\u001b[0m \u001b[1;36m3\u001b[0m\u001b[1;33m]\u001b[0m\u001b[1;33m\u001b[0m\u001b[1;33m\u001b[0m\u001b[0m\n\u001b[1;32m----> 2\u001b[1;33m \u001b[0mlista\u001b[0m\u001b[1;33m[\u001b[0m\u001b[1;36m4\u001b[0m\u001b[1;33m]\u001b[0m\u001b[1;33m\u001b[0m\u001b[1;33m\u001b[0m\u001b[0m\n\u001b[0m",
      "\u001b[1;31mIndexError\u001b[0m: list index out of range"
     ]
    }
   ],
   "source": [
    "lista = [1, 2, 3]\n",
    "lista[4]"
   ]
  },
  {
   "cell_type": "markdown",
   "metadata": {},
   "source": [
    "- exception <font color='red'>KeyError</font>\n",
    "\n",
    "Raised when a mapping (dictionary) key is not found in the set of existing keys."
   ]
  },
  {
   "cell_type": "code",
   "execution_count": 41,
   "metadata": {},
   "outputs": [
    {
     "ename": "KeyError",
     "evalue": "'j'",
     "output_type": "error",
     "traceback": [
      "\u001b[1;31m---------------------------------------------------------------------------\u001b[0m",
      "\u001b[1;31mKeyError\u001b[0m                                  Traceback (most recent call last)",
      "\u001b[1;32m<ipython-input-41-7b0172f00d52>\u001b[0m in \u001b[0;36m<module>\u001b[1;34m\u001b[0m\n\u001b[0;32m      1\u001b[0m \u001b[0mdicionario\u001b[0m \u001b[1;33m=\u001b[0m \u001b[1;33m{\u001b[0m\u001b[1;34m'a'\u001b[0m\u001b[1;33m:\u001b[0m \u001b[1;36m1\u001b[0m\u001b[1;33m,\u001b[0m \u001b[1;34m'b'\u001b[0m\u001b[1;33m:\u001b[0m \u001b[1;34m'abc'\u001b[0m\u001b[1;33m,\u001b[0m \u001b[1;34m'c'\u001b[0m\u001b[1;33m:\u001b[0m \u001b[1;33m[\u001b[0m\u001b[1;36m3\u001b[0m\u001b[1;33m,\u001b[0m \u001b[1;36m4\u001b[0m\u001b[1;33m,\u001b[0m \u001b[1;36m5\u001b[0m\u001b[1;33m]\u001b[0m\u001b[1;33m,\u001b[0m \u001b[1;34m'd'\u001b[0m\u001b[1;33m:\u001b[0m \u001b[1;34m'6'\u001b[0m\u001b[1;33m}\u001b[0m\u001b[1;33m\u001b[0m\u001b[1;33m\u001b[0m\u001b[0m\n\u001b[1;32m----> 2\u001b[1;33m \u001b[0mdicionario\u001b[0m\u001b[1;33m[\u001b[0m\u001b[1;34m'j'\u001b[0m\u001b[1;33m]\u001b[0m\u001b[1;33m\u001b[0m\u001b[1;33m\u001b[0m\u001b[0m\n\u001b[0m",
      "\u001b[1;31mKeyError\u001b[0m: 'j'"
     ]
    }
   ],
   "source": [
    "dicionario = {'a': 1, 'b': 'abc', 'c': [3, 4, 5], 'd': '6'}\n",
    "dicionario['j']"
   ]
  },
  {
   "cell_type": "markdown",
   "metadata": {},
   "source": [
    "- exception <font color='red'>KeyboardInterrupt</font>\n",
    "\n",
    "Raised when the user hits the interrupt key (normally Control-C or Delete). During execution, a check for interrupts is made regularly. The exception inherits from BaseException so as to not be accidentally caught by code that catches Exception and thus prevent the interpreter from exiting."
   ]
  },
  {
   "cell_type": "code",
   "execution_count": 42,
   "metadata": {},
   "outputs": [
    {
     "ename": "KeyboardInterrupt",
     "evalue": "",
     "output_type": "error",
     "traceback": [
      "\u001b[1;31m---------------------------------------------------------------------------\u001b[0m",
      "\u001b[1;31mKeyboardInterrupt\u001b[0m                         Traceback (most recent call last)",
      "\u001b[1;32m<ipython-input-42-96b0e76aebf8>\u001b[0m in \u001b[0;36m<module>\u001b[1;34m\u001b[0m\n\u001b[0;32m      2\u001b[0m \u001b[1;31m# Essa mensagem aparece sempre que clicamos em 'interrupt kernel'\u001b[0m\u001b[1;33m\u001b[0m\u001b[1;33m\u001b[0m\u001b[1;33m\u001b[0m\u001b[0m\n\u001b[0;32m      3\u001b[0m \u001b[1;32mwhile\u001b[0m \u001b[1;32mTrue\u001b[0m\u001b[1;33m:\u001b[0m\u001b[1;33m\u001b[0m\u001b[1;33m\u001b[0m\u001b[0m\n\u001b[1;32m----> 4\u001b[1;33m     \u001b[1;32mpass\u001b[0m\u001b[1;33m\u001b[0m\u001b[1;33m\u001b[0m\u001b[0m\n\u001b[0m",
      "\u001b[1;31mKeyboardInterrupt\u001b[0m: "
     ]
    }
   ],
   "source": [
    "# Loop Infinito, precisamos clicar em interrupt kernel para encerrar o loop infinito\n",
    "# Essa mensagem aparece sempre que clicamos em 'interrupt kernel'\n",
    "while True:\n",
    "    pass"
   ]
  },
  {
   "cell_type": "markdown",
   "metadata": {},
   "source": [
    "- exception <font color='red'>MemoryError</font>\n",
    "\n",
    "Raised when an operation runs out of memory but the situation may still be rescued (by deleting some objects). The associated value is a string indicating what kind of (internal) operation ran out of memory. Note that because of the underlying memory management architecture (C’s malloc() function), the interpreter may not always be able to completely recover from this situation; it nevertheless raises an exception so that a stack traceback can be printed, in case a run-away program was the cause."
   ]
  },
  {
   "cell_type": "markdown",
   "metadata": {},
   "source": [
    "- exception <font color='red'>NameError</font>\n",
    "\n",
    "Raised when a local or global name is not found. This applies only to unqualified names. The associated value is an error message that includes the name that could not be found."
   ]
  },
  {
   "cell_type": "code",
   "execution_count": 43,
   "metadata": {},
   "outputs": [
    {
     "ename": "NameError",
     "evalue": "name 'variavel_nao_definida' is not defined",
     "output_type": "error",
     "traceback": [
      "\u001b[1;31m---------------------------------------------------------------------------\u001b[0m",
      "\u001b[1;31mNameError\u001b[0m                                 Traceback (most recent call last)",
      "\u001b[1;32m<ipython-input-43-7230711eced0>\u001b[0m in \u001b[0;36m<module>\u001b[1;34m\u001b[0m\n\u001b[1;32m----> 1\u001b[1;33m \u001b[0mprint\u001b[0m\u001b[1;33m(\u001b[0m\u001b[0mvariavel_nao_definida\u001b[0m\u001b[1;33m)\u001b[0m\u001b[1;33m\u001b[0m\u001b[1;33m\u001b[0m\u001b[0m\n\u001b[0m",
      "\u001b[1;31mNameError\u001b[0m: name 'variavel_nao_definida' is not defined"
     ]
    }
   ],
   "source": [
    "print(variavel_nao_definida)"
   ]
  },
  {
   "cell_type": "markdown",
   "metadata": {},
   "source": [
    "- exception <font color='red'>SyntaxError</font>\n",
    "\n",
    "Raised when the parser encounters a syntax error. This may occur in an import statement, in a call to the built-in functions exec() or eval(), or when reading the initial script or standard input (also interactively).\n",
    "\n",
    "Instances of this class have attributes filename, lineno, offset and text for easier access to the details. str() of the exception instance returns only the message."
   ]
  },
  {
   "cell_type": "code",
   "execution_count": 44,
   "metadata": {},
   "outputs": [
    {
     "ename": "SyntaxError",
     "evalue": "unexpected EOF while parsing (<ipython-input-44-424fbb3a34c5>, line 1)",
     "output_type": "error",
     "traceback": [
      "\u001b[1;36m  File \u001b[1;32m\"<ipython-input-44-424fbb3a34c5>\"\u001b[1;36m, line \u001b[1;32m1\u001b[0m\n\u001b[1;33m    print(\u001b[0m\n\u001b[1;37m          ^\u001b[0m\n\u001b[1;31mSyntaxError\u001b[0m\u001b[1;31m:\u001b[0m unexpected EOF while parsing\n"
     ]
    }
   ],
   "source": [
    "print("
   ]
  },
  {
   "cell_type": "markdown",
   "metadata": {},
   "source": [
    "- exception <font color='red'>IndentationError</font>\n",
    "\n",
    "Base class for syntax errors related to incorrect indentation. This is a subclass of SyntaxError."
   ]
  },
  {
   "cell_type": "code",
   "execution_count": 45,
   "metadata": {},
   "outputs": [
    {
     "ename": "IndentationError",
     "evalue": "expected an indented block (<ipython-input-45-5633f11000e6>, line 2)",
     "output_type": "error",
     "traceback": [
      "\u001b[1;36m  File \u001b[1;32m\"<ipython-input-45-5633f11000e6>\"\u001b[1;36m, line \u001b[1;32m2\u001b[0m\n\u001b[1;33m    print()\u001b[0m\n\u001b[1;37m        ^\u001b[0m\n\u001b[1;31mIndentationError\u001b[0m\u001b[1;31m:\u001b[0m expected an indented block\n"
     ]
    }
   ],
   "source": [
    "if True:\n",
    "print()"
   ]
  },
  {
   "cell_type": "markdown",
   "metadata": {},
   "source": [
    "- exception <font color='red'>TypeError</font>  \n",
    "\n",
    "Raised when an operation or function is applied to an object of inappropriate type. The associated value is a string giving details about the type mismatch.\n",
    "\n",
    "This exception may be raised by user code to indicate that an attempted operation on an object is not supported, and is not meant to be. If an object is meant to support a given operation but has not yet provided an implementation, NotImplementedError is the proper exception to raise.\n",
    "\n",
    "Passing arguments of the wrong type (e.g. passing a list when an int is expected) should result in a TypeError, but passing arguments with the wrong value (e.g. a number outside expected boundaries) should result in a ValueError."
   ]
  },
  {
   "cell_type": "code",
   "execution_count": 46,
   "metadata": {},
   "outputs": [
    {
     "ename": "TypeError",
     "evalue": "can only concatenate str (not \"int\") to str",
     "output_type": "error",
     "traceback": [
      "\u001b[1;31m---------------------------------------------------------------------------\u001b[0m",
      "\u001b[1;31mTypeError\u001b[0m                                 Traceback (most recent call last)",
      "\u001b[1;32m<ipython-input-46-42af3a90fac2>\u001b[0m in \u001b[0;36m<module>\u001b[1;34m\u001b[0m\n\u001b[0;32m      1\u001b[0m \u001b[0ma\u001b[0m \u001b[1;33m=\u001b[0m \u001b[1;34m'10'\u001b[0m\u001b[1;33m\u001b[0m\u001b[1;33m\u001b[0m\u001b[0m\n\u001b[0;32m      2\u001b[0m \u001b[0mb\u001b[0m \u001b[1;33m=\u001b[0m \u001b[1;36m10\u001b[0m\u001b[1;33m\u001b[0m\u001b[1;33m\u001b[0m\u001b[0m\n\u001b[1;32m----> 3\u001b[1;33m \u001b[0ma\u001b[0m \u001b[1;33m+\u001b[0m \u001b[0mb\u001b[0m\u001b[1;33m\u001b[0m\u001b[1;33m\u001b[0m\u001b[0m\n\u001b[0m",
      "\u001b[1;31mTypeError\u001b[0m: can only concatenate str (not \"int\") to str"
     ]
    }
   ],
   "source": [
    "a = '10'\n",
    "b = 10\n",
    "a + b"
   ]
  }
 ],
 "metadata": {
  "kernelspec": {
   "display_name": "Python 3",
   "language": "python",
   "name": "python3"
  },
  "language_info": {
   "codemirror_mode": {
    "name": "ipython",
    "version": 3
   },
   "file_extension": ".py",
   "mimetype": "text/x-python",
   "name": "python",
   "nbconvert_exporter": "python",
   "pygments_lexer": "ipython3",
   "version": "3.7.5"
  }
 },
 "nbformat": 4,
 "nbformat_minor": 2
}
