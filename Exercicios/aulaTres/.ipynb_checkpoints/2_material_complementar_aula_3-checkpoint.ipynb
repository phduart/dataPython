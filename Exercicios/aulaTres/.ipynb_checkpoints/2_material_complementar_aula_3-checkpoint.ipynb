{
 "cells": [
  {
   "cell_type": "markdown",
   "metadata": {},
   "source": [
    "# LIST COMPREHENSION\n",
    "\n",
    "- Podemos criar uma lista a partir de outra lista com o que chamamos de <font color='red'>LIST COMPREHENSION</font>\n",
    "- Vamos ver um exemplo com <font color='red'>FOR</font> para calcularmos o desvio padrão de uma listas de valores\n",
    "- A fórmula do desvio padrão:\n",
    "$$\\sqrt{(\\frac{\\sum_{i = n}^{N}(x_i - \\bar{x})^2}{n})}$$\n",
    "- Onde:\n",
    "    - $x_i$: é um valor da lista de dados\n",
    "    - $\\bar{x}$: é a média dos valores\n",
    "    - $n$: quantidade de valores"
   ]
  },
  {
   "cell_type": "code",
   "execution_count": 1,
   "metadata": {},
   "outputs": [],
   "source": [
    "# importando bibliotecas\n",
    "import pandas as pd\n",
    "\n",
    "# lendo dados\n",
    "iris = pd.read_csv('data/iris.txt')\n",
    "\n",
    "# transformando coluna qualquer em lista\n",
    "coluna_escolhida = 'sepal_length'\n",
    "lista_col_escolhida = list(iris.loc[:, coluna_escolhida])"
   ]
  },
  {
   "cell_type": "code",
   "execution_count": 2,
   "metadata": {},
   "outputs": [
    {
     "name": "stdout",
     "output_type": "stream",
     "text": [
      "As duas listas criadas têm os mesmos valores? True\n"
     ]
    }
   ],
   "source": [
    "# primeiro vamos calcular uma media e guardar em uma variavel\n",
    "# vamos fazer tambem a contagem de quantos dados temos na lista\n",
    "# ou seja o tamanho da lista\n",
    "soma = 0\n",
    "n_item = 0\n",
    "for item in lista_col_escolhida:\n",
    "    soma = soma + item \n",
    "    n_item = n_item + 1 \n",
    "media_col_escolhida = soma / n_item\n",
    "\n",
    "# precisamos calcular o quadrado das diferencas\n",
    "# entre o valor e a media dos dados\n",
    "# vamos fazer usando um loop for e o metodo append\n",
    "lista_quad_dif = []\n",
    "for item in lista_col_escolhida:\n",
    "    quad_dif = (item - media_col_escolhida) ** 2\n",
    "    lista_quad_dif.append(quad_dif)\n",
    "\n",
    "# vamos obter o mesmo resultado acima\n",
    "# mas usaremos uma list comprehension\n",
    "# veja como e mais legivel\n",
    "quad_dif_comp = [(x - media_col_escolhida) ** 2 for x in lista_col_escolhida]\n",
    "\n",
    "# vamos verificar se as duas listas\n",
    "# criadas realmente sao iguais\n",
    "print(f'As duas listas criadas têm os mesmos valores? {lista_quad_dif == quad_dif_comp}')"
   ]
  },
  {
   "cell_type": "markdown",
   "metadata": {},
   "source": [
    "## Exercícios\n",
    "- List comprehensions são um jeito de fazermos um loop for mais \"Pythonic\", de um jeito mais legível\n",
    "- Caso a gente precise criar uma lista a partir dos itens de outra, uma list comprehension já devolve uma lista, não precisamos usar o método append para isso\n",
    "- Lembre-se, você pode decidir quando usar um ou outro, opte sempre pelo jeito que deixe seu código mais sucinto e claro"
   ]
  },
  {
   "cell_type": "code",
   "execution_count": 3,
   "metadata": {},
   "outputs": [],
   "source": [
    "# importando bibliotecas\n",
    "import pandas as pd\n",
    "\n",
    "# lendo dados\n",
    "iris = pd.read_csv('data/iris.txt')\n",
    "\n",
    "# transformando coluna qualquer em lista\n",
    "col_sepal_length = list(iris.loc[:, 'sepal_length'])\n",
    "col_sepal_width = list(iris.loc[:, 'sepal_width'])"
   ]
  },
  {
   "cell_type": "markdown",
   "metadata": {},
   "source": [
    "***\n",
    "**Exercício 1**\n",
    "- Elevando ao quadrado os itens de uma lista qualquer"
   ]
  },
  {
   "cell_type": "code",
   "execution_count": 4,
   "metadata": {
    "scrolled": true
   },
   "outputs": [
    {
     "name": "stdout",
     "output_type": "stream",
     "text": [
      "As duas listas têm os mesmos valores? True\n"
     ]
    }
   ],
   "source": [
    "# solucao com list comprehension\n",
    "quadrados = [x ** 2 for x in col_sepal_length]\n",
    "\n",
    "# solucao com loop for\n",
    "quadrados_for = []\n",
    "for item in col_sepal_length:\n",
    "    quadrados_for.append(item ** 2)\n",
    "\n",
    "# verificando se as duas listas tem os mesmos valores\n",
    "print(f'As duas listas têm os mesmos valores? {quadrados == quadrados_for}')"
   ]
  },
  {
   "cell_type": "markdown",
   "metadata": {},
   "source": [
    "***\n",
    "**Exercício 2**\n",
    "- Multiplicando item por item de duas listas e guardando em outra"
   ]
  },
  {
   "cell_type": "code",
   "execution_count": 5,
   "metadata": {},
   "outputs": [
    {
     "name": "stdout",
     "output_type": "stream",
     "text": [
      "As duas listas têm os mesmos valores? True\n"
     ]
    }
   ],
   "source": [
    "# solucao com list comprehension\n",
    "mult_list = [x * y for x, y in zip(col_sepal_length, col_sepal_width)]\n",
    "\n",
    "# solucao com loop for\n",
    "mult_list_for = [] \n",
    "for x, y in zip(col_sepal_length, col_sepal_width):\n",
    "    resultado = x * y\n",
    "    mult_list_for.append(resultado)\n",
    "\n",
    "# verificando se as duas listas tem os mesmos valores\n",
    "print(f'As duas listas têm os mesmos valores? {mult_list == mult_list_for}')"
   ]
  },
  {
   "cell_type": "markdown",
   "metadata": {},
   "source": [
    "***\n",
    "**Exercício 3**\n",
    "- Da lista dada. Crie uma outra lista dos quadrados apenas dos números pares"
   ]
  },
  {
   "cell_type": "code",
   "execution_count": 6,
   "metadata": {},
   "outputs": [
    {
     "name": "stdout",
     "output_type": "stream",
     "text": [
      "As duas listas têm os mesmos valores? True\n"
     ]
    }
   ],
   "source": [
    "lista_dada = list(range(1, 101))\n",
    "\n",
    "# solucao com list comprehension\n",
    "quad_pares = [x ** 2 for x in lista_dada if x % 2 == 0]\n",
    "\n",
    "# solucao com loop for\n",
    "quad_pares_for = []\n",
    "for item in lista_dada:\n",
    "    if (item % 2) == 0:\n",
    "        quad_pares_for.append(item ** 2)\n",
    "\n",
    "# verificando se as duas listas tem os mesmos valores\n",
    "print(f'As duas listas têm os mesmos valores? {quad_pares == quad_pares_for}')"
   ]
  },
  {
   "cell_type": "markdown",
   "metadata": {},
   "source": [
    "***\n",
    "**DESAFIO 1**\n",
    "- Crie um dicionário que tenha três chaves:\n",
    "    - 'setosa'\n",
    "    - 'versicolor'\n",
    "    - 'virginica'\n",
    "- Os valores de cada chave devem ser listas com os dados/valores de sepal_length correspondente de cada espécie\n",
    "- Há muitos jeitos de se fazer isso. Não existe um jeito certou ou errado, faça do seu jeito, mas tente não utilizar funções auxiliares. Treine sua lógica, ela será uma poderosa aliada."
   ]
  },
  {
   "cell_type": "code",
   "execution_count": 7,
   "metadata": {},
   "outputs": [],
   "source": [
    "# importando bibliotecas\n",
    "import pandas as pd\n",
    "\n",
    "# lendo dados\n",
    "iris = pd.read_csv('data/iris.txt')\n",
    "\n",
    "# vamos criar lsitas dataframe/tabela apenas com as colunas sepal_length e species\n",
    "lista_sepal_length = list(iris.loc[:, 'sepal_length'])\n",
    "lista_species = list(iris.loc[:, 'species'])\n",
    "\n",
    "# ******************************************************\n",
    "# ****A partir daqui nao usaremos funcoes auxiliares****\n",
    "# ******************************************************\n",
    "\n",
    "\n",
    "# Resolvendo tudo em apenas uma linha com COMPREHENSION\n",
    "# Percebam que ficou confuso, mas deu certo\n",
    "# Existem outras maneiras de fazer isso, tente criar outras solucoes\n",
    "dict_species = {k: [x for x, y in zip(lista_sepal_length, lista_species) if y == k] for k in lista_species}"
   ]
  },
  {
   "cell_type": "code",
   "execution_count": 8,
   "metadata": {
    "scrolled": false
   },
   "outputs": [
    {
     "data": {
      "text/plain": [
       "{'setosa': [5.1,\n",
       "  4.9,\n",
       "  4.7,\n",
       "  4.6,\n",
       "  5.0,\n",
       "  5.4,\n",
       "  4.6,\n",
       "  5.0,\n",
       "  4.4,\n",
       "  4.9,\n",
       "  5.4,\n",
       "  4.8,\n",
       "  4.8,\n",
       "  4.3,\n",
       "  5.8,\n",
       "  5.7,\n",
       "  5.4,\n",
       "  5.1,\n",
       "  5.7,\n",
       "  5.1,\n",
       "  5.4,\n",
       "  5.1,\n",
       "  4.6,\n",
       "  5.1,\n",
       "  4.8,\n",
       "  5.0,\n",
       "  5.0,\n",
       "  5.2,\n",
       "  5.2,\n",
       "  4.7,\n",
       "  4.8,\n",
       "  5.4,\n",
       "  5.2,\n",
       "  5.5,\n",
       "  4.9,\n",
       "  5.0,\n",
       "  5.5,\n",
       "  4.9,\n",
       "  4.4,\n",
       "  5.1,\n",
       "  5.0,\n",
       "  4.5,\n",
       "  4.4,\n",
       "  5.0,\n",
       "  5.1,\n",
       "  4.8,\n",
       "  5.1,\n",
       "  4.6,\n",
       "  5.3,\n",
       "  5.0],\n",
       " 'versicolor': [7.0,\n",
       "  6.4,\n",
       "  6.9,\n",
       "  5.5,\n",
       "  6.5,\n",
       "  5.7,\n",
       "  6.3,\n",
       "  4.9,\n",
       "  6.6,\n",
       "  5.2,\n",
       "  5.0,\n",
       "  5.9,\n",
       "  6.0,\n",
       "  6.1,\n",
       "  5.6,\n",
       "  6.7,\n",
       "  5.6,\n",
       "  5.8,\n",
       "  6.2,\n",
       "  5.6,\n",
       "  5.9,\n",
       "  6.1,\n",
       "  6.3,\n",
       "  6.1,\n",
       "  6.4,\n",
       "  6.6,\n",
       "  6.8,\n",
       "  6.7,\n",
       "  6.0,\n",
       "  5.7,\n",
       "  5.5,\n",
       "  5.5,\n",
       "  5.8,\n",
       "  6.0,\n",
       "  5.4,\n",
       "  6.0,\n",
       "  6.7,\n",
       "  6.3,\n",
       "  5.6,\n",
       "  5.5,\n",
       "  5.5,\n",
       "  6.1,\n",
       "  5.8,\n",
       "  5.0,\n",
       "  5.6,\n",
       "  5.7,\n",
       "  5.7,\n",
       "  6.2,\n",
       "  5.1,\n",
       "  5.7],\n",
       " 'virginica': [6.3,\n",
       "  5.8,\n",
       "  7.1,\n",
       "  6.3,\n",
       "  6.5,\n",
       "  7.6,\n",
       "  4.9,\n",
       "  7.3,\n",
       "  6.7,\n",
       "  7.2,\n",
       "  6.5,\n",
       "  6.4,\n",
       "  6.8,\n",
       "  5.7,\n",
       "  5.8,\n",
       "  6.4,\n",
       "  6.5,\n",
       "  7.7,\n",
       "  7.7,\n",
       "  6.0,\n",
       "  6.9,\n",
       "  5.6,\n",
       "  7.7,\n",
       "  6.3,\n",
       "  6.7,\n",
       "  7.2,\n",
       "  6.2,\n",
       "  6.1,\n",
       "  6.4,\n",
       "  7.2,\n",
       "  7.4,\n",
       "  7.9,\n",
       "  6.4,\n",
       "  6.3,\n",
       "  6.1,\n",
       "  7.7,\n",
       "  6.3,\n",
       "  6.4,\n",
       "  6.0,\n",
       "  6.9,\n",
       "  6.7,\n",
       "  6.9,\n",
       "  5.8,\n",
       "  6.8,\n",
       "  6.7,\n",
       "  6.7,\n",
       "  6.3,\n",
       "  6.5,\n",
       "  6.2,\n",
       "  5.9]}"
      ]
     },
     "execution_count": 8,
     "metadata": {},
     "output_type": "execute_result"
    }
   ],
   "source": [
    "dict_species"
   ]
  }
 ],
 "metadata": {
  "kernelspec": {
   "display_name": "Python 3",
   "language": "python",
   "name": "python3"
  },
  "language_info": {
   "codemirror_mode": {
    "name": "ipython",
    "version": 3
   },
   "file_extension": ".py",
   "mimetype": "text/x-python",
   "name": "python",
   "nbconvert_exporter": "python",
   "pygments_lexer": "ipython3",
   "version": "3.7.5"
  }
 },
 "nbformat": 4,
 "nbformat_minor": 2
}
