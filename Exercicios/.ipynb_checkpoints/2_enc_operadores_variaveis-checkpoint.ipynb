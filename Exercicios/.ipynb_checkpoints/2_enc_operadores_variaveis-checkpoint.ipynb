{
 "cells": [
  {
   "cell_type": "markdown",
   "metadata": {},
   "source": [
    "# <font color='royalblue'>Sintaxe do Python</font>\n",
    "## *Usando TAB para indicar um bloco de código*"
   ]
  },
  {
   "cell_type": "markdown",
   "metadata": {},
   "source": [
    "- O Python usa o TAB ou 4 espaços para mostrar que estamos dentro de um bloco de código.\n",
    "- Outras linguagens usam o TAB apenas para facilitar a leitura. A linguagem C usao {} para mostrar que estamos dentro de um bloco de código."
   ]
  },
  {
   "cell_type": "code",
   "execution_count": 2,
   "metadata": {
    "scrolled": true
   },
   "outputs": [
    {
     "ename": "IndentationError",
     "evalue": "expected an indented block (<ipython-input-2-41448c1f0201>, line 5)",
     "output_type": "error",
     "traceback": [
      "\u001b[1;36m  File \u001b[1;32m\"<ipython-input-2-41448c1f0201>\"\u001b[1;36m, line \u001b[1;32m5\u001b[0m\n\u001b[1;33m    print('Rogerio é mais velho')\u001b[0m\n\u001b[1;37m        ^\u001b[0m\n\u001b[1;31mIndentationError\u001b[0m\u001b[1;31m:\u001b[0m expected an indented block\n"
     ]
    }
   ],
   "source": [
    "# mostrando o erro devido indentacao\n",
    "# veja o erro e pesquise no Google\n",
    "# de preferencia para respostas do StackOverFlow\n",
    "if 29 > 27:\n",
    "print('Rogerio é mais velho')"
   ]
  },
  {
   "cell_type": "code",
   "execution_count": 19,
   "metadata": {},
   "outputs": [
    {
     "name": "stdout",
     "output_type": "stream",
     "text": [
      "Rogerio é mais velho\n"
     ]
    }
   ],
   "source": [
    "# mostrando a forma correta de se fazer\n",
    "if 29 > 27:\n",
    "    print('Rogerio é mais velho')"
   ]
  },
  {
   "cell_type": "markdown",
   "metadata": {},
   "source": [
    "- Link com a melhor explicação do que é o <font color='red'>IndentationError</font> no StackOverflow\n",
    "    - [Why am I getting “IndentationError: expected an indented block”? [duplicate]](https://stackoverflow.com/questions/4446366/why-am-i-getting-indentationerror-expected-an-indented-block)\n",
    "    - Resposa do Xavier C. - answered Sep 16 '16 at 12:25\n",
    "- Abaixo eu reproduzi um pedaço de código em linguagem C. O pedaço de código faz a mesma coisa do código Python que acabamos de demonstrar. Verifique a diferença entre as duas linguagens."
   ]
  },
  {
   "cell_type": "code",
   "execution_count": null,
   "metadata": {},
   "outputs": [],
   "source": [
    "# Pedaco de codigo em C com as {} mostrando o bloco de código\n",
    "if ( 29 > 27 ) {\n",
    "    printf(\"Rogério é mais velho\")\n",
    "}"
   ]
  },
  {
   "cell_type": "markdown",
   "metadata": {},
   "source": [
    "## *Comentários no Python*"
   ]
  },
  {
   "cell_type": "code",
   "execution_count": 4,
   "metadata": {},
   "outputs": [
    {
     "name": "stdout",
     "output_type": "stream",
     "text": [
      "Olaaa, mundo\n"
     ]
    }
   ],
   "source": [
    "# Isto aqui esta comentado e nao saira no codigo\n",
    "# ISTO TAMBEM NAO SAIRA NO CODIGO\n",
    "print('Olaaa, mundo')"
   ]
  },
  {
   "cell_type": "markdown",
   "metadata": {},
   "source": [
    "- Você pode usar aspas triplas para fazer comentários em múltiplas linhas"
   ]
  },
  {
   "cell_type": "code",
   "execution_count": 5,
   "metadata": {},
   "outputs": [
    {
     "name": "stdout",
     "output_type": "stream",
     "text": [
      "Eu sou mais novo\n"
     ]
    }
   ],
   "source": [
    "\"\"\"\n",
    "Comentarios\n",
    "em\n",
    "um\n",
    "monte\n",
    "de\n",
    "linhas\n",
    "\n",
    "\"\"\"\n",
    "if 29 < 50:\n",
    "    print('Eu sou mais novo')"
   ]
  },
  {
   "cell_type": "markdown",
   "metadata": {},
   "source": [
    "# <font color='royalblue'>Operadores Aritméticos</font>"
   ]
  },
  {
   "attachments": {
    "operadores_aritmeticos.PNG": {
     "image/png": "[encoded data removed]"
    }
   },
   "cell_type": "markdown",
   "metadata": {},
   "source": [
    "![operadores_aritmeticos.PNG](attachment:operadores_aritmeticos.PNG)"
   ]
  },
  {
   "cell_type": "markdown",
   "metadata": {},
   "source": [
    "- O que são operadores aritméticos:\n",
    "    - símbolos especiais que representam operações de computação\n",
    "- Vamos mostrar todos abaixo"
   ]
  },
  {
   "cell_type": "code",
   "execution_count": 16,
   "metadata": {},
   "outputs": [
    {
     "name": "stdout",
     "output_type": "stream",
     "text": [
      "Estamos elevando 2 ao quadrado com **:\n",
      "4\n",
      "*****************************************************\n",
      "Estamos vendo qual o resto da divisão de 10 por 3 usando %:\n",
      "1\n",
      "*****************************************************\n",
      "Divisão inteira. Ela arredonda o resultado para o menor inteiro:\n",
      "3\n",
      "*****************************************************\n",
      "Divisão usual. Veja a diferença para anterior\n",
      "3.3333333333333335\n",
      "*****************************************************\n",
      "Multiplicação usando um asterisco *\n",
      "30\n",
      "*****************************************************\n",
      "Subtração com -\n",
      "7\n",
      "*****************************************************\n",
      "Adição com +\n",
      "13\n"
     ]
    }
   ],
   "source": [
    "print('Estamos elevando 2 ao quadrado com **:')\n",
    "print(2 ** 2) # elevando 2 ao quadrado\n",
    "\n",
    "print('*****************************************************')\n",
    "print('Estamos vendo qual o resto da divisão de 10 por 3 usando %:')\n",
    "print(10 % 3) # resto da divisao de 10 por 3\n",
    "\n",
    "print('*****************************************************')\n",
    "print('Divisão inteira. Ela arredonda o resultado para o menor inteiro:')\n",
    "print(10 // 3) # usamos duas barras (//)\n",
    "\n",
    "print('*****************************************************')\n",
    "print('Divisão usual. Veja a diferença para anterior')\n",
    "print(10 / 3) # usamos uma barra (/)\n",
    "\n",
    "print('*****************************************************')\n",
    "print('Multiplicação usando um asterisco *')\n",
    "print(10 * 3) # estamos multiplicando 10 por 3\n",
    "\n",
    "print('*****************************************************')\n",
    "print('Subtração com -')\n",
    "print(10 - 3) # estamos subtraindo 10 e 3\n",
    "\n",
    "print('*****************************************************')\n",
    "print('Adição com +')\n",
    "print(10 + 3) # estamos somando 10 e 3"
   ]
  },
  {
   "cell_type": "markdown",
   "metadata": {},
   "source": [
    "- Muitas vezes em uma **expressão**, nós usamos mais de um operador. Para ser consistente, cada operador tem uma precedência, ou seja, caso você não indique com parênteses qual conta deve ser feita primeiro, ele assumirá uma precedência para cada um. Veja o resultado das duas expressões abaixo, cada uma deu um valor.\n",
    "- Na primeira, ele fez a conta 3 elevado a 2 primeiro e depois o resultado dissou ele subtraiu 4. Isso indica que na linguagem Python a exponenciação, indicada por dois asteriscos, tem precedência maior que a subtração.\n",
    "- Na segunda, ele fez a conta 5 menos 3 e depois elevou ao quadrado. A precedência foi mudada pelo parênteses.\n",
    "- Perceba os resultados diferentes e tome muito cuidado com isso. Caso uma expressão não esteja clara, use parênteses para indicar qual a conta deve ser feita primeiro."
   ]
  },
  {
   "cell_type": "code",
   "execution_count": 18,
   "metadata": {},
   "outputs": [
    {
     "name": "stdout",
     "output_type": "stream",
     "text": [
      "Resultado sem parênteses: -4\n",
      "Resultado com parênteses: 4\n"
     ]
    }
   ],
   "source": [
    "# o resultado que gostariamos era o 4\n",
    "print(f'Resultado sem parênteses: {5 - 3 ** 2}')\n",
    "\n",
    "# usando parenteses para indicar a precedencia correta(5 - 3) ** 2\n",
    "print(f'Resultado com parênteses: {(5 - 3) ** 2}')"
   ]
  },
  {
   "cell_type": "markdown",
   "metadata": {},
   "source": [
    "# <font color='royalblue'>Tipos de Dado</font>\n",
    "- Todo valor tem um Tipo\n",
    "- Um exemplo de valor é uma letra, texto ou número\n",
    "- Devemos saber quais são os tipos, pois cada tipo tem suas particularidades\n",
    "- Caso você não saiba o tipo do dado que você está mexendo, use a função **type()** built-in do Python"
   ]
  },
  {
   "cell_type": "code",
   "execution_count": 7,
   "metadata": {},
   "outputs": [
    {
     "name": "stdout",
     "output_type": "stream",
     "text": [
      "<class 'int'>\n",
      "<class 'float'>\n",
      "<class 'str'>\n"
     ]
    }
   ],
   "source": [
    "# tipo int\n",
    "print(type(100))\n",
    "\n",
    "# tipo float\n",
    "print(type(100.5))\n",
    "\n",
    "# tipo int\n",
    "print(type('Isto é um texto'))"
   ]
  },
  {
   "cell_type": "markdown",
   "metadata": {},
   "source": [
    "- Basicamente temos esses três tipos de dados\n",
    "    - INT: números inteiros\n",
    "    - FLOAT: números reais\n",
    "    - STR: strings/textos"
   ]
  },
  {
   "cell_type": "markdown",
   "metadata": {},
   "source": [
    "Veja o que acontece quando somamos dois valores do tipo int e quando somamos dois valores do tipo string\n",
    "    - Os tipos ints(números inteiros) são somados, como esperávamos\n",
    "    - Os tipos string são concatenados, ou seja, juntados"
   ]
  },
  {
   "cell_type": "code",
   "execution_count": 8,
   "metadata": {},
   "outputs": [
    {
     "name": "stdout",
     "output_type": "stream",
     "text": [
      "600\n",
      "RogérioCampos\n"
     ]
    }
   ],
   "source": [
    "# printando a soma entre dois ints\n",
    "print(100 + 500)\n",
    "\n",
    "# printando a soma entre duas strings\n",
    "print('Rogério' + 'Campos')"
   ]
  },
  {
   "cell_type": "markdown",
   "metadata": {},
   "source": [
    "Veja o que acontece quando somamos um tipo string e um tipo int\n",
    "    - Ocorre um erro, ele não consegue concatenar um tipo int com um tipo string e nem somá-los"
   ]
  },
  {
   "cell_type": "code",
   "execution_count": 20,
   "metadata": {
    "scrolled": true
   },
   "outputs": [
    {
     "ename": "TypeError",
     "evalue": "can only concatenate str (not \"int\") to str",
     "output_type": "error",
     "traceback": [
      "\u001b[1;31m---------------------------------------------------------------------------\u001b[0m",
      "\u001b[1;31mTypeError\u001b[0m                                 Traceback (most recent call last)",
      "\u001b[1;32m<ipython-input-20-dd2f5d17d9c1>\u001b[0m in \u001b[0;36m<module>\u001b[1;34m\u001b[0m\n\u001b[0;32m      1\u001b[0m \u001b[1;31m# print de uma soma entre um int e uma string\u001b[0m\u001b[1;33m\u001b[0m\u001b[1;33m\u001b[0m\u001b[1;33m\u001b[0m\u001b[0m\n\u001b[1;32m----> 2\u001b[1;33m \u001b[0mprint\u001b[0m\u001b[1;33m(\u001b[0m\u001b[1;34m'Rogério'\u001b[0m \u001b[1;33m+\u001b[0m \u001b[1;36m3\u001b[0m\u001b[1;33m)\u001b[0m\u001b[1;33m\u001b[0m\u001b[1;33m\u001b[0m\u001b[0m\n\u001b[0m",
      "\u001b[1;31mTypeError\u001b[0m: can only concatenate str (not \"int\") to str"
     ]
    }
   ],
   "source": [
    "# print de uma soma entre um int e uma string\n",
    "print('Rogério' + 3)"
   ]
  },
  {
   "cell_type": "markdown",
   "metadata": {},
   "source": [
    "Agora, quando fazemos uma multiplicação entre uma string e um int, veja o que acontece\n",
    "    - Ele concatena na quantidade de vezes do int\n",
    "    - Tente fazer a mesma coisa com uma string e um float, veja o erro que dá\n",
    "    - O Python fala que você só pode multiplicar uma string por um int"
   ]
  },
  {
   "cell_type": "code",
   "execution_count": 23,
   "metadata": {},
   "outputs": [
    {
     "name": "stdout",
     "output_type": "stream",
     "text": [
      "RogérioRogérioRogério\n"
     ]
    }
   ],
   "source": [
    "# print de uma multiplicação entre um int e uma string\n",
    "print('Rogério' * 3)"
   ]
  },
  {
   "cell_type": "code",
   "execution_count": 24,
   "metadata": {},
   "outputs": [
    {
     "ename": "TypeError",
     "evalue": "can't multiply sequence by non-int of type 'float'",
     "output_type": "error",
     "traceback": [
      "\u001b[1;31m---------------------------------------------------------------------------\u001b[0m",
      "\u001b[1;31mTypeError\u001b[0m                                 Traceback (most recent call last)",
      "\u001b[1;32m<ipython-input-24-8a23a136c070>\u001b[0m in \u001b[0;36m<module>\u001b[1;34m\u001b[0m\n\u001b[0;32m      1\u001b[0m \u001b[1;31m# print de uma multiplicação entre um float e uma string\u001b[0m\u001b[1;33m\u001b[0m\u001b[1;33m\u001b[0m\u001b[1;33m\u001b[0m\u001b[0m\n\u001b[1;32m----> 2\u001b[1;33m \u001b[0mprint\u001b[0m\u001b[1;33m(\u001b[0m\u001b[1;34m'Rogério'\u001b[0m \u001b[1;33m*\u001b[0m \u001b[1;36m3.5\u001b[0m\u001b[1;33m)\u001b[0m\u001b[1;33m\u001b[0m\u001b[1;33m\u001b[0m\u001b[0m\n\u001b[0m",
      "\u001b[1;31mTypeError\u001b[0m: can't multiply sequence by non-int of type 'float'"
     ]
    }
   ],
   "source": [
    "# print de uma multiplicação entre um float e uma string\n",
    "print('Rogério' * 3.5)"
   ]
  },
  {
   "cell_type": "markdown",
   "metadata": {},
   "source": [
    "# <font color='royalblue'>Variáveis</font>\n",
    "\n",
    "- Variável: um nome que se refere a um valor\n",
    "- Se quisermos usar um valor posteriormente, podemos atribuir uma variável(etiqueta) para esse valor\n",
    "- O sinal de igual (=) é usado para atribuir um valor a uma variável\n",
    "    - Chamamos isso de _instrução de atribuição_\n",
    "    - O sinal de igual é chamado de _operador de atribuição_\n",
    "- Variáveis são contêineres para dados\n",
    "- Toda variável em Python é um objeto\n",
    "- Tome muito cuidado, para atribuição de valor usamos apenas um sinal de igual(=)"
   ]
  },
  {
   "cell_type": "code",
   "execution_count": 25,
   "metadata": {},
   "outputs": [
    {
     "name": "stdout",
     "output_type": "stream",
     "text": [
      "Minha idade é 29\n"
     ]
    }
   ],
   "source": [
    "# atribuindo um valor a variavel minha_idade\n",
    "minha_idade = 29\n",
    "print(f'Minha idade é {minha_idade}')"
   ]
  },
  {
   "cell_type": "markdown",
   "metadata": {},
   "source": [
    "#### O que acontece quando a gente atribui um valor a uma variável?\n",
    "1. Temos a criação de um objeto com um valor, um type e um id"
   ]
  },
  {
   "cell_type": "code",
   "execution_count": 26,
   "metadata": {},
   "outputs": [
    {
     "name": "stdout",
     "output_type": "stream",
     "text": [
      "Endereço: 140717619517152\n",
      "Tipo de Dado:  <class 'int'>\n",
      "Valor:  30\n"
     ]
    }
   ],
   "source": [
    "# atribuindo um valor para a variavel minha_idade\n",
    "minha_idade = 30\n",
    "print('Endereço:', id(minha_idade))\n",
    "print('Tipo de Dado: ', type(minha_idade))\n",
    "print('Valor: ', minha_idade)"
   ]
  },
  {
   "cell_type": "markdown",
   "metadata": {},
   "source": [
    "#### Tentando acessar uma variável que não foi declarada "
   ]
  },
  {
   "cell_type": "code",
   "execution_count": 27,
   "metadata": {},
   "outputs": [
    {
     "ename": "NameError",
     "evalue": "name 'variavel_nao_declarada' is not defined",
     "output_type": "error",
     "traceback": [
      "\u001b[1;31m---------------------------------------------------------------------------\u001b[0m",
      "\u001b[1;31mNameError\u001b[0m                                 Traceback (most recent call last)",
      "\u001b[1;32m<ipython-input-27-94c138ef81d6>\u001b[0m in \u001b[0;36m<module>\u001b[1;34m\u001b[0m\n\u001b[1;32m----> 1\u001b[1;33m \u001b[0mvariavel_nao_declarada\u001b[0m\u001b[1;33m\u001b[0m\u001b[1;33m\u001b[0m\u001b[0m\n\u001b[0m",
      "\u001b[1;31mNameError\u001b[0m: name 'variavel_nao_declarada' is not defined"
     ]
    }
   ],
   "source": [
    "variavel_nao_declarada"
   ]
  },
  {
   "cell_type": "markdown",
   "metadata": {},
   "source": [
    "#### Mudando o valor da variável"
   ]
  },
  {
   "cell_type": "code",
   "execution_count": 28,
   "metadata": {},
   "outputs": [
    {
     "name": "stdout",
     "output_type": "stream",
     "text": [
      "Valor: 29\n",
      "140717619517120\n",
      "\n",
      "Valor e id após a alteração\n",
      "Valor: vinte e nove anos\n",
      "2547105912128\n"
     ]
    }
   ],
   "source": [
    "# atribuindo o valor 29 para a variavel minha_idade\n",
    "minha_idade = 29\n",
    "\n",
    "# printando o valor da variavel minha_idade\n",
    "print('Valor:', minha_idade)\n",
    "print(id(minha_idade))\n",
    "\n",
    "# atribuindo o valor 'vinte e nove anos' para a variavel minha_idade\n",
    "minha_idade = 'vinte e nove anos'\n",
    "\n",
    "# printando o valor da variavel minha_idade\n",
    "print('\\nValor e id após a alteração')\n",
    "print('Valor:', minha_idade)\n",
    "print(id(minha_idade))"
   ]
  },
  {
   "cell_type": "markdown",
   "metadata": {},
   "source": [
    "#### Atribuindo valor para múltiplas variáveis"
   ]
  },
  {
   "cell_type": "code",
   "execution_count": 29,
   "metadata": {},
   "outputs": [],
   "source": [
    "minha_idade, irmao_idade = 29, 27\n",
    "# ou\n",
    "gemeo_1 = gemeo_2 = 1"
   ]
  },
  {
   "cell_type": "markdown",
   "metadata": {},
   "source": [
    "#### Mudando o tipo da variável\n",
    "- Algumas linguagens te obrigam a declarar o tipo que a variável será e você não pode mudar esse tipo no decorrer do programa\n",
    "- Python permite a você não declarar o tipo da variável e ainda mudar o tipo"
   ]
  },
  {
   "cell_type": "code",
   "execution_count": 30,
   "metadata": {},
   "outputs": [
    {
     "name": "stdout",
     "output_type": "stream",
     "text": [
      "O tipo da variável <class 'int'>\n",
      "Novo tipo da variável <class 'str'>\n"
     ]
    }
   ],
   "source": [
    "minha_idade = 29\n",
    "print(f'O tipo da variável {type(minha_idade)}')\n",
    "\n",
    "minha_idade = '29'\n",
    "print(f'Novo tipo da variável {type(minha_idade)}')"
   ]
  },
  {
   "cell_type": "markdown",
   "metadata": {},
   "source": [
    "# <font color='royalblue'>Exercícios</font>"
   ]
  },
  {
   "cell_type": "markdown",
   "metadata": {},
   "source": [
    "#### Exercício 1 - Variáveis\n",
    "- Crie duas variáveis quaisquer e faça um print usando duas vezes o sinal de igual(==)"
   ]
  },
  {
   "cell_type": "markdown",
   "metadata": {},
   "source": [
    "#### Exercício 2 - Variáveis\n",
    "- Crie duas variáveis com valores do tipo int diferentes\n",
    "- Use apenas uma linha\n",
    "- Print na tela o valor das duas\n",
    "- Troque o valor das variáveis entre elas\n",
    "- Use apenas uma linha\n",
    "- Print na tela o valor das duas"
   ]
  },
  {
   "cell_type": "markdown",
   "metadata": {},
   "source": [
    "#### Exercício 3 - Variáveis\n",
    "- Qual a saída do código abaixo? Tente pensar sem rodar o código<br>\n",
    "ano = 2019<br>\n",
    "soma_seculo = 2019 + 100<br>\n",
    "ano = 2020<br>\n",
    "print(ano, seculo)<br>"
   ]
  },
  {
   "cell_type": "markdown",
   "metadata": {},
   "source": [
    "#### Exercício 1 - Operadores Aritméticos\n",
    "- Pedir o ano de nascimento do usuário com input()\n",
    "- Entrar com o ano atual\n",
    "- Printar na tela a idade do usuário"
   ]
  },
  {
   "cell_type": "markdown",
   "metadata": {},
   "source": [
    "#### Exercício 2 - Operadores Aritméticos\n",
    "- Pedir uma temperatura em graus celsius para o usuário com a função input()\n",
    "- Fazer mudança para Fahrenheit --- $°F = °C * 1,8 + 32$\n",
    "- Printar a temperatura em Graus Fahrenheit"
   ]
  },
  {
   "cell_type": "markdown",
   "metadata": {},
   "source": [
    "#### Exercício 3 - Operadores Aritméticos\n",
    "- Pedir uma temperatura em graus Fahrenheit para o usuário com a função input()\n",
    "- Fazer mudança para Graus Celsius --- $°C = (°F - 32) * \\frac{5}{9}$\n",
    "- Printar a temperatura em Graus Celsius"
   ]
  },
  {
   "cell_type": "markdown",
   "metadata": {},
   "source": [
    "#### Exercício 4 - Operadores Aritméticos\n",
    "- Pedir o tamanho do lado de um quadrado para o usuário com a função input()\n",
    "- Calcular a área do quadrado\n",
    "- Printar o tamanho do lado inserido e a área do quadrado"
   ]
  },
  {
   "cell_type": "markdown",
   "metadata": {},
   "source": [
    "#### Exercício 6 - Operadores Aritméticos\n",
    "- Você está criando um software para uma construtora. Eles querem uma feature no seu programa que pede para o usuário os dois lados de um apartamento retangular, a quantidade de apartamentos por andar e a quantidade de andares de um prédio\n",
    "- Você deve printar a quantidade de metros quadrados \"úteis\" no prédio"
   ]
  },
  {
   "cell_type": "markdown",
   "metadata": {},
   "source": [
    "#### Exercício 7 - Operadores Aritméticos\n",
    "- Dada a equação horária do espaço $$S_f = S_i + V * (t_f - t_i)$$\n",
    "- Crie um programa que pede de onde o usuário partiu $S_i$, qual a média de velocidade $V$ e o tempo que ele levou $t_f - t_i$\n",
    "- Print qual o local que ele parou"
   ]
  },
  {
   "cell_type": "markdown",
   "metadata": {},
   "source": [
    "#### Exercício 8 - Operadores Aritméticos\n",
    "- Faça uma calculadora de PACE (min/km) \n",
    "- Pedir para o usuário o tempo em minutos que ele terminou uma corrida\n",
    "- Pedir para o usuário a distância em metros que ele percorreu\n",
    "- Converter metros em km (quant.metros / 1000)\n",
    "- Printar o PACE na tela (min/km)\n",
    "    - \"Você teve um PACE de X min/km\""
   ]
  },
  {
   "cell_type": "markdown",
   "metadata": {},
   "source": [
    "#### Exercício 9 - Operadores Aritméticos\n",
    "- Pedir um número inteiro para o usuário com a função input()\n",
    "- Printar a tabuada que vai de 0 até 10 do número inserido pelo usuário"
   ]
  }
 ],
 "metadata": {
  "kernelspec": {
   "display_name": "Python 3",
   "language": "python",
   "name": "python3"
  },
  "language_info": {
   "codemirror_mode": {
    "name": "ipython",
    "version": 3
   },
   "file_extension": ".py",
   "mimetype": "text/x-python",
   "name": "python",
   "nbconvert_exporter": "python",
   "pygments_lexer": "ipython3",
   "version": "3.7.5"
  }
 },
 "nbformat": 4,
 "nbformat_minor": 2
}
