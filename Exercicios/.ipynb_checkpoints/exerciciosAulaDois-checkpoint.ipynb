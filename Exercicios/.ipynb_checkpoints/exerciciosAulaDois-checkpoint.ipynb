{
 "cells": [
  {
   "cell_type": "markdown",
   "metadata": {},
   "source": [
    "#### Exercício 1 - Variáveis\n",
    "- Crie duas variáveis quaisquer e faça um print usando duas vezes o sinal de igual(==)"
   ]
  },
  {
   "cell_type": "code",
   "execution_count": null,
   "metadata": {},
   "outputs": [],
   "source": [
    "varUm, varDois = 1, 2\n",
    "print(\"Printando variável um: {} e variável dois: {}\".format(varUm, varDois))"
   ]
  },
  {
   "cell_type": "markdown",
   "metadata": {},
   "source": [
    "#### Exercício 2 - Variáveis\n",
    "- Crie duas variáveis com valores do tipo int diferentes\n",
    "- Use apenas uma linha\n",
    "- Print na tela o valor das duas\n",
    "- Troque o valor das variáveis entre elas\n",
    "- Use apenas uma linha\n",
    "- Print na tela o valor das duas"
   ]
  },
  {
   "cell_type": "code",
   "execution_count": null,
   "metadata": {},
   "outputs": [],
   "source": [
    "varUm, varDois = 10, 30\n",
    "print(\"Printando varável um: {} e variável dois: {}\".format(varUm, varDois))\n",
    "varUm, varDois = varDois, varDois\n",
    "print(\"Invertendo valores de variavéis, variável um agora é: {} e variável dois é: {}\".format(varUm, varDois))"
   ]
  },
  {
   "cell_type": "markdown",
   "metadata": {},
   "source": [
    "#### Exercício 3 - Variáveis\n",
    "- Qual a saída do código abaixo? Tente pensar sem rodar o código<br>\n",
    "ano = 2019<br>\n",
    "soma_seculo = 2019 + 100<br>\n",
    "ano = 2020<br>\n",
    "print(ano, seculo)<br>"
   ]
  },
  {
   "cell_type": "markdown",
   "metadata": {},
   "source": [
    "Resposta: O ano será 2020, pelo fato de estar sobrescrevendo a variável. A soma do seculo é 2119, por ser apenas uma soma."
   ]
  },
  {
   "cell_type": "markdown",
   "metadata": {},
   "source": [
    "#### Exercício 1 - Operadores Aritméticos\n",
    "- Pedir o ano de nascimento do usuário com input()\n",
    "- Entrar com o ano atual\n",
    "- Printar na tela a idade do usuário"
   ]
  },
  {
   "cell_type": "code",
   "execution_count": 2,
   "metadata": {},
   "outputs": [
    {
     "name": "stdout",
     "output_type": "stream",
     "text": [
      "Informe seu ano de nascimento e o ano atual, separados por espaço. (Exemplo: 1997 2019): 1997 2019\n",
      "sua idade é 22\n"
     ]
    }
   ],
   "source": [
    "dados = input(\"Informe seu ano de nascimento e o ano atual, separados por espaço. (Exemplo: 1997 2019): \").split(\" \")\n",
    "anoNascimento, anoAtual = int(dados[0]), int(dados[1])\n",
    "print(\"sua idade é {}\".format(anoAtual-anoNascimento))"
   ]
  },
  {
   "cell_type": "markdown",
   "metadata": {},
   "source": [
    "#### Exercício 2 - Operadores Aritméticos\n",
    "- Pedir uma temperatura em graus celsius para o usuário com a função input()\n",
    "- Fazer mudança para Fahrenheit --- $°F = °C * 1,8 + 32$\n",
    "- Printar a temperatura em Graus Fahrenheit"
   ]
  },
  {
   "cell_type": "code",
   "execution_count": 3,
   "metadata": {},
   "outputs": [
    {
     "name": "stdout",
     "output_type": "stream",
     "text": [
      "Informe a temperatura em graus celsius: 44\n",
      "Temperatura em Fahrenheit 111.2\n"
     ]
    }
   ],
   "source": [
    "celsius = input(\"Informe a temperatura em graus celsius: \")\n",
    "print(\"Temperatura em Fahrenheit {}\".format(float(celsius) * 1.8 + 32))"
   ]
  },
  {
   "cell_type": "markdown",
   "metadata": {},
   "source": [
    "#### Exercício 3 - Operadores Aritméticos\n",
    "- Pedir uma temperatura em graus Fahrenheit para o usuário com a função input()\n",
    "- Fazer mudança para Graus Celsius --- $°C = (°F - 32) * \\frac{5}{9}$\n",
    "- Printar a temperatura em Graus Celsius"
   ]
  },
  {
   "cell_type": "code",
   "execution_count": 8,
   "metadata": {},
   "outputs": [
    {
     "name": "stdout",
     "output_type": "stream",
     "text": [
      "Informe a temperatura em Fahrenheit: 111.2\n",
      "Temperatura em Celsius 44.0\n"
     ]
    }
   ],
   "source": [
    "fahrenheit = input(\"Informe a temperatura em Fahrenheit: \")\n",
    "print(\"Temperatura em Celsius {}\".format((float(fahrenheit)-32)*(5/9)))"
   ]
  },
  {
   "cell_type": "markdown",
   "metadata": {},
   "source": [
    "#### Exercício 4 - Operadores Aritméticos\n",
    "- Pedir o tamanho do lado de um quadrado para o usuário com a função input()\n",
    "- Calcular a área do quadrado\n",
    "- Printar o tamanho do lado inserido e a área do quadrado"
   ]
  },
  {
   "cell_type": "code",
   "execution_count": null,
   "metadata": {},
   "outputs": [],
   "source": [
    "ladoQuadrado = input(\"Informe a medida de um lado do quadrado\")\n"
   ]
  }
 ],
 "metadata": {
  "kernelspec": {
   "display_name": "Python 3",
   "language": "python",
   "name": "python3"
  },
  "language_info": {
   "codemirror_mode": {
    "name": "ipython",
    "version": 3
   },
   "file_extension": ".py",
   "mimetype": "text/x-python",
   "name": "python",
   "nbconvert_exporter": "python",
   "pygments_lexer": "ipython3",
   "version": "3.7.5"
  }
 },
 "nbformat": 4,
 "nbformat_minor": 2
}
