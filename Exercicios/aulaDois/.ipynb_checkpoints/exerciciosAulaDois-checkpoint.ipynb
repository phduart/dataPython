{
 "cells": [
  {
   "cell_type": "markdown",
   "metadata": {
    "colab_type": "text",
    "id": "mMm3eG0BDCEM"
   },
   "source": [
    "#### Exercício 1 - Variáveis\n",
    "- Crie duas variáveis quaisquer e faça um print usando duas vezes o sinal de igual(==)"
   ]
  },
  {
   "cell_type": "code",
   "execution_count": 0,
   "metadata": {
    "colab": {},
    "colab_type": "code",
    "id": "oFZHZG8XDCEQ"
   },
   "outputs": [],
   "source": [
    "varUm, varDois = 1, 2\n",
    "print(\"Printando variável um: {} e variável dois: {}\".format(varUm, varDois))"
   ]
  },
  {
   "cell_type": "markdown",
   "metadata": {
    "colab_type": "text",
    "id": "qwxFOVuaDCEX"
   },
   "source": [
    "#### Exercício 2 - Variáveis\n",
    "- Crie duas variáveis com valores do tipo int diferentes\n",
    "- Use apenas uma linha\n",
    "- Print na tela o valor das duas\n",
    "- Troque o valor das variáveis entre elas\n",
    "- Use apenas uma linha\n",
    "- Print na tela o valor das duas"
   ]
  },
  {
   "cell_type": "code",
   "execution_count": 0,
   "metadata": {
    "colab": {},
    "colab_type": "code",
    "id": "YFSMBHQRDCEa"
   },
   "outputs": [],
   "source": [
    "varUm, varDois = 10, 30\n",
    "print(\"Printando varável um: {} e variável dois: {}\".format(varUm, varDois))\n",
    "varUm, varDois = varDois, varDois\n",
    "print(\"Invertendo valores de variavéis, variável um agora é: {} e variável dois é: {}\".format(varUm, varDois))"
   ]
  },
  {
   "cell_type": "markdown",
   "metadata": {
    "colab_type": "text",
    "id": "3nd5KYGDDCEg"
   },
   "source": [
    "#### Exercício 3 - Variáveis\n",
    "- Qual a saída do código abaixo? Tente pensar sem rodar o código<br>\n",
    "ano = 2019<br>\n",
    "soma_seculo = 2019 + 100<br>\n",
    "ano = 2020<br>\n",
    "print(ano, seculo)<br>"
   ]
  },
  {
   "cell_type": "markdown",
   "metadata": {
    "colab_type": "text",
    "id": "otgtQSCMDCEi"
   },
   "source": [
    "Resposta: O ano será 2020, pelo fato de estar sobrescrevendo a variável. A soma do seculo é 2119, por ser apenas uma soma."
   ]
  },
  {
   "cell_type": "markdown",
   "metadata": {
    "colab_type": "text",
    "id": "l4RTcxDqDCEj"
   },
   "source": [
    "#### Exercício 1 - Operadores Aritméticos\n",
    "- Pedir o ano de nascimento do usuário com input()\n",
    "- Entrar com o ano atual\n",
    "- Printar na tela a idade do usuário"
   ]
  },
  {
   "cell_type": "code",
   "execution_count": 0,
   "metadata": {
    "colab": {},
    "colab_type": "code",
    "id": "yq9lHVX5DCEk",
    "outputId": "b5047da2-865c-47b2-d1b6-6031b502200c"
   },
   "outputs": [
    {
     "name": "stdout",
     "output_type": "stream",
     "text": [
      "Informe seu ano de nascimento e o ano atual, separados por espaço. (Exemplo: 1997 2019): 1997 2019\n",
      "sua idade é 22\n"
     ]
    }
   ],
   "source": [
    "dados = input(\"Informe seu ano de nascimento e o ano atual, separados por espaço. (Exemplo: 1997 2019): \").split(\" \")\n",
    "anoNascimento, anoAtual = int(dados[0]), int(dados[1])\n",
    "print(\"sua idade é {}\".format(anoAtual-anoNascimento))"
   ]
  },
  {
   "cell_type": "markdown",
   "metadata": {
    "colab_type": "text",
    "id": "6XietpnEDCEr"
   },
   "source": [
    "#### Exercício 2 - Operadores Aritméticos\n",
    "- Pedir uma temperatura em graus celsius para o usuário com a função input()\n",
    "- Fazer mudança para Fahrenheit --- $°F = °C * 1,8 + 32$\n",
    "- Printar a temperatura em Graus Fahrenheit"
   ]
  },
  {
   "cell_type": "code",
   "execution_count": 0,
   "metadata": {
    "colab": {},
    "colab_type": "code",
    "id": "1S626pCLDCEs",
    "outputId": "19d3d65e-0269-484a-dd89-4c54a803d5d7"
   },
   "outputs": [
    {
     "name": "stdout",
     "output_type": "stream",
     "text": [
      "Informe a temperatura em graus celsius: 44\n",
      "Temperatura em Fahrenheit 111.2\n"
     ]
    }
   ],
   "source": [
    "celsius = float(input(\"Informe a temperatura em graus celsius: \"))\n",
    "print(\"Temperatura em Fahrenheit {}\".format(celsius * 1.8 + 32))"
   ]
  },
  {
   "cell_type": "markdown",
   "metadata": {
    "colab_type": "text",
    "id": "nnj58RSQDCEw"
   },
   "source": [
    "#### Exercício 3 - Operadores Aritméticos\n",
    "- Pedir uma temperatura em graus Fahrenheit para o usuário com a função input()\n",
    "- Fazer mudança para Graus Celsius --- $°C = (°F - 32) * \\frac{5}{9}$\n",
    "- Printar a temperatura em Graus Celsius"
   ]
  },
  {
   "cell_type": "code",
   "execution_count": 0,
   "metadata": {
    "colab": {},
    "colab_type": "code",
    "id": "GqM4RBp4DCEx",
    "outputId": "99d6b4d1-8592-416f-9320-455ade142578"
   },
   "outputs": [
    {
     "name": "stdout",
     "output_type": "stream",
     "text": [
      "Informe a temperatura em Fahrenheit: 111.2\n",
      "Temperatura em Celsius 44.0\n"
     ]
    }
   ],
   "source": [
    "fahrenheit = input(\"Informe a temperatura em Fahrenheit: \")\n",
    "print(\"Temperatura em Celsius {}\".format((float(fahrenheit)-32)*(5/9)))"
   ]
  },
  {
   "cell_type": "markdown",
   "metadata": {
    "colab_type": "text",
    "id": "HEHk39J6DCE1"
   },
   "source": [
    "#### Exercício 4 - Operadores Aritméticos\n",
    "- Pedir o tamanho do lado de um quadrado para o usuário com a função input()\n",
    "- Calcular a área do quadrado\n",
    "- Printar o tamanho do lado inserido e a área do quadrado"
   ]
  },
  {
   "cell_type": "code",
   "execution_count": 3,
   "metadata": {
    "colab": {
     "base_uri": "https://localhost:8080/",
     "height": 52
    },
    "colab_type": "code",
    "executionInfo": {
     "elapsed": 6560,
     "status": "ok",
     "timestamp": 1573737875493,
     "user": {
      "displayName": "Paulo H. Duarte",
      "photoUrl": "https://lh3.googleusercontent.com/a-/AAuE7mBMoH1imTH0FfQWA4zXtNDDIcYMsY434JgTiOv0yg=s64",
      "userId": "00324083358193063760"
     },
     "user_tz": 180
    },
    "id": "TeXU9HsDDCE3",
    "outputId": "5e2ed05e-0080-4051-dc08-6ce809802d22"
   },
   "outputs": [
    {
     "name": "stdout",
     "output_type": "stream",
     "text": [
      "Informe a medida de um lado do quadrado 10\n",
      "A área do quadrado é: 100.0, o tamanho do lado do quadrado informado foi: 10.0\n"
     ]
    }
   ],
   "source": [
    "ladoQuadrado = float(input(\"Informe a medida de um lado do quadrado \"))\n",
    "print(\"A área do quadrado é: {}, o tamanho do lado do quadrado informado foi: {}\".format(ladoQuadrado*ladoQuadrado, ladoQuadrado))"
   ]
  },
  {
   "cell_type": "markdown",
   "metadata": {
    "colab_type": "text",
    "id": "ftjRJHKzGSC4"
   },
   "source": [
    "#### Exercício 6 - Operadores Aritméticos\n",
    "- Você está criando um software para uma construtora. Eles querem uma feature no seu programa que pede para o usuário os dois lados de um apartamento retangular, a quantidade de apartamentos por andar e a quantidade de andares de um prédio\n",
    "- Você deve printar a quantidade de metros quadrados \"úteis\" no prédio"
   ]
  },
  {
   "cell_type": "code",
   "execution_count": 15,
   "metadata": {
    "colab": {
     "base_uri": "https://localhost:8080/",
     "height": 69
    },
    "colab_type": "code",
    "executionInfo": {
     "elapsed": 5556,
     "status": "ok",
     "timestamp": 1573739899108,
     "user": {
      "displayName": "Paulo H. Duarte",
      "photoUrl": "https://lh3.googleusercontent.com/a-/AAuE7mBMoH1imTH0FfQWA4zXtNDDIcYMsY434JgTiOv0yg=s64",
      "userId": "00324083358193063760"
     },
     "user_tz": 180
    },
    "id": "fOeTHUXqGnLo",
    "outputId": "c21f13b1-b797-4d36-e90c-5ecd3beb8375"
   },
   "outputs": [
    {
     "name": "stdout",
     "output_type": "stream",
     "text": [
      "Informe as medidas do apartamento em metros, separado por espaço (Exemplo: 10 30) 10 20\n",
      "Informe quantos apartamentos terá por andar e quantos andares, separado por espaço (Exemplo: 2 3) 1 2\n",
      "A área do prédio é : 400.0\n"
     ]
    }
   ],
   "source": [
    "medidasApartamento = input(\"Informe as medidas do apartamento em metros, separado por espaço (Exemplo: 10 30) \").split(\" \")\n",
    "areaApartamento = float(medidasApartamento[0]) * float(medidasApartamento[1])\n",
    "qttApartamentoAndar = input(\"Informe quantos apartamentos terá por andar e quantos andares, separado por espaço (Exemplo: 2 3) \").split(\" \")\n",
    "print(\"A área do prédio é : {}\".format((areaApartamento * float(qttApartamentoAndar[0])) *  float(qttApartamentoAndar[1])))"
   ]
  },
  {
   "cell_type": "markdown",
   "metadata": {
    "colab_type": "text",
    "id": "FaJu5yRLGSC5"
   },
   "source": [
    "#### Exercício 7 - Operadores Aritméticos\n",
    "- Dada a equação horária do espaço $$S_f = S_i + V * (t_f - t_i)$$\n",
    "- Crie um programa que pede de onde o usuário partiu $S_i$, qual a média de velocidade $V$ e o tempo que ele levou $t_f - t_i$\n",
    "- Print qual o local que ele parou"
   ]
  },
  {
   "cell_type": "code",
   "execution_count": 0,
   "metadata": {
    "colab": {},
    "colab_type": "code",
    "id": "PGJKJELONrMj"
   },
   "outputs": [],
   "source": []
  },
  {
   "cell_type": "markdown",
   "metadata": {
    "colab_type": "text",
    "id": "UblUSeqMGSC8"
   },
   "source": [
    "#### Exercício 8 - Operadores Aritméticos\n",
    "- Faça uma calculadora de PACE (min/km) \n",
    "- Pedir para o usuário o tempo em minutos que ele terminou uma corrida\n",
    "- Pedir para o usuário a distância em metros que ele percorreu\n",
    "- Converter metros em km (quant.metros / 1000)\n",
    "- Printar o PACE na tela (min/km)\n",
    "    - \"Você teve um PACE de X min/km\""
   ]
  },
  {
   "cell_type": "code",
   "execution_count": 18,
   "metadata": {
    "colab": {
     "base_uri": "https://localhost:8080/",
     "height": 52
    },
    "colab_type": "code",
    "executionInfo": {
     "elapsed": 6327,
     "status": "ok",
     "timestamp": 1573742379767,
     "user": {
      "displayName": "Paulo H. Duarte",
      "photoUrl": "https://lh3.googleusercontent.com/a-/AAuE7mBMoH1imTH0FfQWA4zXtNDDIcYMsY434JgTiOv0yg=s64",
      "userId": "00324083358193063760"
     },
     "user_tz": 180
    },
    "id": "Yq_bQ-h_UE_R",
    "outputId": "f4d9ac12-38ce-47f7-f71a-8dbd1d67e3d6"
   },
   "outputs": [
    {
     "name": "stdout",
     "output_type": "stream",
     "text": [
      "Informe o tempo em minutos da corrida e a distância em metros, separados por espaço Exemplo (60 1000)60 2000\n",
      "Vocêê teve um PACE de 30.0 min/km\n"
     ]
    }
   ],
   "source": [
    "dadosPace = input(\"Informe o tempo em minutos da corrida e a distância em metros, separados por espaço Exemplo (60 1000)\").split(\" \")\n",
    "print(\"Você teve um PACE de {} min/km\".format(float(dadosPace[0])/(float(dadosPace[1])/1000)))"
   ]
  },
  {
   "cell_type": "markdown",
   "metadata": {
    "colab_type": "text",
    "id": "mX8IKVx1GSC9"
   },
   "source": [
    "#### Exercício 9 - Operadores Aritméticos\n",
    "- Pedir um número inteiro para o usuário com a função input()\n",
    "- Printar a tabuada que vai de 0 até 10 do número inserido pelo usuário"
   ]
  },
  {
   "cell_type": "code",
   "execution_count": 9,
   "metadata": {
    "colab": {
     "base_uri": "https://localhost:8080/",
     "height": 225
    },
    "colab_type": "code",
    "executionInfo": {
     "elapsed": 3406,
     "status": "ok",
     "timestamp": 1573755791132,
     "user": {
      "displayName": "Paulo H. Duarte",
      "photoUrl": "https://lh3.googleusercontent.com/a-/AAuE7mBMoH1imTH0FfQWA4zXtNDDIcYMsY434JgTiOv0yg=s64",
      "userId": "00324083358193063760"
     },
     "user_tz": 180
    },
    "id": "ZLpywvwAXNqL",
    "outputId": "2d1bad0d-36fb-4daf-c5e9-9ed9543f4382"
   },
   "outputs": [
    {
     "name": "stdout",
     "output_type": "stream",
     "text": [
      "Informe um numero 10\n",
      "10 x 0 = 0\n",
      "10 x 1 = 10\n",
      "10 x 2 = 20\n",
      "10 x 3 = 30\n",
      "10 x 4 = 40\n",
      "10 x 5 = 50\n",
      "10 x 6 = 60\n",
      "10 x 7 = 70\n",
      "10 x 8 = 80\n",
      "10 x 9 = 90\n",
      "10 x 10 = 100\n"
     ]
    }
   ],
   "source": [
    "number = int(input(\"Informe um numero \"))\n",
    "for x in range(0, 11):  print(\"{} x {} = {}\".format(number, x, number*x))"
   ]
  }
 ],
 "metadata": {
  "colab": {
   "collapsed_sections": [],
   "name": "exerciciosAulaDois.ipynb",
   "provenance": []
  },
  "kernelspec": {
   "display_name": "Python 3",
   "language": "python",
   "name": "python3"
  },
  "language_info": {
   "codemirror_mode": {
    "name": "ipython",
    "version": 3
   },
   "file_extension": ".py",
   "mimetype": "text/x-python",
   "name": "python",
   "nbconvert_exporter": "python",
   "pygments_lexer": "ipython3",
   "version": "3.7.6"
  }
 },
 "nbformat": 4,
 "nbformat_minor": 1
}
