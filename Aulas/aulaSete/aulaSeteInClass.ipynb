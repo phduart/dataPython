{
 "cells": [
  {
   "cell_type": "code",
   "execution_count": 22,
   "metadata": {},
   "outputs": [
    {
     "data": {
      "image/png": "[encoded data removed]",
      "text/plain": [
       "<Figure size 432x288 with 1 Axes>"
      ]
     },
     "metadata": {
      "needs_background": "light"
     },
     "output_type": "display_data"
    }
   ],
   "source": [
    "#importando bibliotecas\n",
    "import pandas as pd\n",
    "import statistics as st\n",
    "import matplotlib.pyplot as plt\n",
    "import numpy as np\n",
    "#lendo dados\n",
    "boston = pd.read_csv('housing.csv', usecols = ['RM', 'MEDV'])\n",
    "\n",
    "#separando features de targets\n",
    "X = boston.loc[:,'RM']\n",
    "y = boston.loc[:,'MEDV']\n",
    "\n",
    "#separando em dados de treino e teste de maneira randômica\n",
    "X_teste = X.sample(frac=0.3, random_state=42)\n",
    "X_treino = X.drop(X_teste.index)\n",
    "y_treino = y.loc[X_treino.index]\n",
    "y_teste = y.loc[X_teste.index]\n",
    "\n",
    "#MODELO\n",
    "\n",
    "cova = st.cova(X_treino, y_treino, st.media_lista(X_treino), st.media_lista(y_treino))\n",
    "b1 = cova / st.variancia(X_treino)\n",
    "b0 = (st.media_lista(y_treino))-(b1 * (st.media_lista(X_treino)))\n",
    "fit = b0 + b1 * X_treino\n",
    "\n",
    "#PREDIZENDO\n",
    "predict = b0 + b1 * X_teste\n",
    "plt.scatter(X_teste, y_teste)\n",
    "plt.scatter(X_teste, predict)\n",
    "plt.title('Scatter plot pythonspot.com')\n",
    "plt.xlabel('x')\n",
    "plt.ylabel('y')\n",
    "plt.show()"
   ]
  },
  {
   "cell_type": "code",
   "execution_count": 35,
   "metadata": {},
   "outputs": [
    {
     "name": "stdout",
     "output_type": "stream",
     "text": [
      "A porra do WAPE é 20.01%\n"
     ]
    },
    {
     "data": {
      "text/html": [
       "<div>\n",
       "<style scoped>\n",
       "    .dataframe tbody tr th:only-of-type {\n",
       "        vertical-align: middle;\n",
       "    }\n",
       "\n",
       "    .dataframe tbody tr th {\n",
       "        vertical-align: top;\n",
       "    }\n",
       "\n",
       "    .dataframe thead th {\n",
       "        text-align: right;\n",
       "    }\n",
       "</style>\n",
       "<table border=\"1\" class=\"dataframe\">\n",
       "  <thead>\n",
       "    <tr style=\"text-align: right;\">\n",
       "      <th></th>\n",
       "      <th>RM_feature</th>\n",
       "      <th>MEDV_target</th>\n",
       "      <th>y_pred</th>\n",
       "      <th>dif_abs</th>\n",
       "    </tr>\n",
       "  </thead>\n",
       "  <tbody>\n",
       "    <tr>\n",
       "      <th>451</th>\n",
       "      <td>5.926</td>\n",
       "      <td>401100.0</td>\n",
       "      <td>402269.0</td>\n",
       "      <td>1169.0</td>\n",
       "    </tr>\n",
       "    <tr>\n",
       "      <th>84</th>\n",
       "      <td>6.389</td>\n",
       "      <td>501900.0</td>\n",
       "      <td>486395.0</td>\n",
       "      <td>15505.0</td>\n",
       "    </tr>\n",
       "    <tr>\n",
       "      <th>434</th>\n",
       "      <td>6.655</td>\n",
       "      <td>319200.0</td>\n",
       "      <td>534727.0</td>\n",
       "      <td>215527.0</td>\n",
       "    </tr>\n",
       "    <tr>\n",
       "      <th>472</th>\n",
       "      <td>5.414</td>\n",
       "      <td>147000.0</td>\n",
       "      <td>309239.0</td>\n",
       "      <td>162239.0</td>\n",
       "    </tr>\n",
       "    <tr>\n",
       "      <th>428</th>\n",
       "      <td>6.459</td>\n",
       "      <td>247800.0</td>\n",
       "      <td>499114.0</td>\n",
       "      <td>251314.0</td>\n",
       "    </tr>\n",
       "    <tr>\n",
       "      <th>...</th>\n",
       "      <td>...</td>\n",
       "      <td>...</td>\n",
       "      <td>...</td>\n",
       "      <td>...</td>\n",
       "    </tr>\n",
       "    <tr>\n",
       "      <th>5</th>\n",
       "      <td>6.430</td>\n",
       "      <td>602700.0</td>\n",
       "      <td>493845.0</td>\n",
       "      <td>108855.0</td>\n",
       "    </tr>\n",
       "    <tr>\n",
       "      <th>116</th>\n",
       "      <td>6.176</td>\n",
       "      <td>445200.0</td>\n",
       "      <td>447693.0</td>\n",
       "      <td>2493.0</td>\n",
       "    </tr>\n",
       "    <tr>\n",
       "      <th>45</th>\n",
       "      <td>5.682</td>\n",
       "      <td>405300.0</td>\n",
       "      <td>357934.0</td>\n",
       "      <td>47366.0</td>\n",
       "    </tr>\n",
       "    <tr>\n",
       "      <th>16</th>\n",
       "      <td>5.935</td>\n",
       "      <td>485100.0</td>\n",
       "      <td>403904.0</td>\n",
       "      <td>81196.0</td>\n",
       "    </tr>\n",
       "    <tr>\n",
       "      <th>452</th>\n",
       "      <td>5.713</td>\n",
       "      <td>422100.0</td>\n",
       "      <td>363567.0</td>\n",
       "      <td>58533.0</td>\n",
       "    </tr>\n",
       "  </tbody>\n",
       "</table>\n",
       "<p>147 rows × 4 columns</p>\n",
       "</div>"
      ],
      "text/plain": [
       "     RM_feature  MEDV_target    y_pred   dif_abs\n",
       "451       5.926     401100.0  402269.0    1169.0\n",
       "84        6.389     501900.0  486395.0   15505.0\n",
       "434       6.655     319200.0  534727.0  215527.0\n",
       "472       5.414     147000.0  309239.0  162239.0\n",
       "428       6.459     247800.0  499114.0  251314.0\n",
       "..          ...          ...       ...       ...\n",
       "5         6.430     602700.0  493845.0  108855.0\n",
       "116       6.176     445200.0  447693.0    2493.0\n",
       "45        5.682     405300.0  357934.0   47366.0\n",
       "16        5.935     485100.0  403904.0   81196.0\n",
       "452       5.713     422100.0  363567.0   58533.0\n",
       "\n",
       "[147 rows x 4 columns]"
      ]
     },
     "execution_count": 35,
     "metadata": {},
     "output_type": "execute_result"
    }
   ],
   "source": [
    "df_teste = pd.DataFrame({'RM_feature': X_teste, 'MEDV_target' : y_teste, 'y_pred' : np.round(predict)})\n",
    "df_teste.loc[:, 'dif_abs'] = np.abs(df_teste['MEDV_target'] - df_teste['y_pred']) \n",
    "wape = df_teste.dif_abs.sum() / df_teste['MEDV_target'].sum()\n",
    "print(f\"A porra do WAPE é {wape*100:.2f}%\")\n",
    "df_teste"
   ]
  },
  {
   "cell_type": "code",
   "execution_count": null,
   "metadata": {},
   "outputs": [],
   "source": []
  }
 ],
 "metadata": {
  "kernelspec": {
   "display_name": "Python 3",
   "language": "python",
   "name": "python3"
  },
  "language_info": {
   "codemirror_mode": {
    "name": "ipython",
    "version": 3
   },
   "file_extension": ".py",
   "mimetype": "text/x-python",
   "name": "python",
   "nbconvert_exporter": "python",
   "pygments_lexer": "ipython3",
   "version": "3.7.5"
  }
 },
 "nbformat": 4,
 "nbformat_minor": 2
}
