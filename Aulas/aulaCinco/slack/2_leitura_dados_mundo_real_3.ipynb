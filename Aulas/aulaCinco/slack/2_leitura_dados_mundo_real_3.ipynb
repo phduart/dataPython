{
 "cells": [
  {
   "cell_type": "markdown",
   "metadata": {},
   "source": [
    "# Terceira Parte de Leitura de Dados"
   ]
  },
  {
   "cell_type": "markdown",
   "metadata": {},
   "source": [
    "## Investigando e Explorando os Dados na Leitura"
   ]
  },
  {
   "cell_type": "code",
   "execution_count": 5,
   "metadata": {},
   "outputs": [
    {
     "data": {
      "text/html": [
       "<div>\n",
       "<style scoped>\n",
       "    .dataframe tbody tr th:only-of-type {\n",
       "        vertical-align: middle;\n",
       "    }\n",
       "\n",
       "    .dataframe tbody tr th {\n",
       "        vertical-align: top;\n",
       "    }\n",
       "\n",
       "    .dataframe thead th {\n",
       "        text-align: right;\n",
       "    }\n",
       "</style>\n",
       "<table border=\"1\" class=\"dataframe\">\n",
       "  <thead>\n",
       "    <tr style=\"text-align: right;\">\n",
       "      <th></th>\n",
       "      <th>Feature_0</th>\n",
       "      <th>Feature_1</th>\n",
       "      <th>Feature_2</th>\n",
       "      <th>Label</th>\n",
       "    </tr>\n",
       "  </thead>\n",
       "  <tbody>\n",
       "    <tr>\n",
       "      <th>0</th>\n",
       "      <td>0.036435</td>\n",
       "      <td>1.192022418861353</td>\n",
       "      <td>-1.326348</td>\n",
       "      <td>0</td>\n",
       "    </tr>\n",
       "    <tr>\n",
       "      <th>1</th>\n",
       "      <td>-2.362614</td>\n",
       "      <td>0.999835110803413</td>\n",
       "      <td>-0.969421</td>\n",
       "      <td>0</td>\n",
       "    </tr>\n",
       "    <tr>\n",
       "      <th>2</th>\n",
       "      <td>-0.439421</td>\n",
       "      <td>0.4202877067824724</td>\n",
       "      <td>1.409511</td>\n",
       "      <td>1</td>\n",
       "    </tr>\n",
       "    <tr>\n",
       "      <th>3</th>\n",
       "      <td>-1.760930</td>\n",
       "      <td>-0.7317809156657651</td>\n",
       "      <td>-0.925953</td>\n",
       "      <td>0</td>\n",
       "    </tr>\n",
       "    <tr>\n",
       "      <th>4</th>\n",
       "      <td>-0.216907</td>\n",
       "      <td>1.3998695375029746</td>\n",
       "      <td>2.076070</td>\n",
       "      <td>1</td>\n",
       "    </tr>\n",
       "  </tbody>\n",
       "</table>\n",
       "</div>"
      ],
      "text/plain": [
       "   Feature_0            Feature_1  Feature_2 Label\n",
       "0   0.036435    1.192022418861353  -1.326348     0\n",
       "1  -2.362614    0.999835110803413  -0.969421     0\n",
       "2  -0.439421   0.4202877067824724   1.409511     1\n",
       "3  -1.760930  -0.7317809156657651  -0.925953     0\n",
       "4  -0.216907   1.3998695375029746   2.076070     1"
      ]
     },
     "execution_count": 5,
     "metadata": {},
     "output_type": "execute_result"
    },
    {
     "data": {
      "text/html": [
       "<div>\n",
       "<style scoped>\n",
       "    .dataframe tbody tr th:only-of-type {\n",
       "        vertical-align: middle;\n",
       "    }\n",
       "\n",
       "    .dataframe tbody tr th {\n",
       "        vertical-align: top;\n",
       "    }\n",
       "\n",
       "    .dataframe thead th {\n",
       "        text-align: right;\n",
       "    }\n",
       "</style>\n",
       "<table border=\"1\" class=\"dataframe\">\n",
       "  <thead>\n",
       "    <tr style=\"text-align: right;\">\n",
       "      <th></th>\n",
       "      <th>Feature_0</th>\n",
       "      <th>Feature_1</th>\n",
       "      <th>Feature_2</th>\n",
       "      <th>Label</th>\n",
       "    </tr>\n",
       "  </thead>\n",
       "  <tbody>\n",
       "    <tr>\n",
       "      <th>4995</th>\n",
       "      <td>-0.393958</td>\n",
       "      <td>-1.7838043938979733</td>\n",
       "      <td>0.153619</td>\n",
       "      <td>1</td>\n",
       "    </tr>\n",
       "    <tr>\n",
       "      <th>4996</th>\n",
       "      <td>-1.720548</td>\n",
       "      <td>-0.6341833261618026</td>\n",
       "      <td>-1.121617</td>\n",
       "      <td>0</td>\n",
       "    </tr>\n",
       "    <tr>\n",
       "      <th>4997</th>\n",
       "      <td>-0.287575</td>\n",
       "      <td>0.9354108121251281</td>\n",
       "      <td>-0.804564</td>\n",
       "      <td>0</td>\n",
       "    </tr>\n",
       "    <tr>\n",
       "      <th>4998</th>\n",
       "      <td>0.978160</td>\n",
       "      <td>1.0806602274484232</td>\n",
       "      <td>0.947937</td>\n",
       "      <td>1</td>\n",
       "    </tr>\n",
       "    <tr>\n",
       "      <th>4999</th>\n",
       "      <td>0.228668</td>\n",
       "      <td>0.9039355800442616</td>\n",
       "      <td>-0.838433</td>\n",
       "      <td>0</td>\n",
       "    </tr>\n",
       "  </tbody>\n",
       "</table>\n",
       "</div>"
      ],
      "text/plain": [
       "      Feature_0            Feature_1  Feature_2 Label\n",
       "4995  -0.393958  -1.7838043938979733   0.153619     1\n",
       "4996  -1.720548  -0.6341833261618026  -1.121617     0\n",
       "4997  -0.287575   0.9354108121251281  -0.804564     0\n",
       "4998   0.978160   1.0806602274484232   0.947937     1\n",
       "4999   0.228668   0.9039355800442616  -0.838433     0"
      ]
     },
     "execution_count": 5,
     "metadata": {},
     "output_type": "execute_result"
    },
    {
     "name": "stdout",
     "output_type": "stream",
     "text": [
      "<class 'pandas.core.frame.DataFrame'>\n",
      "RangeIndex: 5000 entries, 0 to 4999\n",
      "Data columns (total 4 columns):\n",
      "Feature_0    3999 non-null float64\n",
      "Feature_1    5000 non-null object\n",
      "Feature_2    5000 non-null float64\n",
      "Label        5000 non-null object\n",
      "dtypes: float64(2), object(2)\n",
      "memory usage: 156.4+ KB\n"
     ]
    }
   ],
   "source": [
    "# este pedaco de codigo faz com que\n",
    "# o jupyter notebook mostre multiplos\n",
    "# outputs numa mesma celula\n",
    "from IPython.core.interactiveshell import InteractiveShell\n",
    "InteractiveShell.ast_node_interactivity = \"all\"\n",
    "\n",
    "# import bilbiotecas\n",
    "import pandas as pd\n",
    "import numpy as np\n",
    "\n",
    "# variavel auxiliar para leitura dos dados\n",
    "ender_arquivo = 'data_examples/dados_8.csv'\n",
    "\n",
    "# leitura dos dados\n",
    "df = pd.read_csv(filepath_or_buffer=ender_arquivo, sep=';')\n",
    "\n",
    "# visualizando os dados\n",
    "df.head()\n",
    "df.tail()\n",
    "df.info()"
   ]
  },
  {
   "cell_type": "markdown",
   "metadata": {},
   "source": [
    "- Conseguimos ler o arquivo, mas temos algumas questões quando olhamos para as infos do DataFrame:\n",
    "    - Coluna Feature_0:\n",
    "        - Tipos de dados aparentemente corretos\n",
    "        - Temos alguns dados faltantes\n",
    "    - Coluna Feature_1:\n",
    "        - Tipos de dados divergentes, claramente são dados numéricos e o tipo está como **object**\n",
    "        - Aparentemente não temos dados faltantes\n",
    "    - Coluna Feature_2:\n",
    "        - Tipos de dados coerentes\n",
    "        - Aparentemente sem dados faltantes\n",
    "    - Coluna Label:\n",
    "        - Tipos de dados divergentes, temos dados do tipo int e o tipo está como **object**\n",
    "        - Aparentemente nenhum dado faltante"
   ]
  },
  {
   "cell_type": "markdown",
   "metadata": {},
   "source": [
    "**PRIMEIRAS EXPLORAÇÕES GRÁFICAS**\n",
    "- Teremos uma parte do curso dedicada para visualizações. Aqui usaremos a biblioteca matplotlib em conjunto com o Pandas para fazermos visualizações rápidas e com o intuito de explorar os dados e verificar essas divergências na leitura\n",
    "- Link para documentação de visualização do Pandas\n",
    "    - [Pandas Docs - User Guide - Visualization](https://pandas.pydata.org/pandas-docs/stable/user_guide/visualization.html#visualization)"
   ]
  },
  {
   "cell_type": "code",
   "execution_count": 6,
   "metadata": {},
   "outputs": [
    {
     "data": {
      "text/html": [
       "<div>\n",
       "<style scoped>\n",
       "    .dataframe tbody tr th:only-of-type {\n",
       "        vertical-align: middle;\n",
       "    }\n",
       "\n",
       "    .dataframe tbody tr th {\n",
       "        vertical-align: top;\n",
       "    }\n",
       "\n",
       "    .dataframe thead th {\n",
       "        text-align: right;\n",
       "    }\n",
       "</style>\n",
       "<table border=\"1\" class=\"dataframe\">\n",
       "  <thead>\n",
       "    <tr style=\"text-align: right;\">\n",
       "      <th></th>\n",
       "      <th>Feature_0</th>\n",
       "      <th>Feature_1</th>\n",
       "      <th>Feature_2</th>\n",
       "      <th>Label</th>\n",
       "    </tr>\n",
       "  </thead>\n",
       "  <tbody>\n",
       "    <tr>\n",
       "      <th>0</th>\n",
       "      <td>0.036435</td>\n",
       "      <td>1.192022418861353</td>\n",
       "      <td>-1.326348</td>\n",
       "      <td>0</td>\n",
       "    </tr>\n",
       "    <tr>\n",
       "      <th>1</th>\n",
       "      <td>-2.362614</td>\n",
       "      <td>0.999835110803413</td>\n",
       "      <td>-0.969421</td>\n",
       "      <td>0</td>\n",
       "    </tr>\n",
       "    <tr>\n",
       "      <th>2</th>\n",
       "      <td>-0.439421</td>\n",
       "      <td>0.4202877067824724</td>\n",
       "      <td>1.409511</td>\n",
       "      <td>1</td>\n",
       "    </tr>\n",
       "    <tr>\n",
       "      <th>3</th>\n",
       "      <td>-1.760930</td>\n",
       "      <td>-0.7317809156657651</td>\n",
       "      <td>-0.925953</td>\n",
       "      <td>0</td>\n",
       "    </tr>\n",
       "    <tr>\n",
       "      <th>4</th>\n",
       "      <td>-0.216907</td>\n",
       "      <td>1.3998695375029746</td>\n",
       "      <td>2.076070</td>\n",
       "      <td>1</td>\n",
       "    </tr>\n",
       "  </tbody>\n",
       "</table>\n",
       "</div>"
      ],
      "text/plain": [
       "   Feature_0            Feature_1  Feature_2 Label\n",
       "0   0.036435    1.192022418861353  -1.326348     0\n",
       "1  -2.362614    0.999835110803413  -0.969421     0\n",
       "2  -0.439421   0.4202877067824724   1.409511     1\n",
       "3  -1.760930  -0.7317809156657651  -0.925953     0\n",
       "4  -0.216907   1.3998695375029746   2.076070     1"
      ]
     },
     "execution_count": 6,
     "metadata": {},
     "output_type": "execute_result"
    },
    {
     "data": {
      "text/html": [
       "<div>\n",
       "<style scoped>\n",
       "    .dataframe tbody tr th:only-of-type {\n",
       "        vertical-align: middle;\n",
       "    }\n",
       "\n",
       "    .dataframe tbody tr th {\n",
       "        vertical-align: top;\n",
       "    }\n",
       "\n",
       "    .dataframe thead th {\n",
       "        text-align: right;\n",
       "    }\n",
       "</style>\n",
       "<table border=\"1\" class=\"dataframe\">\n",
       "  <thead>\n",
       "    <tr style=\"text-align: right;\">\n",
       "      <th></th>\n",
       "      <th>Feature_0</th>\n",
       "      <th>Feature_1</th>\n",
       "      <th>Feature_2</th>\n",
       "      <th>Label</th>\n",
       "    </tr>\n",
       "  </thead>\n",
       "  <tbody>\n",
       "    <tr>\n",
       "      <th>4995</th>\n",
       "      <td>-0.393958</td>\n",
       "      <td>-1.7838043938979733</td>\n",
       "      <td>0.153619</td>\n",
       "      <td>1</td>\n",
       "    </tr>\n",
       "    <tr>\n",
       "      <th>4996</th>\n",
       "      <td>-1.720548</td>\n",
       "      <td>-0.6341833261618026</td>\n",
       "      <td>-1.121617</td>\n",
       "      <td>0</td>\n",
       "    </tr>\n",
       "    <tr>\n",
       "      <th>4997</th>\n",
       "      <td>-0.287575</td>\n",
       "      <td>0.9354108121251281</td>\n",
       "      <td>-0.804564</td>\n",
       "      <td>0</td>\n",
       "    </tr>\n",
       "    <tr>\n",
       "      <th>4998</th>\n",
       "      <td>0.978160</td>\n",
       "      <td>1.0806602274484232</td>\n",
       "      <td>0.947937</td>\n",
       "      <td>1</td>\n",
       "    </tr>\n",
       "    <tr>\n",
       "      <th>4999</th>\n",
       "      <td>0.228668</td>\n",
       "      <td>0.9039355800442616</td>\n",
       "      <td>-0.838433</td>\n",
       "      <td>0</td>\n",
       "    </tr>\n",
       "  </tbody>\n",
       "</table>\n",
       "</div>"
      ],
      "text/plain": [
       "      Feature_0            Feature_1  Feature_2 Label\n",
       "4995  -0.393958  -1.7838043938979733   0.153619     1\n",
       "4996  -1.720548  -0.6341833261618026  -1.121617     0\n",
       "4997  -0.287575   0.9354108121251281  -0.804564     0\n",
       "4998   0.978160   1.0806602274484232   0.947937     1\n",
       "4999   0.228668   0.9039355800442616  -0.838433     0"
      ]
     },
     "execution_count": 6,
     "metadata": {},
     "output_type": "execute_result"
    },
    {
     "name": "stdout",
     "output_type": "stream",
     "text": [
      "<class 'pandas.core.frame.DataFrame'>\n",
      "RangeIndex: 5000 entries, 0 to 4999\n",
      "Data columns (total 4 columns):\n",
      "Feature_0    3999 non-null float64\n",
      "Feature_1    5000 non-null object\n",
      "Feature_2    5000 non-null float64\n",
      "Label        5000 non-null object\n",
      "dtypes: float64(2), object(2)\n",
      "memory usage: 156.4+ KB\n"
     ]
    }
   ],
   "source": [
    "# este pedaco de codigo faz com que\n",
    "# o jupyter notebook mostre multiplos\n",
    "# outputs numa mesma celula\n",
    "from IPython.core.interactiveshell import InteractiveShell\n",
    "InteractiveShell.ast_node_interactivity = \"all\"\n",
    "\n",
    "# import bilbiotecas\n",
    "import pandas as pd\n",
    "import numpy as np\n",
    "import matplotlib.pyplot as plt\n",
    "\n",
    "# variavel auxiliar para leitura dos dados\n",
    "ender_arquivo = 'data_examples/dados_8.csv'\n",
    "\n",
    "# leitura dos dados\n",
    "df = pd.read_csv(filepath_or_buffer=ender_arquivo, sep=';')\n",
    "\n",
    "# visualizando os dados\n",
    "df.head()\n",
    "df.tail()\n",
    "df.info()"
   ]
  },
  {
   "cell_type": "code",
   "execution_count": 9,
   "metadata": {},
   "outputs": [
    {
     "data": {
      "text/plain": [
       "<matplotlib.axes._subplots.AxesSubplot at 0x20aab6dcbe0>"
      ]
     },
     "execution_count": 9,
     "metadata": {},
     "output_type": "execute_result"
    },
    {
     "data": {
      "image/png": "[encoded data removed]",
      "text/plain": [
       "<Figure size 432x288 with 1 Axes>"
      ]
     },
     "metadata": {
      "needs_background": "light"
     },
     "output_type": "display_data"
    }
   ],
   "source": [
    "# plotando as colunas numericas\n",
    "df.plot()\n",
    "plt.show()"
   ]
  },
  {
   "cell_type": "markdown",
   "metadata": {},
   "source": [
    "- Observações que levantamos olhando para o gráfico:\n",
    "    - Com essa API de visualização do Pandas, usando o método .plot() direto no DataFrame, ele plota apenas as colunas numéricas\n",
    "    - As colunas Feature_0 e Feature_2 são muito parecidas\n",
    "    - Há um vale gigantesco nos dados da Feature_2. Num intervalo de dados eles ficam todos iguais e com valor próximo de -1000. Devemos questionar os donos dos dados sobre isso\n",
    "    - Poderíamos separar os dois gráficos para uma melhor avaliação?"
   ]
  },
  {
   "cell_type": "code",
   "execution_count": 12,
   "metadata": {},
   "outputs": [
    {
     "data": {
      "text/plain": [
       "array([<matplotlib.axes._subplots.AxesSubplot object at 0x0000020AAC876048>,\n",
       "       <matplotlib.axes._subplots.AxesSubplot object at 0x0000020AAC85ACC0>],\n",
       "      dtype=object)"
      ]
     },
     "execution_count": 12,
     "metadata": {},
     "output_type": "execute_result"
    },
    {
     "data": {
      "image/png": "[encoded data removed]",
      "text/plain": [
       "<Figure size 504x504 with 2 Axes>"
      ]
     },
     "metadata": {
      "needs_background": "light"
     },
     "output_type": "display_data"
    }
   ],
   "source": [
    "# plotando os gráficos separados\n",
    "df.plot(subplots=True, figsize=(7, 7))\n",
    "plt.show()"
   ]
  },
  {
   "cell_type": "markdown",
   "metadata": {},
   "source": [
    "- Apesar dos dados faltantes, a coluna Feature_0 está aparentemente tudo OK\n",
    "- A coluna Feature_2 tem aquele problema do vale com valores próximos de -1000, que aparentam estar no mesmo intervalo de observações da Feature_0, isso pode ser um padrão para perguntarmos para os donos dos dados\n",
    "- Vamos olhar para os dados que aparecem na coluna Feature_2, no intervalo das linhas 2.500 até 3.500\n",
    "- Veja que os valores aparentemente são todos -999\n",
    "- O dono dos dados nos disse que isso é uma flag para dados faltantes. Podemos indicar isso já em tempo de leitura com a função read_csv() e o parâmetro na_values e acertar essa parte, já que o Pandas tratou esses dados como numéricos e não como faltantes, o que pode causar problemas na modelagem e nas suas conclusões"
   ]
  },
  {
   "cell_type": "code",
   "execution_count": 17,
   "metadata": {},
   "outputs": [
    {
     "data": {
      "text/plain": [
       "2500   -999.0\n",
       "2501   -999.0\n",
       "2502   -999.0\n",
       "2503   -999.0\n",
       "2504   -999.0\n",
       "        ...  \n",
       "3496   -999.0\n",
       "3497   -999.0\n",
       "3498   -999.0\n",
       "3499   -999.0\n",
       "3500   -999.0\n",
       "Name: Feature_2, Length: 1001, dtype: float64"
      ]
     },
     "execution_count": 17,
     "metadata": {},
     "output_type": "execute_result"
    }
   ],
   "source": [
    "df.loc[2_500:3_500, 'Feature_2']"
   ]
  },
  {
   "cell_type": "markdown",
   "metadata": {},
   "source": [
    "**PARÂMETRO na_values**\n",
    "- Passamos para esse parâmetro um dicionário, onde a chave é o nome de uma ou mais colunas e os valores são as flags que nos indicam dados faltantes\n",
    "- Podemos passar mais de um valor por coluna, para fazer isso é só colocar uma lista de valores que são considerados faltantes na chave correspondente"
   ]
  },
  {
   "cell_type": "code",
   "execution_count": 59,
   "metadata": {
    "scrolled": false
   },
   "outputs": [
    {
     "data": {
      "text/html": [
       "<div>\n",
       "<style scoped>\n",
       "    .dataframe tbody tr th:only-of-type {\n",
       "        vertical-align: middle;\n",
       "    }\n",
       "\n",
       "    .dataframe tbody tr th {\n",
       "        vertical-align: top;\n",
       "    }\n",
       "\n",
       "    .dataframe thead th {\n",
       "        text-align: right;\n",
       "    }\n",
       "</style>\n",
       "<table border=\"1\" class=\"dataframe\">\n",
       "  <thead>\n",
       "    <tr style=\"text-align: right;\">\n",
       "      <th></th>\n",
       "      <th>Feature_0</th>\n",
       "      <th>Feature_1</th>\n",
       "      <th>Feature_2</th>\n",
       "      <th>Label</th>\n",
       "    </tr>\n",
       "  </thead>\n",
       "  <tbody>\n",
       "    <tr>\n",
       "      <th>0</th>\n",
       "      <td>0.036435</td>\n",
       "      <td>1.192022418861353</td>\n",
       "      <td>-1.326348</td>\n",
       "      <td>0</td>\n",
       "    </tr>\n",
       "    <tr>\n",
       "      <th>1</th>\n",
       "      <td>-2.362614</td>\n",
       "      <td>0.999835110803413</td>\n",
       "      <td>-0.969421</td>\n",
       "      <td>0</td>\n",
       "    </tr>\n",
       "    <tr>\n",
       "      <th>2</th>\n",
       "      <td>-0.439421</td>\n",
       "      <td>0.4202877067824724</td>\n",
       "      <td>1.409511</td>\n",
       "      <td>1</td>\n",
       "    </tr>\n",
       "    <tr>\n",
       "      <th>3</th>\n",
       "      <td>-1.760930</td>\n",
       "      <td>-0.7317809156657651</td>\n",
       "      <td>-0.925953</td>\n",
       "      <td>0</td>\n",
       "    </tr>\n",
       "    <tr>\n",
       "      <th>4</th>\n",
       "      <td>-0.216907</td>\n",
       "      <td>1.3998695375029746</td>\n",
       "      <td>2.076070</td>\n",
       "      <td>1</td>\n",
       "    </tr>\n",
       "  </tbody>\n",
       "</table>\n",
       "</div>"
      ],
      "text/plain": [
       "   Feature_0            Feature_1  Feature_2 Label\n",
       "0   0.036435    1.192022418861353  -1.326348     0\n",
       "1  -2.362614    0.999835110803413  -0.969421     0\n",
       "2  -0.439421   0.4202877067824724   1.409511     1\n",
       "3  -1.760930  -0.7317809156657651  -0.925953     0\n",
       "4  -0.216907   1.3998695375029746   2.076070     1"
      ]
     },
     "execution_count": 59,
     "metadata": {},
     "output_type": "execute_result"
    },
    {
     "data": {
      "text/html": [
       "<div>\n",
       "<style scoped>\n",
       "    .dataframe tbody tr th:only-of-type {\n",
       "        vertical-align: middle;\n",
       "    }\n",
       "\n",
       "    .dataframe tbody tr th {\n",
       "        vertical-align: top;\n",
       "    }\n",
       "\n",
       "    .dataframe thead th {\n",
       "        text-align: right;\n",
       "    }\n",
       "</style>\n",
       "<table border=\"1\" class=\"dataframe\">\n",
       "  <thead>\n",
       "    <tr style=\"text-align: right;\">\n",
       "      <th></th>\n",
       "      <th>Feature_0</th>\n",
       "      <th>Feature_1</th>\n",
       "      <th>Feature_2</th>\n",
       "      <th>Label</th>\n",
       "    </tr>\n",
       "  </thead>\n",
       "  <tbody>\n",
       "    <tr>\n",
       "      <th>4995</th>\n",
       "      <td>-0.393958</td>\n",
       "      <td>-1.7838043938979733</td>\n",
       "      <td>0.153619</td>\n",
       "      <td>1</td>\n",
       "    </tr>\n",
       "    <tr>\n",
       "      <th>4996</th>\n",
       "      <td>-1.720548</td>\n",
       "      <td>-0.6341833261618026</td>\n",
       "      <td>-1.121617</td>\n",
       "      <td>0</td>\n",
       "    </tr>\n",
       "    <tr>\n",
       "      <th>4997</th>\n",
       "      <td>-0.287575</td>\n",
       "      <td>0.9354108121251281</td>\n",
       "      <td>-0.804564</td>\n",
       "      <td>0</td>\n",
       "    </tr>\n",
       "    <tr>\n",
       "      <th>4998</th>\n",
       "      <td>0.978160</td>\n",
       "      <td>1.0806602274484232</td>\n",
       "      <td>0.947937</td>\n",
       "      <td>1</td>\n",
       "    </tr>\n",
       "    <tr>\n",
       "      <th>4999</th>\n",
       "      <td>0.228668</td>\n",
       "      <td>0.9039355800442616</td>\n",
       "      <td>-0.838433</td>\n",
       "      <td>0</td>\n",
       "    </tr>\n",
       "  </tbody>\n",
       "</table>\n",
       "</div>"
      ],
      "text/plain": [
       "      Feature_0            Feature_1  Feature_2 Label\n",
       "4995  -0.393958  -1.7838043938979733   0.153619     1\n",
       "4996  -1.720548  -0.6341833261618026  -1.121617     0\n",
       "4997  -0.287575   0.9354108121251281  -0.804564     0\n",
       "4998   0.978160   1.0806602274484232   0.947937     1\n",
       "4999   0.228668   0.9039355800442616  -0.838433     0"
      ]
     },
     "execution_count": 59,
     "metadata": {},
     "output_type": "execute_result"
    },
    {
     "name": "stdout",
     "output_type": "stream",
     "text": [
      "<class 'pandas.core.frame.DataFrame'>\n",
      "RangeIndex: 5000 entries, 0 to 4999\n",
      "Data columns (total 4 columns):\n",
      "Feature_0    3999 non-null float64\n",
      "Feature_1    5000 non-null object\n",
      "Feature_2    3999 non-null float64\n",
      "Label        5000 non-null object\n",
      "dtypes: float64(2), object(2)\n",
      "memory usage: 156.4+ KB\n"
     ]
    },
    {
     "data": {
      "text/plain": [
       "array([<matplotlib.axes._subplots.AxesSubplot object at 0x0000020AD8F77EB8>,\n",
       "       <matplotlib.axes._subplots.AxesSubplot object at 0x0000020AD80BCE48>],\n",
       "      dtype=object)"
      ]
     },
     "execution_count": 59,
     "metadata": {},
     "output_type": "execute_result"
    },
    {
     "data": {
      "image/png": "[encoded data removed]",
      "text/plain": [
       "<Figure size 504x504 with 2 Axes>"
      ]
     },
     "metadata": {
      "needs_background": "light"
     },
     "output_type": "display_data"
    }
   ],
   "source": [
    "# este pedaco de codigo faz com que\n",
    "# o jupyter notebook mostre multiplos\n",
    "# outputs numa mesma celula\n",
    "from IPython.core.interactiveshell import InteractiveShell\n",
    "InteractiveShell.ast_node_interactivity = \"all\"\n",
    "\n",
    "# import bilbiotecas\n",
    "import pandas as pd\n",
    "import numpy as np\n",
    "import matplotlib.pyplot as plt\n",
    "\n",
    "# variavel auxiliar para leitura dos dados\n",
    "ender_arquivo = 'data_examples/dados_8.csv'\n",
    "\n",
    "# leitura dos dados\n",
    "df = pd.read_csv(filepath_or_buffer=ender_arquivo, sep=';', na_values={'Feature_2': -999})\n",
    "\n",
    "# visualizando os dados\n",
    "df.head()\n",
    "df.tail()\n",
    "df.info()\n",
    "df.plot(subplots=True, figsize=(7, 7))\n",
    "plt.show()"
   ]
  },
  {
   "cell_type": "markdown",
   "metadata": {},
   "source": [
    "- **O QUE CONSEGUIMOS ARRUMAR NESSES DADOS:**\n",
    "    - Tínhamos valores faltantes na coluna Feature_2. Esses valores que estavam com o valor -999 estavam sendo tratados como numéricos, ou seja, isso poderia atrapalhar nosso modelo e análise\n",
    "    - Usando o parâmetro na_values, conseguimos arrumar essa questão e de quebra podemos levantar mais algumas perguntas:\n",
    "        - Veja com a ajuda do método .info() que a quantidade de dados faltantes na Feature_0 e Feature_2 são iguais, mais ainda, elas estão nas mesmas linhas\n",
    "        - Será que os outros dois dados podem estar com os mesmos problemas?\n",
    "    - Vamos verificar?"
   ]
  },
  {
   "cell_type": "code",
   "execution_count": 28,
   "metadata": {},
   "outputs": [
    {
     "data": {
      "text/html": [
       "<div>\n",
       "<style scoped>\n",
       "    .dataframe tbody tr th:only-of-type {\n",
       "        vertical-align: middle;\n",
       "    }\n",
       "\n",
       "    .dataframe tbody tr th {\n",
       "        vertical-align: top;\n",
       "    }\n",
       "\n",
       "    .dataframe thead th {\n",
       "        text-align: right;\n",
       "    }\n",
       "</style>\n",
       "<table border=\"1\" class=\"dataframe\">\n",
       "  <thead>\n",
       "    <tr style=\"text-align: right;\">\n",
       "      <th></th>\n",
       "      <th>Feature_1</th>\n",
       "      <th>Label</th>\n",
       "    </tr>\n",
       "  </thead>\n",
       "  <tbody>\n",
       "    <tr>\n",
       "      <th>2500</th>\n",
       "      <td>NAN</td>\n",
       "      <td>--</td>\n",
       "    </tr>\n",
       "    <tr>\n",
       "      <th>2501</th>\n",
       "      <td>NAN</td>\n",
       "      <td>--</td>\n",
       "    </tr>\n",
       "    <tr>\n",
       "      <th>2502</th>\n",
       "      <td>NAN</td>\n",
       "      <td>--</td>\n",
       "    </tr>\n",
       "    <tr>\n",
       "      <th>2503</th>\n",
       "      <td>NAN</td>\n",
       "      <td>--</td>\n",
       "    </tr>\n",
       "    <tr>\n",
       "      <th>2504</th>\n",
       "      <td>NAN</td>\n",
       "      <td>--</td>\n",
       "    </tr>\n",
       "    <tr>\n",
       "      <th>...</th>\n",
       "      <td>...</td>\n",
       "      <td>...</td>\n",
       "    </tr>\n",
       "    <tr>\n",
       "      <th>3496</th>\n",
       "      <td>NAN</td>\n",
       "      <td>--</td>\n",
       "    </tr>\n",
       "    <tr>\n",
       "      <th>3497</th>\n",
       "      <td>NAN</td>\n",
       "      <td>--</td>\n",
       "    </tr>\n",
       "    <tr>\n",
       "      <th>3498</th>\n",
       "      <td>NAN</td>\n",
       "      <td>--</td>\n",
       "    </tr>\n",
       "    <tr>\n",
       "      <th>3499</th>\n",
       "      <td>NAN</td>\n",
       "      <td>--</td>\n",
       "    </tr>\n",
       "    <tr>\n",
       "      <th>3500</th>\n",
       "      <td>NAN</td>\n",
       "      <td>--</td>\n",
       "    </tr>\n",
       "  </tbody>\n",
       "</table>\n",
       "<p>1001 rows × 2 columns</p>\n",
       "</div>"
      ],
      "text/plain": [
       "     Feature_1 Label\n",
       "2500       NAN    --\n",
       "2501       NAN    --\n",
       "2502       NAN    --\n",
       "2503       NAN    --\n",
       "2504       NAN    --\n",
       "...        ...   ...\n",
       "3496       NAN    --\n",
       "3497       NAN    --\n",
       "3498       NAN    --\n",
       "3499       NAN    --\n",
       "3500       NAN    --\n",
       "\n",
       "[1001 rows x 2 columns]"
      ]
     },
     "execution_count": 28,
     "metadata": {},
     "output_type": "execute_result"
    }
   ],
   "source": [
    "df.loc[2_500:3_500, ['Feature_1', 'Label']]"
   ]
  },
  {
   "cell_type": "markdown",
   "metadata": {},
   "source": [
    "- Perguntando para o dono dos dados, descobrimos que 'NAN' e '--' também são valores faltantes. Vamos passar isso para o parâmetro na_values"
   ]
  },
  {
   "cell_type": "code",
   "execution_count": 57,
   "metadata": {},
   "outputs": [
    {
     "data": {
      "text/html": [
       "<div>\n",
       "<style scoped>\n",
       "    .dataframe tbody tr th:only-of-type {\n",
       "        vertical-align: middle;\n",
       "    }\n",
       "\n",
       "    .dataframe tbody tr th {\n",
       "        vertical-align: top;\n",
       "    }\n",
       "\n",
       "    .dataframe thead th {\n",
       "        text-align: right;\n",
       "    }\n",
       "</style>\n",
       "<table border=\"1\" class=\"dataframe\">\n",
       "  <thead>\n",
       "    <tr style=\"text-align: right;\">\n",
       "      <th></th>\n",
       "      <th>Feature_0</th>\n",
       "      <th>Feature_1</th>\n",
       "      <th>Feature_2</th>\n",
       "      <th>Label</th>\n",
       "    </tr>\n",
       "  </thead>\n",
       "  <tbody>\n",
       "    <tr>\n",
       "      <th>0</th>\n",
       "      <td>0.036435</td>\n",
       "      <td>1.192022</td>\n",
       "      <td>-1.326348</td>\n",
       "      <td>0.0</td>\n",
       "    </tr>\n",
       "    <tr>\n",
       "      <th>1</th>\n",
       "      <td>-2.362614</td>\n",
       "      <td>0.999835</td>\n",
       "      <td>-0.969421</td>\n",
       "      <td>0.0</td>\n",
       "    </tr>\n",
       "    <tr>\n",
       "      <th>2</th>\n",
       "      <td>-0.439421</td>\n",
       "      <td>0.420288</td>\n",
       "      <td>1.409511</td>\n",
       "      <td>1.0</td>\n",
       "    </tr>\n",
       "    <tr>\n",
       "      <th>3</th>\n",
       "      <td>-1.760930</td>\n",
       "      <td>-0.731781</td>\n",
       "      <td>-0.925953</td>\n",
       "      <td>0.0</td>\n",
       "    </tr>\n",
       "    <tr>\n",
       "      <th>4</th>\n",
       "      <td>-0.216907</td>\n",
       "      <td>1.399870</td>\n",
       "      <td>2.076070</td>\n",
       "      <td>1.0</td>\n",
       "    </tr>\n",
       "  </tbody>\n",
       "</table>\n",
       "</div>"
      ],
      "text/plain": [
       "   Feature_0  Feature_1  Feature_2  Label\n",
       "0   0.036435   1.192022  -1.326348    0.0\n",
       "1  -2.362614   0.999835  -0.969421    0.0\n",
       "2  -0.439421   0.420288   1.409511    1.0\n",
       "3  -1.760930  -0.731781  -0.925953    0.0\n",
       "4  -0.216907   1.399870   2.076070    1.0"
      ]
     },
     "execution_count": 57,
     "metadata": {},
     "output_type": "execute_result"
    },
    {
     "data": {
      "text/html": [
       "<div>\n",
       "<style scoped>\n",
       "    .dataframe tbody tr th:only-of-type {\n",
       "        vertical-align: middle;\n",
       "    }\n",
       "\n",
       "    .dataframe tbody tr th {\n",
       "        vertical-align: top;\n",
       "    }\n",
       "\n",
       "    .dataframe thead th {\n",
       "        text-align: right;\n",
       "    }\n",
       "</style>\n",
       "<table border=\"1\" class=\"dataframe\">\n",
       "  <thead>\n",
       "    <tr style=\"text-align: right;\">\n",
       "      <th></th>\n",
       "      <th>Feature_0</th>\n",
       "      <th>Feature_1</th>\n",
       "      <th>Feature_2</th>\n",
       "      <th>Label</th>\n",
       "    </tr>\n",
       "  </thead>\n",
       "  <tbody>\n",
       "    <tr>\n",
       "      <th>4995</th>\n",
       "      <td>-0.393958</td>\n",
       "      <td>-1.783804</td>\n",
       "      <td>0.153619</td>\n",
       "      <td>1.0</td>\n",
       "    </tr>\n",
       "    <tr>\n",
       "      <th>4996</th>\n",
       "      <td>-1.720548</td>\n",
       "      <td>-0.634183</td>\n",
       "      <td>-1.121617</td>\n",
       "      <td>0.0</td>\n",
       "    </tr>\n",
       "    <tr>\n",
       "      <th>4997</th>\n",
       "      <td>-0.287575</td>\n",
       "      <td>0.935411</td>\n",
       "      <td>-0.804564</td>\n",
       "      <td>0.0</td>\n",
       "    </tr>\n",
       "    <tr>\n",
       "      <th>4998</th>\n",
       "      <td>0.978160</td>\n",
       "      <td>1.080660</td>\n",
       "      <td>0.947937</td>\n",
       "      <td>1.0</td>\n",
       "    </tr>\n",
       "    <tr>\n",
       "      <th>4999</th>\n",
       "      <td>0.228668</td>\n",
       "      <td>0.903936</td>\n",
       "      <td>-0.838433</td>\n",
       "      <td>0.0</td>\n",
       "    </tr>\n",
       "  </tbody>\n",
       "</table>\n",
       "</div>"
      ],
      "text/plain": [
       "      Feature_0  Feature_1  Feature_2  Label\n",
       "4995  -0.393958  -1.783804   0.153619    1.0\n",
       "4996  -1.720548  -0.634183  -1.121617    0.0\n",
       "4997  -0.287575   0.935411  -0.804564    0.0\n",
       "4998   0.978160   1.080660   0.947937    1.0\n",
       "4999   0.228668   0.903936  -0.838433    0.0"
      ]
     },
     "execution_count": 57,
     "metadata": {},
     "output_type": "execute_result"
    },
    {
     "name": "stdout",
     "output_type": "stream",
     "text": [
      "<class 'pandas.core.frame.DataFrame'>\n",
      "RangeIndex: 5000 entries, 0 to 4999\n",
      "Data columns (total 4 columns):\n",
      "Feature_0    3999 non-null float64\n",
      "Feature_1    3999 non-null float64\n",
      "Feature_2    3999 non-null float64\n",
      "Label        3999 non-null float64\n",
      "dtypes: float64(4)\n",
      "memory usage: 156.4 KB\n"
     ]
    },
    {
     "data": {
      "text/plain": [
       "array([<matplotlib.axes._subplots.AxesSubplot object at 0x0000020AB3AD4550>,\n",
       "       <matplotlib.axes._subplots.AxesSubplot object at 0x0000020AB3E24B70>,\n",
       "       <matplotlib.axes._subplots.AxesSubplot object at 0x0000020AB42089B0>,\n",
       "       <matplotlib.axes._subplots.AxesSubplot object at 0x0000020AB45EA7F0>],\n",
       "      dtype=object)"
      ]
     },
     "execution_count": 57,
     "metadata": {},
     "output_type": "execute_result"
    },
    {
     "data": {
      "image/png": "[encoded data removed]",
      "text/plain": [
       "<Figure size 504x504 with 4 Axes>"
      ]
     },
     "metadata": {
      "needs_background": "light"
     },
     "output_type": "display_data"
    }
   ],
   "source": [
    "# este pedaco de codigo faz com que\n",
    "# o jupyter notebook mostre multiplos\n",
    "# outputs numa mesma celula\n",
    "from IPython.core.interactiveshell import InteractiveShell\n",
    "InteractiveShell.ast_node_interactivity = \"all\"\n",
    "\n",
    "# import bilbiotecas\n",
    "import pandas as pd\n",
    "import numpy as np\n",
    "import matplotlib.pyplot as plt\n",
    "\n",
    "# variavel auxiliar para leitura dos dados\n",
    "ender_arquivo = 'data_examples/dados_8.csv'\n",
    "\n",
    "# leitura dos dados\n",
    "dict_navalue = {'Feature_1': 'NAN', 'Feature_2': -999, 'Label': '--'} \n",
    "df = pd.read_csv(filepath_or_buffer=ender_arquivo, sep=';', na_values=dict_navalue)\n",
    "\n",
    "# visualizando os dados\n",
    "df.head()\n",
    "df.tail()\n",
    "df.info()\n",
    "df.plot(subplots=True, figsize=(7, 7))\n",
    "plt.show()"
   ]
  },
  {
   "cell_type": "markdown",
   "metadata": {},
   "source": [
    "- **FINALMENTE**:\n",
    "    - Todas as colunas têm a mesma quantidade de dados faltantes. Isso nem sempre ocorre e nem é um problema, aqui nesses dados específicos nós podemos excluir essas linhas que são totalmente vazias, já que elas não irão ajudar em nada.\n",
    "    - Os dados faltantes ocorrem no mesmo intervalo de linhas\n",
    "    - Nós fizemos tudo que poderíamos ter feito em tempo de leitura. O próximo passo é tratar e limpar esses dados faltantes"
   ]
  }
 ],
 "metadata": {
  "kernelspec": {
   "display_name": "Python 3",
   "language": "python",
   "name": "python3"
  },
  "language_info": {
   "codemirror_mode": {
    "name": "ipython",
    "version": 3
   },
   "file_extension": ".py",
   "mimetype": "text/x-python",
   "name": "python",
   "nbconvert_exporter": "python",
   "pygments_lexer": "ipython3",
   "version": "3.7.3"
  }
 },
 "nbformat": 4,
 "nbformat_minor": 2
}
