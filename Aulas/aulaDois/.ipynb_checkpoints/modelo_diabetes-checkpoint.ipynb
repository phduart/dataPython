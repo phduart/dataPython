{
 "cells": [
  {
   "cell_type": "markdown",
   "metadata": {},
   "source": [
    "# Primeiro Modelo Machine Learning\n",
    "## Prevendo a prob de um dado paciente ter diabetes ou não"
   ]
  },
  {
   "cell_type": "markdown",
   "metadata": {},
   "source": [
    "### Referências\n",
    "\n",
    "- Leitura de Dados em formato .csv do Pandas - <br><br>[Pandas Docs - API Reference - Input/Output - Flat File - read_csv](https://pandas.pydata.org/pandas-docs/stable/reference/api/pandas.read_csv.html#pandas-read-csv)\n",
    "<br><br>[Pandas Docs - User Guide - IO tools (text, CSV, HDF5, …)](https://pandas.pydata.org/pandas-docs/stable/user_guide/io.html#io-tools-text-csv-hdf5)\n",
    "\n",
    "***\n",
    "\n",
    "- Como excluir(drop) uma coluna do DataFrame(tabela) - <br><br>[Pandas Docs - API Reference - DataFrame - Reindexing/selection/label manipulation - DataFrame.drop](https://pandas.pydata.org/pandas-docs/stable/reference/api/pandas.DataFrame.drop.html#pandas-dataframe-drop)\n",
    "\n",
    "***\n",
    "\n",
    "- Como selecionar apenas uma coluna do DataFrame(tabela) - <br><br>[Pandas Docs - API Reference - DataFrame - Indexing, iteration - DataFrame.loc](https://pandas.pydata.org/pandas-docs/stable/reference/api/pandas.DataFrame.loc.html#pandas-dataframe-loc)\n",
    "<br><br>[Pandas Docs - User Guide - Indexing and selecting data](https://pandas.pydata.org/pandas-docs/stable/user_guide/indexing.html#indexing-and-selecting-data)\n",
    "\n",
    "***\n",
    "\n",
    "- Dividindo entre dados de teste e treino - <br><br>[Scikit-learn Docs - API Reference - sklearn.model_selection: Model Selection - Splitter Functions - model_selection.train_test_split](https://scikit-learn.org/stable/modules/generated/sklearn.model_selection.train_test_split.html#sklearn-model-selection-train-test-split)\n",
    "<br><br>[Scikit-learn Docs - User Guide - 3. Model selection and evaluation - 3.1. Cross-validation: evaluating estimator performance](https://scikit-learn.org/stable/modules/cross_validation.html#cross-validation-evaluating-estimator-performance)\n",
    "\n",
    "***\n",
    "\n",
    "- Instanciando, treinando e prevendo - <br><br>[Scikit-learn Docs - Tutorial - An introduction to machine learning with scikit-learn - Learning and predicting](https://scikit-learn.org/stable/tutorial/basic/tutorial.html#learning-and-predicting)\n",
    "\n",
    "***\n",
    "\n",
    "- Usando o Random Forest Classifier - <br><br>[Scikit-learn Docs - API Reference - sklearn.ensemble: Ensemble Methods - ensemble.RandomForestClassifier](https://scikit-learn.org/stable/modules/generated/sklearn.ensemble.RandomForestClassifier.html#sklearn-ensemble-randomforestclassifier)\n",
    "\n",
    "***\n",
    "\n",
    "- Avaliando o modelo - <br><br>[Scikit-learn Docs - API Reference - sklearn.metrics: Metrics - Classification metrics - metrics.accuracy_score](https://scikit-learn.org/stable/modules/generated/sklearn.metrics.accuracy_score.html#sklearn-metrics-accuracy-score)\n",
    "<br><br>[Scikit-learn Docs - User Guide - 3. Model selection and evaluation - 3.3. Model evaluation: quantifying the quality of predictions - 3.3.2. Classification metrics](https://scikit-learn.org/stable/modules/model_evaluation.html#classification-metrics)"
   ]
  },
  {
   "cell_type": "code",
   "execution_count": 3,
   "metadata": {},
   "outputs": [
    {
     "name": "stdout",
     "output_type": "stream",
     "text": [
      "A acurácia do modelo é de 70.13%\n"
     ]
    }
   ],
   "source": [
    "# importando as bibliotecas auxiliares\n",
    "from pandas import read_csv\n",
    "from sklearn.model_selection import train_test_split \n",
    "from sklearn.tree import DecisionTreeClassifier\n",
    "from sklearn.metrics import accuracy_score\n",
    "\n",
    "# leitura de dados\n",
    "FILE_NAME = 'data/diabetes.csv'\n",
    "df_diabetes = read_csv(filepath_or_buffer=FILE_NAME)\n",
    "\n",
    "# split entre features e labels\n",
    "X = df_diabetes.drop(columns='Outcome')\n",
    "y = df_diabetes.loc[:, 'Outcome']\n",
    "\n",
    "# split entre dados de treino e teste\n",
    "X_train, X_test, y_train, y_test = train_test_split(X, y, test_size=0.3, random_state=42)\n",
    "\n",
    "# instanciando e treinando o modelo\n",
    "modelo = DecisionTreeClassifier(random_state=42)\n",
    "modelo.fit(X_train, y_train)\n",
    "\n",
    "# previsoes do modelo\n",
    "y_pred = modelo.predict(X_test)\n",
    "\n",
    "# avaliando o modelo\n",
    "acc_modelo = accuracy_score(y_test, y_pred) * 100\n",
    "print(f'A acurácia do modelo é de {acc_modelo:.2f}%')"
   ]
  },
  {
   "cell_type": "markdown",
   "metadata": {},
   "source": [
    "***\n",
    "***"
   ]
  },
  {
   "cell_type": "markdown",
   "metadata": {},
   "source": [
    "# Segundo Modelo de Machine Learning\n",
    "## Prevendo a Mediana do preço de casas em Boston"
   ]
  },
  {
   "cell_type": "code",
   "execution_count": 41,
   "metadata": {},
   "outputs": [
    {
     "name": "stdout",
     "output_type": "stream",
     "text": [
      "O MAE do modelo é: 2.41\n"
     ]
    }
   ],
   "source": [
    "# importando as bibliotecas auxiliares\n",
    "from pandas import read_csv\n",
    "from sklearn.model_selection import train_test_split \n",
    "from sklearn.tree import DecisionTreeRegressor\n",
    "from sklearn.metrics import mean_absolute_error\n",
    "\n",
    "# leitura de dados\n",
    "FILE_NAME = 'data/boston_housing.csv'\n",
    "boston_housing = read_csv(filepath_or_buffer=FILE_NAME)\n",
    "\n",
    "# split entre features e labels\n",
    "X = boston_housing.drop(columns='MEDV')\n",
    "y =boston_housing.loc[:, 'MEDV']\n",
    "\n",
    "# split entre dados de treino e teste\n",
    "X_train, X_test, y_train, y_test = train_test_split(X, y, test_size=0.3, random_state=42)\n",
    "\n",
    "# instanciando e treinando o modelo\n",
    "modelo = DecisionTreeRegressor(random_state=42)\n",
    "modelo.fit(X_train, y_train)\n",
    "\n",
    "# previsoes do modelo\n",
    "y_pred = modelo.predict(X_test)\n",
    "\n",
    "# avaliando o modelo\n",
    "mae_modelo = mean_absolute_error(y_test, y_pred)\n",
    "print(f'O MAE do modelo é: {mae_modelo:.2f}')"
   ]
  }
 ],
 "metadata": {
  "kernelspec": {
   "display_name": "Python 3",
   "language": "python",
   "name": "python3"
  },
  "language_info": {
   "codemirror_mode": {
    "name": "ipython",
    "version": 3
   },
   "file_extension": ".py",
   "mimetype": "text/x-python",
   "name": "python",
   "nbconvert_exporter": "python",
   "pygments_lexer": "ipython3",
   "version": "3.7.5"
  }
 },
 "nbformat": 4,
 "nbformat_minor": 2
}
